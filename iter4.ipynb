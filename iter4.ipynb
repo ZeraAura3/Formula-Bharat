{
 "cells": [
  {
   "cell_type": "code",
   "execution_count": 8,
   "id": "9fc39588",
   "metadata": {},
   "outputs": [
    {
     "data": {
      "application/vnd.jupyter.widget-view+json": {
       "model_id": "272463e945f84da38405b4182a1c613b",
       "version_major": 2,
       "version_minor": 0
      },
      "text/plain": [
       "VBox(children=(HBox(children=(RadioButtons(description='Control Mode:', options=('Turning Radius', 'Inner Angl…"
      ]
     },
     "metadata": {},
     "output_type": "display_data"
    },
    {
     "data": {
      "application/vnd.plotly.v1+json": {
       "config": {
        "plotlyServerURL": "https://plot.ly"
       },
       "data": [
        {
         "line": {
          "color": "blue",
          "width": 2
         },
         "mode": "lines",
         "name": "Ackermann",
         "type": "scatter",
         "x": {
          "bdata": "AAAAAAAA8D/HcRzHcRz3P47jOI7jOP4/qqqqqqqqAkCO4ziO4zgGQHIcx3EcxwlAVVVVVVVVDUAcx3Ecx3EQQI7jOI7jOBJAAAAAAAAAFEByHMdxHMcVQOM4juM4jhdAVVVVVVVVGUDHcRzHcRwbQDiO4ziO4xxAqqqqqqqqHkCO4ziO4zggQMdxHMdxHCFAAAAAAAAAIkA5juM4juMiQHIcx3EcxyNAqqqqqqqqJEDjOI7jOI4lQBzHcRzHcSZAVVVVVVVVJ0CO4ziO4zgoQMdxHMdxHClAAAAAAAAAKkA4juM4juMqQHEcx3EcxytAqqqqqqqqLEDjOI7jOI4tQBzHcRzHcS5AVVVVVVVVL0DHcRzHcRwwQOQ4juM4jjBAAAAAAAAAMUAcx3Ecx3ExQDmO4ziO4zFAVVVVVVVVMkByHMdxHMcyQI7jOI7jODNAqqqqqqqqM0DHcRzHcRw0QOM4juM4jjRAAAAAAAAANUAcx3Ecx3E1QDmO4ziO4zVAVVVVVVVVNkBxHMdxHMc2QI7jOI7jODdAqqqqqqqqN0DHcRzHcRw4QOM4juM4jjhAAAAAAAAAOUAcx3Ecx3E5QDiO4ziO4zlAVVVVVVVVOkBxHMdxHMc6QI7jOI7jODtAqqqqqqqqO0DHcRzHcRw8QOM4juM4jjxAAAAAAAAAPUAcx3Ecx3E9QDiO4ziO4z1AVVVVVVVVPkBxHMdxHMc+QI7jOI7jOD9AqqqqqqqqP0DkOI7jOA5AQHIcx3EcR0BAAAAAAACAQECO4ziO47hAQBzHcRzH8UBAqqqqqqoqQUA5juM4jmNBQMdxHMdxnEFAVVVVVVXVQUDjOI7jOA5CQHIcx3EcR0JAAAAAAACAQkCO4ziO47hCQBzHcRzH8UJAqqqqqqoqQ0A5juM4jmNDQMdxHMdxnENAVVVVVVXVQ0DjOI7jOA5EQHEcx3EcR0RAAAAAAACARECO4ziO47hEQBzHcRzH8URAqqqqqqoqRUA5juM4jmNFQMdxHMdxnEVAVVVVVVXVRUDjOI7jOA5GQHEcx3EcR0ZAAAAAAACARkA=",
          "dtype": "f8"
         },
         "xaxis": "x",
         "y": [
          0.9896375808384094,
          1.4229254989771039,
          1.852263395609248,
          2.2777084443116977,
          2.6993175754284215,
          3.1171474442376934,
          3.5312544014669403,
          3.941694466048234,
          4.3485233000100205,
          4.75179618540346,
          5.151568003164616,
          5.547893213816663,
          5.94082583991936,
          6.330419450176013,
          6.7167271451113795,
          7.099801544236902,
          7.479694774622887,
          7.8564584608002646,
          8.230143715917627,
          8.600801134082225,
          8.968480783816634,
          9.3332322025656,
          9.695104392190576,
          10.054145815392047,
          10.41040439300265,
          10.763927502096575,
          11.114761974863397,
          11.46295409819692,
          11.808549613952035,
          12.151593719824902,
          12.492131070814036,
          12.830205781222032,
          13.165861427159685,
          13.499141049516355,
          13.830087157362323,
          14.158741731750649,
          14.485146229887897,
          14.809341589644784,
          15.131368234379424,
          15.451266078047246,
          15.769074530573448,
          16.08483250346496,
          16.39857841564037,
          16.710350199457608,
          17.02018530692027,
          17.328120716044715,
          17.634192937371225,
          17.938438020603357,
          18.24089156136096,
          18.54158870803294,
          18.84056416871694,
          19.137852218233988,
          19.433486705206803,
          19.727501059191457,
          20.019928297852584,
          20.310801034173146,
          20.60015148369048,
          20.88801147175076,
          21.174412440774784,
          21.459385457528484,
          21.742961220392043,
          22.025170066622074,
          22.306041979601616,
          22.585606596073386,
          22.863893213351954,
          23.140930796510904,
          23.416747985541548,
          23.691373102479897,
          23.964834158499148,
          24.237158860965057,
          24.508374620451953,
          24.778508557717434,
          25.04758751063397,
          25.315638041075875,
          25.582686441760494,
          25.848758743042374,
          26.11388071965972,
          26.378077897432227,
          26.64137555991009,
          26.903798754973494,
          27.165372301382636,
          27.42612079527812,
          27.686068616631783,
          27.945239935648278,
          28.203658719117456,
          28.46134873671835,
          28.718333567274954,
          28.97463660496458,
          29.230281065479492,
          29.485289992142523,
          29.739686261977685,
          29.9934925917365,
          30.24673154388132,
          30.499425532526416,
          30.751596829338197,
          31.00326756939556,
          31.25445975701171,
          31.505195271518673,
          31.755495873015775,
          32.005383208083494
         ],
         "yaxis": "y"
        },
        {
         "line": {
          "color": "black",
          "dash": "dash",
          "width": 2
         },
         "mode": "lines",
         "name": "Parallel",
         "type": "scatter",
         "x": {
          "bdata": "AAAAAAAA8D/HcRzHcRz3P47jOI7jOP4/qqqqqqqqAkCO4ziO4zgGQHIcx3EcxwlAVVVVVVVVDUAcx3Ecx3EQQI7jOI7jOBJAAAAAAAAAFEByHMdxHMcVQOM4juM4jhdAVVVVVVVVGUDHcRzHcRwbQDiO4ziO4xxAqqqqqqqqHkCO4ziO4zggQMdxHMdxHCFAAAAAAAAAIkA5juM4juMiQHIcx3EcxyNAqqqqqqqqJEDjOI7jOI4lQBzHcRzHcSZAVVVVVVVVJ0CO4ziO4zgoQMdxHMdxHClAAAAAAAAAKkA4juM4juMqQHEcx3EcxytAqqqqqqqqLEDjOI7jOI4tQBzHcRzHcS5AVVVVVVVVL0DHcRzHcRwwQOQ4juM4jjBAAAAAAAAAMUAcx3Ecx3ExQDmO4ziO4zFAVVVVVVVVMkByHMdxHMcyQI7jOI7jODNAqqqqqqqqM0DHcRzHcRw0QOM4juM4jjRAAAAAAAAANUAcx3Ecx3E1QDmO4ziO4zVAVVVVVVVVNkBxHMdxHMc2QI7jOI7jODdAqqqqqqqqN0DHcRzHcRw4QOM4juM4jjhAAAAAAAAAOUAcx3Ecx3E5QDiO4ziO4zlAVVVVVVVVOkBxHMdxHMc6QI7jOI7jODtAqqqqqqqqO0DHcRzHcRw8QOM4juM4jjxAAAAAAAAAPUAcx3Ecx3E9QDiO4ziO4z1AVVVVVVVVPkBxHMdxHMc+QI7jOI7jOD9AqqqqqqqqP0DkOI7jOA5AQHIcx3EcR0BAAAAAAACAQECO4ziO47hAQBzHcRzH8UBAqqqqqqoqQUA5juM4jmNBQMdxHMdxnEFAVVVVVVXVQUDjOI7jOA5CQHIcx3EcR0JAAAAAAACAQkCO4ziO47hCQBzHcRzH8UJAqqqqqqoqQ0A5juM4jmNDQMdxHMdxnENAVVVVVVXVQ0DjOI7jOA5EQHEcx3EcR0RAAAAAAACARECO4ziO47hEQBzHcRzH8URAqqqqqqoqRUA5juM4jmNFQMdxHMdxnEVAVVVVVVXVRUDjOI7jOA5GQHEcx3EcR0ZAAAAAAACARkA=",
          "dtype": "f8"
         },
         "xaxis": "x",
         "y": {
          "bdata": "AAAAAAAA8D/HcRzHcRz3P47jOI7jOP4/qqqqqqqqAkCO4ziO4zgGQHIcx3EcxwlAVVVVVVVVDUAcx3Ecx3EQQI7jOI7jOBJAAAAAAAAAFEByHMdxHMcVQOM4juM4jhdAVVVVVVVVGUDHcRzHcRwbQDiO4ziO4xxAqqqqqqqqHkCO4ziO4zggQMdxHMdxHCFAAAAAAAAAIkA5juM4juMiQHIcx3EcxyNAqqqqqqqqJEDjOI7jOI4lQBzHcRzHcSZAVVVVVVVVJ0CO4ziO4zgoQMdxHMdxHClAAAAAAAAAKkA4juM4juMqQHEcx3EcxytAqqqqqqqqLEDjOI7jOI4tQBzHcRzHcS5AVVVVVVVVL0DHcRzHcRwwQOQ4juM4jjBAAAAAAAAAMUAcx3Ecx3ExQDmO4ziO4zFAVVVVVVVVMkByHMdxHMcyQI7jOI7jODNAqqqqqqqqM0DHcRzHcRw0QOM4juM4jjRAAAAAAAAANUAcx3Ecx3E1QDmO4ziO4zVAVVVVVVVVNkBxHMdxHMc2QI7jOI7jODdAqqqqqqqqN0DHcRzHcRw4QOM4juM4jjhAAAAAAAAAOUAcx3Ecx3E5QDiO4ziO4zlAVVVVVVVVOkBxHMdxHMc6QI7jOI7jODtAqqqqqqqqO0DHcRzHcRw8QOM4juM4jjxAAAAAAAAAPUAcx3Ecx3E9QDiO4ziO4z1AVVVVVVVVPkBxHMdxHMc+QI7jOI7jOD9AqqqqqqqqP0DkOI7jOA5AQHIcx3EcR0BAAAAAAACAQECO4ziO47hAQBzHcRzH8UBAqqqqqqoqQUA5juM4jmNBQMdxHMdxnEFAVVVVVVXVQUDjOI7jOA5CQHIcx3EcR0JAAAAAAACAQkCO4ziO47hCQBzHcRzH8UJAqqqqqqoqQ0A5juM4jmNDQMdxHMdxnENAVVVVVVXVQ0DjOI7jOA5EQHEcx3EcR0RAAAAAAACARECO4ziO47hEQBzHcRzH8URAqqqqqqoqRUA5juM4jmNFQMdxHMdxnEVAVVVVVVXVRUDjOI7jOA5GQHEcx3EcR0ZAAAAAAACARkA=",
          "dtype": "f8"
         },
         "yaxis": "y"
        },
        {
         "marker": {
          "color": "red",
          "size": 10
         },
         "mode": "markers",
         "showlegend": false,
         "type": "scatter",
         "x": [
          30.46554491945988
         ],
         "xaxis": "x",
         "y": [
          23.498565675952097
         ],
         "yaxis": "y"
        },
        {
         "line": {
          "color": "green",
          "width": 2
         },
         "mode": "lines",
         "showlegend": false,
         "type": "scatter",
         "x": {
          "bdata": "AAAAAAAA8D/HcRzHcRz3P47jOI7jOP4/qqqqqqqqAkCO4ziO4zgGQHIcx3EcxwlAVVVVVVVVDUAcx3Ecx3EQQI7jOI7jOBJAAAAAAAAAFEByHMdxHMcVQOM4juM4jhdAVVVVVVVVGUDHcRzHcRwbQDiO4ziO4xxAqqqqqqqqHkCO4ziO4zggQMdxHMdxHCFAAAAAAAAAIkA5juM4juMiQHIcx3EcxyNAqqqqqqqqJEDjOI7jOI4lQBzHcRzHcSZAVVVVVVVVJ0CO4ziO4zgoQMdxHMdxHClAAAAAAAAAKkA4juM4juMqQHEcx3EcxytAqqqqqqqqLEDjOI7jOI4tQBzHcRzHcS5AVVVVVVVVL0DHcRzHcRwwQOQ4juM4jjBAAAAAAAAAMUAcx3Ecx3ExQDmO4ziO4zFAVVVVVVVVMkByHMdxHMcyQI7jOI7jODNAqqqqqqqqM0DHcRzHcRw0QOM4juM4jjRAAAAAAAAANUAcx3Ecx3E1QDmO4ziO4zVAVVVVVVVVNkBxHMdxHMc2QI7jOI7jODdAqqqqqqqqN0DHcRzHcRw4QOM4juM4jjhAAAAAAAAAOUAcx3Ecx3E5QDiO4ziO4zlAVVVVVVVVOkBxHMdxHMc6QI7jOI7jODtAqqqqqqqqO0DHcRzHcRw8QOM4juM4jjxAAAAAAAAAPUAcx3Ecx3E9QDiO4ziO4z1AVVVVVVVVPkBxHMdxHMc+QI7jOI7jOD9AqqqqqqqqP0DkOI7jOA5AQHIcx3EcR0BAAAAAAACAQECO4ziO47hAQBzHcRzH8UBAqqqqqqoqQUA5juM4jmNBQMdxHMdxnEFAVVVVVVXVQUDjOI7jOA5CQHIcx3EcR0JAAAAAAACAQkCO4ziO47hCQBzHcRzH8UJAqqqqqqoqQ0A5juM4jmNDQMdxHMdxnENAVVVVVVXVQ0DjOI7jOA5EQHEcx3EcR0RAAAAAAACARECO4ziO47hEQBzHcRzH8URAqqqqqqoqRUA5juM4jmNFQMdxHMdxnEVAVVVVVVXVRUDjOI7jOA5GQHEcx3EcR0ZAAAAAAACARkA=",
          "dtype": "f8"
         },
         "xaxis": "x2",
         "y": [
          143.97490407689855,
          99.89476275113118,
          76.55517458950486,
          62.10439448208344,
          52.275794089558886,
          45.15674682895493,
          39.76196014244217,
          35.53221386204521,
          32.12652001938886,
          29.325130756903356,
          26.980052568226284,
          24.98796918445208,
          23.274565350374033,
          21.785018295312437,
          20.4780000454763,
          19.321765888540668,
          18.291528822466407,
          17.367652357928794,
          16.53437878668761,
          15.778916527118046,
          15.090773578806779,
          14.46126298886028,
          13.883130677059912,
          13.350271698599332,
          12.857511361048909,
          12.400434535745642,
          11.975251221627044,
          11.578689685710389,
          11.207910798844809,
          10.860438818995076,
          10.534105052050181,
          10.227001679098809,
          9.937443672353604,
          9.663937193467742,
          9.40515322247142,
          9.159905434392936,
          8.92713154621035,
          8.705877515221143,
          8.495284092931076,
          8.294575334737814,
          8.103048741372156,
          7.920066767997429,
          7.745049484614268,
          7.577468209668241,
          7.416839969564755,
          7.262722661734505,
          7.114710819179989,
          6.972431891013303,
          6.835542967105813,
          6.703727886190468,
          6.576694676045087,
          6.454173282102724,
          6.3359135472726695,
          6.221683411144468,
          6.111267301273896,
          6.0044646930648655,
          5.9010888179867385,
          5.800965502602168,
          5.703932123207498,
          5.609836662872835,
          5.518536859366887,
          5.429899433908167,
          5.343799391936516,
          5.260119388178559,
          5.178749149213768,
          5.0995849475558295,
          5.022529121965708,
          4.947489639323078,
          4.874379693915026,
          4.803117340465908,
          4.733625157639256,
          4.66582993909968,
          4.599662409536457,
          4.535056963326753,
          4.471951423760002,
          4.410286820960279,
          4.350007186833894,
          4.291059365538403,
          4.23339283811903,
          4.176959560091905,
          4.121713810872186,
          4.067612054051025,
          4.01461280761996,
          3.962676523325838,
          3.9117654744152075,
          3.8618436510950134,
          3.8128766630974855,
          3.7648316487919495,
          3.717677190335714,
          3.6713832344006807,
          3.6259210180525243,
          3.581262999395583,
          3.5373827926294337,
          3.4942551071928625,
          3.451855690697892,
          3.4101612753809847,
          3.369149527820753,
          3.3287990016917206,
          3.2890890933420627,
          3.2500000000000004
         ],
         "yaxis": "y2"
        },
        {
         "marker": {
          "color": "red",
          "size": 10
         },
         "mode": "markers",
         "showlegend": false,
         "type": "scatter",
         "x": [
          30.46554491945988
         ],
         "xaxis": "x2",
         "y": [
          5
         ],
         "yaxis": "y2"
        },
        {
         "mode": "text",
         "showlegend": false,
         "text": [
          "Interactive 3D wheel geometry<br>will be implemented with controls"
         ],
         "textposition": "middle center",
         "type": "scatter",
         "x": [
          0
         ],
         "xaxis": "x3",
         "y": [
          0
         ],
         "yaxis": "y3"
        },
        {
         "line": {
          "color": "blue",
          "width": 2
         },
         "mode": "lines",
         "showlegend": false,
         "type": "scatter",
         "x": {
          "bdata": "AAAAAAAA8D/HcRzHcRz3P47jOI7jOP4/qqqqqqqqAkCO4ziO4zgGQHIcx3EcxwlAVVVVVVVVDUAcx3Ecx3EQQI7jOI7jOBJAAAAAAAAAFEByHMdxHMcVQOM4juM4jhdAVVVVVVVVGUDHcRzHcRwbQDiO4ziO4xxAqqqqqqqqHkCO4ziO4zggQMdxHMdxHCFAAAAAAAAAIkA5juM4juMiQHIcx3EcxyNAqqqqqqqqJEDjOI7jOI4lQBzHcRzHcSZAVVVVVVVVJ0CO4ziO4zgoQMdxHMdxHClAAAAAAAAAKkA4juM4juMqQHEcx3EcxytAqqqqqqqqLEDjOI7jOI4tQBzHcRzHcS5AVVVVVVVVL0DHcRzHcRwwQOQ4juM4jjBAAAAAAAAAMUAcx3Ecx3ExQDmO4ziO4zFAVVVVVVVVMkByHMdxHMcyQI7jOI7jODNAqqqqqqqqM0DHcRzHcRw0QOM4juM4jjRAAAAAAAAANUAcx3Ecx3E1QDmO4ziO4zVAVVVVVVVVNkBxHMdxHMc2QI7jOI7jODdAqqqqqqqqN0DHcRzHcRw4QOM4juM4jjhAAAAAAAAAOUAcx3Ecx3E5QDiO4ziO4zlAVVVVVVVVOkBxHMdxHMc6QI7jOI7jODtAqqqqqqqqO0DHcRzHcRw8QOM4juM4jjxAAAAAAAAAPUAcx3Ecx3E9QDiO4ziO4z1AVVVVVVVVPkBxHMdxHMc+QI7jOI7jOD9AqqqqqqqqP0DkOI7jOA5AQHIcx3EcR0BAAAAAAACAQECO4ziO47hAQBzHcRzH8UBAqqqqqqoqQUA5juM4jmNBQMdxHMdxnEFAVVVVVVXVQUDjOI7jOA5CQHIcx3EcR0JAAAAAAACAQkCO4ziO47hCQBzHcRzH8UJAqqqqqqoqQ0A5juM4jmNDQMdxHMdxnENAVVVVVVXVQ0DjOI7jOA5EQHEcx3EcR0RAAAAAAACARECO4ziO47hEQBzHcRzH8URAqqqqqqoqRUA5juM4jmNFQMdxHMdxnEVAVVVVVVXVRUDjOI7jOA5GQHEcx3EcR0ZAAAAAAACARkA=",
          "dtype": "f8"
         },
         "xaxis": "x4",
         "y": [
          100,
          100,
          100,
          100,
          100,
          100,
          100,
          100,
          100,
          100,
          100,
          100,
          100,
          100,
          100,
          100,
          100,
          100,
          100,
          100,
          100,
          100,
          100,
          100,
          100,
          100,
          100,
          100,
          100,
          100,
          100,
          100,
          100,
          100,
          100,
          100,
          100,
          100,
          100,
          100,
          100,
          100,
          100,
          100,
          100,
          100,
          100,
          100,
          100,
          100,
          100,
          100,
          100,
          100,
          100,
          100,
          100,
          100,
          100,
          100,
          100,
          100,
          100,
          100,
          100,
          100,
          100,
          100,
          100,
          100,
          100,
          100,
          100,
          100,
          100,
          100,
          100,
          100,
          100,
          100,
          100,
          100,
          100,
          100,
          100,
          100,
          100,
          100,
          100,
          100,
          100,
          100,
          100,
          100,
          100,
          100,
          100,
          100,
          100,
          100
         ],
         "yaxis": "y4"
        },
        {
         "marker": {
          "color": "red",
          "size": 10
         },
         "mode": "markers",
         "showlegend": false,
         "type": "scatter",
         "x": [
          30.46554491945988
         ],
         "xaxis": "x4",
         "y": [
          100
         ],
         "yaxis": "y4"
        },
        {
         "line": {
          "color": "magenta",
          "width": 2
         },
         "mode": "lines",
         "showlegend": false,
         "type": "scatter",
         "x": {
          "bdata": "AAAAAAAAAAAXXXTRRRcdQBdddNFFFy1A0UUXXXTRNUAXXXTRRRc9QC666KKLLkJA0UUXXXTRRUB00UUXXXRJQBdddNFFF01AXXTRRRddUEAuuuiiiy5SQAAAAAAAAFRA0UUXXXTRVUCjiy666KJXQHTRRRdddFlARhdddNFFW0AXXXTRRRddQOiiiy666F5AXXTRRRddYEBGF1100UVhQC666KKLLmJAF1100UUXY0AAAAAAAABkQOmiiy666GRA0UUXXXTRZUC66KKLLrpmQKOLLrroomdAiy666KKLaEB00UUXXXRpQF100UUXXWpARhdddNFFa0Auuuiiiy5sQBdddNFFF21AAAAAAAAAbkDooosuuuhuQNFFF1100W9AXXTRRRddcEDRRRdddNFwQEYXXXTRRXFAuuiiiy66cUAuuuiiiy5yQKOLLrroonJAF1100UUXc0CLLrroootzQAAAAAAAAHRAdNFFF110dEDpoosuuuh0QF100UUXXXVA0UUXXXTRdUBGF1100UV2QLrooosuunZALrrooosud0Cjiy666KJ3QBdddNFFF3hAiy666KKLeEAAAAAAAAB5QHTRRRdddHlA6KKLLrroeUBddNFFF116QNFFF1100XpARhdddNFFe0C66KKLLrp7QC666KKLLnxAo4suuuiifEAXXXTRRRd9QIsuuuiii31AAAAAAAAAfkB00UUXXXR+QOiiiy666H5AXXTRRRddf0DRRRdddNF/QKOLLrroIoBAXXTRRRddgEAXXXTRRZeAQNFFF1100YBAiy666KILgUBGF1100UWBQAAAAAAAgIFAuuiiiy66gUB00UUXXfSBQC666KKLLoJA6aKLLrpogkCjiy666KKCQF100UUX3YJAF1100UUXg0DRRRdddFGDQIsuuuiii4NARhdddNHFg0AAAAAAAACEQLrooosuOoRAdNFFF110hEAuuuiii66EQOmiiy666IRAo4suuugihUBddNFFF12FQBdddNFFl4VA0UUXXXTRhUCLLrrooguGQEYXXXTRRYZAAAAAAACAhkA=",
          "dtype": "f8"
         },
         "xaxis": "x5",
         "y": [
          0,
          0.4848484848484848,
          0.9696969696969696,
          1.4545454545454544,
          1.9393939393939392,
          2.424242424242424,
          2.9090909090909087,
          3.3939393939393936,
          3.8787878787878785,
          4.363636363636363,
          4.848484848484848,
          5.333333333333333,
          5.8181818181818175,
          6.303030303030303,
          6.787878787878787,
          7.2727272727272725,
          7.757575757575757,
          8.242424242424242,
          8.727272727272727,
          9.212121212121213,
          9.696969696969695,
          10.181818181818182,
          10.666666666666666,
          11.151515151515152,
          11.636363636363635,
          12.121212121212121,
          12.606060606060606,
          13.09090909090909,
          13.575757575757574,
          14.06060606060606,
          14.545454545454545,
          15.03030303030303,
          15.515151515151514,
          16,
          16.484848484848484,
          16.96969696969697,
          17.454545454545453,
          17.939393939393938,
          18.424242424242426,
          18.90909090909091,
          19.39393939393939,
          19.87878787878788,
          20.363636363636363,
          20.848484848484848,
          21.333333333333332,
          21.818181818181817,
          22.303030303030305,
          22.78787878787879,
          23.27272727272727,
          23.757575757575758,
          24.242424242424242,
          24.727272727272727,
          25.21212121212121,
          25.696969696969695,
          26.18181818181818,
          26.666666666666668,
          27.15151515151515,
          27.636363636363633,
          28.12121212121212,
          28.606060606060606,
          29.09090909090909,
          29.575757575757574,
          30.06060606060606,
          30.545454545454547,
          31.030303030303028,
          31.515151515151512,
          32,
          32.484848484848484,
          32.96969696969697,
          33.45454545454545,
          33.93939393939394,
          34.42424242424242,
          34.90909090909091,
          35.39393939393939,
          35.878787878787875,
          36.36363636363636,
          36.84848484848485,
          37.333333333333336,
          37.81818181818182,
          38.3030303030303,
          38.78787878787878,
          39.27272727272727,
          39.75757575757576,
          40,
          40,
          40,
          40,
          40,
          40,
          40,
          40,
          40,
          40,
          40,
          40,
          40,
          40,
          40,
          40,
          40
         ],
         "yaxis": "y5"
        },
        {
         "marker": {
          "color": "red",
          "size": 10
         },
         "mode": "markers",
         "showlegend": false,
         "type": "scatter",
         "x": [
          456.9831737918982
         ],
         "xaxis": "x5",
         "y": [
          30.46554491945988
         ],
         "yaxis": "y5"
        },
        {
         "mode": "text",
         "showlegend": false,
         "text": [
          "<b>Ackermann Steering Simulator</b><br><br>• Use widgets below to adjust vehicle parameters<br>• Observe how changes affect steering geometry<br>• Ackermann steering ensures inner wheel turns<br>  at a sharper angle than the outer wheel<br>• This reduces tire scrub during turns"
         ],
         "textposition": "middle center",
         "type": "scatter",
         "x": [
          0
         ],
         "xaxis": "x6",
         "y": [
          0
         ],
         "yaxis": "y6"
        },
        {
         "fill": "toself",
         "fillcolor": "rgba(0,0,255,0.1)",
         "line": {
          "color": "blue",
          "width": 2
         },
         "mode": "lines",
         "name": "Vehicle",
         "type": "scatter",
         "x": [
          0,
          2.5,
          2.5,
          0,
          0
         ],
         "xaxis": "x7",
         "y": [
          -0.75,
          -0.75,
          0.75,
          0.75,
          -0.75
         ],
         "yaxis": "y7"
        },
        {
         "fill": "toself",
         "fillcolor": "black",
         "line": {
          "color": "black",
          "width": 2
         },
         "mode": "lines",
         "name": "Front Left Wheel",
         "type": "scatter",
         "x": [
          2.430284732597533,
          2.645768286386976,
          2.569715267402467,
          2.354231713613024,
          2.430284732597533
         ],
         "xaxis": "x7",
         "y": [
          0.6219774180427431,
          0.7487324496835915,
          0.8780225819572569,
          0.7512675503164085,
          0.6219774180427431
         ],
         "yaxis": "y7"
        },
        {
         "fill": "toself",
         "fillcolor": "black",
         "line": {
          "color": "black",
          "width": 2
         },
         "mode": "lines",
         "name": "Front Right Wheel",
         "type": "scatter",
         "x": [
          2.4152707013244292,
          2.644538215387738,
          2.5847292986755708,
          2.355461784612262,
          2.4152707013244292
         ],
         "xaxis": "x7",
         "y": [
          -0.868621018145799,
          -0.7689394902921864,
          -0.631378981854201,
          -0.7310605097078136,
          -0.868621018145799
         ],
         "yaxis": "y7"
        },
        {
         "fill": "toself",
         "fillcolor": "black",
         "line": {
          "color": "black",
          "width": 2
         },
         "mode": "lines",
         "name": "Rear Left Wheel",
         "type": "scatter",
         "x": [
          -0.125,
          0.125,
          0.125,
          -0.125,
          -0.125
         ],
         "xaxis": "x7",
         "y": [
          0.675,
          0.675,
          0.825,
          0.825,
          0.675
         ],
         "yaxis": "y7"
        },
        {
         "fill": "toself",
         "fillcolor": "black",
         "line": {
          "color": "black",
          "width": 2
         },
         "mode": "lines",
         "name": "Rear Right Wheel",
         "type": "scatter",
         "x": [
          -0.125,
          0.125,
          0.125,
          -0.125,
          -0.125
         ],
         "xaxis": "x7",
         "y": [
          -0.825,
          -0.825,
          -0.675,
          -0.675,
          -0.825
         ],
         "yaxis": "y7"
        },
        {
         "marker": {
          "color": "red",
          "size": 10
         },
         "mode": "markers",
         "name": "Turning Center",
         "type": "scatter",
         "x": [
          -5
         ],
         "xaxis": "x7",
         "y": [
          0
         ],
         "yaxis": "y7"
        },
        {
         "line": {
          "color": "red",
          "dash": "dash",
          "width": 1
         },
         "mode": "lines",
         "name": "Radius to Rear Axle",
         "type": "scatter",
         "x": [
          -5,
          0
         ],
         "xaxis": "x7",
         "y": [
          0,
          0
         ],
         "yaxis": "y7"
        },
        {
         "line": {
          "color": "red",
          "dash": "dash",
          "width": 1
         },
         "mode": "lines",
         "name": "Radius to Inner Wheel",
         "type": "scatter",
         "x": [
          -5,
          2.5
         ],
         "xaxis": "x7",
         "y": [
          0,
          0.75
         ],
         "yaxis": "y7"
        },
        {
         "line": {
          "color": "red",
          "dash": "dash",
          "width": 1
         },
         "mode": "lines",
         "name": "Radius to Outer Wheel",
         "type": "scatter",
         "x": [
          -5,
          2.5
         ],
         "xaxis": "x7",
         "y": [
          0,
          -0.75
         ],
         "yaxis": "y7"
        },
        {
         "mode": "text",
         "showlegend": false,
         "text": [
          "Inner angle: 30.5°<br>Outer angle: 23.5°<br>Turning radius: 5.0m<br>Track width: 1.5m<br>Wheelbase: 2.5m<br>Ackermann %: 100.0%"
         ],
         "textposition": "top right",
         "type": "scatter",
         "x": [
          1.25
         ],
         "xaxis": "x7",
         "y": [
          1.5
         ],
         "yaxis": "y7"
        }
       ],
       "layout": {
        "annotations": [
         {
          "font": {
           "size": 16
          },
          "showarrow": false,
          "text": "Ackermann Steering Angle Relationship",
          "x": 0.15,
          "xanchor": "center",
          "xref": "paper",
          "y": 1,
          "yanchor": "bottom",
          "yref": "paper"
         },
         {
          "font": {
           "size": 16
          },
          "showarrow": false,
          "text": "Turning Radius vs Inner Angle",
          "x": 0.49999999999999994,
          "xanchor": "center",
          "xref": "paper",
          "y": 1,
          "yanchor": "bottom",
          "yref": "paper"
         },
         {
          "font": {
           "size": 16
          },
          "showarrow": false,
          "text": "Wheel Steering Geometry",
          "x": 0.85,
          "xanchor": "center",
          "xref": "paper",
          "y": 1,
          "yanchor": "bottom",
          "yref": "paper"
         },
         {
          "font": {
           "size": 16
          },
          "showarrow": false,
          "text": "Ackermann Compliance",
          "x": 0.15,
          "xanchor": "center",
          "xref": "paper",
          "y": 0.6333333333333333,
          "yanchor": "bottom",
          "yref": "paper"
         },
         {
          "font": {
           "size": 16
          },
          "showarrow": false,
          "text": "Steering Ratio Effects",
          "x": 0.49999999999999994,
          "xanchor": "center",
          "xref": "paper",
          "y": 0.6333333333333333,
          "yanchor": "bottom",
          "yref": "paper"
         },
         {
          "font": {
           "size": 16
          },
          "showarrow": false,
          "text": "Instructions",
          "x": 0.85,
          "xanchor": "center",
          "xref": "paper",
          "y": 0.6333333333333333,
          "yanchor": "bottom",
          "yref": "paper"
         },
         {
          "font": {
           "size": 16
          },
          "showarrow": false,
          "text": "Vehicle Top-Down View",
          "x": 0.5,
          "xanchor": "center",
          "xref": "paper",
          "y": 0.26666666666666666,
          "yanchor": "bottom",
          "yref": "paper"
         }
        ],
        "height": 900,
        "legend": {
         "bordercolor": "Black",
         "borderwidth": 1,
         "orientation": "v",
         "x": 1.02,
         "xanchor": "left",
         "y": 0.5,
         "yanchor": "middle"
        },
        "showlegend": true,
        "template": {
         "data": {
          "bar": [
           {
            "error_x": {
             "color": "#2a3f5f"
            },
            "error_y": {
             "color": "#2a3f5f"
            },
            "marker": {
             "line": {
              "color": "#E5ECF6",
              "width": 0.5
             },
             "pattern": {
              "fillmode": "overlay",
              "size": 10,
              "solidity": 0.2
             }
            },
            "type": "bar"
           }
          ],
          "barpolar": [
           {
            "marker": {
             "line": {
              "color": "#E5ECF6",
              "width": 0.5
             },
             "pattern": {
              "fillmode": "overlay",
              "size": 10,
              "solidity": 0.2
             }
            },
            "type": "barpolar"
           }
          ],
          "carpet": [
           {
            "aaxis": {
             "endlinecolor": "#2a3f5f",
             "gridcolor": "white",
             "linecolor": "white",
             "minorgridcolor": "white",
             "startlinecolor": "#2a3f5f"
            },
            "baxis": {
             "endlinecolor": "#2a3f5f",
             "gridcolor": "white",
             "linecolor": "white",
             "minorgridcolor": "white",
             "startlinecolor": "#2a3f5f"
            },
            "type": "carpet"
           }
          ],
          "choropleth": [
           {
            "colorbar": {
             "outlinewidth": 0,
             "ticks": ""
            },
            "type": "choropleth"
           }
          ],
          "contour": [
           {
            "colorbar": {
             "outlinewidth": 0,
             "ticks": ""
            },
            "colorscale": [
             [
              0,
              "#0d0887"
             ],
             [
              0.1111111111111111,
              "#46039f"
             ],
             [
              0.2222222222222222,
              "#7201a8"
             ],
             [
              0.3333333333333333,
              "#9c179e"
             ],
             [
              0.4444444444444444,
              "#bd3786"
             ],
             [
              0.5555555555555556,
              "#d8576b"
             ],
             [
              0.6666666666666666,
              "#ed7953"
             ],
             [
              0.7777777777777778,
              "#fb9f3a"
             ],
             [
              0.8888888888888888,
              "#fdca26"
             ],
             [
              1,
              "#f0f921"
             ]
            ],
            "type": "contour"
           }
          ],
          "contourcarpet": [
           {
            "colorbar": {
             "outlinewidth": 0,
             "ticks": ""
            },
            "type": "contourcarpet"
           }
          ],
          "heatmap": [
           {
            "colorbar": {
             "outlinewidth": 0,
             "ticks": ""
            },
            "colorscale": [
             [
              0,
              "#0d0887"
             ],
             [
              0.1111111111111111,
              "#46039f"
             ],
             [
              0.2222222222222222,
              "#7201a8"
             ],
             [
              0.3333333333333333,
              "#9c179e"
             ],
             [
              0.4444444444444444,
              "#bd3786"
             ],
             [
              0.5555555555555556,
              "#d8576b"
             ],
             [
              0.6666666666666666,
              "#ed7953"
             ],
             [
              0.7777777777777778,
              "#fb9f3a"
             ],
             [
              0.8888888888888888,
              "#fdca26"
             ],
             [
              1,
              "#f0f921"
             ]
            ],
            "type": "heatmap"
           }
          ],
          "histogram": [
           {
            "marker": {
             "pattern": {
              "fillmode": "overlay",
              "size": 10,
              "solidity": 0.2
             }
            },
            "type": "histogram"
           }
          ],
          "histogram2d": [
           {
            "colorbar": {
             "outlinewidth": 0,
             "ticks": ""
            },
            "colorscale": [
             [
              0,
              "#0d0887"
             ],
             [
              0.1111111111111111,
              "#46039f"
             ],
             [
              0.2222222222222222,
              "#7201a8"
             ],
             [
              0.3333333333333333,
              "#9c179e"
             ],
             [
              0.4444444444444444,
              "#bd3786"
             ],
             [
              0.5555555555555556,
              "#d8576b"
             ],
             [
              0.6666666666666666,
              "#ed7953"
             ],
             [
              0.7777777777777778,
              "#fb9f3a"
             ],
             [
              0.8888888888888888,
              "#fdca26"
             ],
             [
              1,
              "#f0f921"
             ]
            ],
            "type": "histogram2d"
           }
          ],
          "histogram2dcontour": [
           {
            "colorbar": {
             "outlinewidth": 0,
             "ticks": ""
            },
            "colorscale": [
             [
              0,
              "#0d0887"
             ],
             [
              0.1111111111111111,
              "#46039f"
             ],
             [
              0.2222222222222222,
              "#7201a8"
             ],
             [
              0.3333333333333333,
              "#9c179e"
             ],
             [
              0.4444444444444444,
              "#bd3786"
             ],
             [
              0.5555555555555556,
              "#d8576b"
             ],
             [
              0.6666666666666666,
              "#ed7953"
             ],
             [
              0.7777777777777778,
              "#fb9f3a"
             ],
             [
              0.8888888888888888,
              "#fdca26"
             ],
             [
              1,
              "#f0f921"
             ]
            ],
            "type": "histogram2dcontour"
           }
          ],
          "mesh3d": [
           {
            "colorbar": {
             "outlinewidth": 0,
             "ticks": ""
            },
            "type": "mesh3d"
           }
          ],
          "parcoords": [
           {
            "line": {
             "colorbar": {
              "outlinewidth": 0,
              "ticks": ""
             }
            },
            "type": "parcoords"
           }
          ],
          "pie": [
           {
            "automargin": true,
            "type": "pie"
           }
          ],
          "scatter": [
           {
            "fillpattern": {
             "fillmode": "overlay",
             "size": 10,
             "solidity": 0.2
            },
            "type": "scatter"
           }
          ],
          "scatter3d": [
           {
            "line": {
             "colorbar": {
              "outlinewidth": 0,
              "ticks": ""
             }
            },
            "marker": {
             "colorbar": {
              "outlinewidth": 0,
              "ticks": ""
             }
            },
            "type": "scatter3d"
           }
          ],
          "scattercarpet": [
           {
            "marker": {
             "colorbar": {
              "outlinewidth": 0,
              "ticks": ""
             }
            },
            "type": "scattercarpet"
           }
          ],
          "scattergeo": [
           {
            "marker": {
             "colorbar": {
              "outlinewidth": 0,
              "ticks": ""
             }
            },
            "type": "scattergeo"
           }
          ],
          "scattergl": [
           {
            "marker": {
             "colorbar": {
              "outlinewidth": 0,
              "ticks": ""
             }
            },
            "type": "scattergl"
           }
          ],
          "scattermap": [
           {
            "marker": {
             "colorbar": {
              "outlinewidth": 0,
              "ticks": ""
             }
            },
            "type": "scattermap"
           }
          ],
          "scattermapbox": [
           {
            "marker": {
             "colorbar": {
              "outlinewidth": 0,
              "ticks": ""
             }
            },
            "type": "scattermapbox"
           }
          ],
          "scatterpolar": [
           {
            "marker": {
             "colorbar": {
              "outlinewidth": 0,
              "ticks": ""
             }
            },
            "type": "scatterpolar"
           }
          ],
          "scatterpolargl": [
           {
            "marker": {
             "colorbar": {
              "outlinewidth": 0,
              "ticks": ""
             }
            },
            "type": "scatterpolargl"
           }
          ],
          "scatterternary": [
           {
            "marker": {
             "colorbar": {
              "outlinewidth": 0,
              "ticks": ""
             }
            },
            "type": "scatterternary"
           }
          ],
          "surface": [
           {
            "colorbar": {
             "outlinewidth": 0,
             "ticks": ""
            },
            "colorscale": [
             [
              0,
              "#0d0887"
             ],
             [
              0.1111111111111111,
              "#46039f"
             ],
             [
              0.2222222222222222,
              "#7201a8"
             ],
             [
              0.3333333333333333,
              "#9c179e"
             ],
             [
              0.4444444444444444,
              "#bd3786"
             ],
             [
              0.5555555555555556,
              "#d8576b"
             ],
             [
              0.6666666666666666,
              "#ed7953"
             ],
             [
              0.7777777777777778,
              "#fb9f3a"
             ],
             [
              0.8888888888888888,
              "#fdca26"
             ],
             [
              1,
              "#f0f921"
             ]
            ],
            "type": "surface"
           }
          ],
          "table": [
           {
            "cells": {
             "fill": {
              "color": "#EBF0F8"
             },
             "line": {
              "color": "white"
             }
            },
            "header": {
             "fill": {
              "color": "#C8D4E3"
             },
             "line": {
              "color": "white"
             }
            },
            "type": "table"
           }
          ]
         },
         "layout": {
          "annotationdefaults": {
           "arrowcolor": "#2a3f5f",
           "arrowhead": 0,
           "arrowwidth": 1
          },
          "autotypenumbers": "strict",
          "coloraxis": {
           "colorbar": {
            "outlinewidth": 0,
            "ticks": ""
           }
          },
          "colorscale": {
           "diverging": [
            [
             0,
             "#8e0152"
            ],
            [
             0.1,
             "#c51b7d"
            ],
            [
             0.2,
             "#de77ae"
            ],
            [
             0.3,
             "#f1b6da"
            ],
            [
             0.4,
             "#fde0ef"
            ],
            [
             0.5,
             "#f7f7f7"
            ],
            [
             0.6,
             "#e6f5d0"
            ],
            [
             0.7,
             "#b8e186"
            ],
            [
             0.8,
             "#7fbc41"
            ],
            [
             0.9,
             "#4d9221"
            ],
            [
             1,
             "#276419"
            ]
           ],
           "sequential": [
            [
             0,
             "#0d0887"
            ],
            [
             0.1111111111111111,
             "#46039f"
            ],
            [
             0.2222222222222222,
             "#7201a8"
            ],
            [
             0.3333333333333333,
             "#9c179e"
            ],
            [
             0.4444444444444444,
             "#bd3786"
            ],
            [
             0.5555555555555556,
             "#d8576b"
            ],
            [
             0.6666666666666666,
             "#ed7953"
            ],
            [
             0.7777777777777778,
             "#fb9f3a"
            ],
            [
             0.8888888888888888,
             "#fdca26"
            ],
            [
             1,
             "#f0f921"
            ]
           ],
           "sequentialminus": [
            [
             0,
             "#0d0887"
            ],
            [
             0.1111111111111111,
             "#46039f"
            ],
            [
             0.2222222222222222,
             "#7201a8"
            ],
            [
             0.3333333333333333,
             "#9c179e"
            ],
            [
             0.4444444444444444,
             "#bd3786"
            ],
            [
             0.5555555555555556,
             "#d8576b"
            ],
            [
             0.6666666666666666,
             "#ed7953"
            ],
            [
             0.7777777777777778,
             "#fb9f3a"
            ],
            [
             0.8888888888888888,
             "#fdca26"
            ],
            [
             1,
             "#f0f921"
            ]
           ]
          },
          "colorway": [
           "#636efa",
           "#EF553B",
           "#00cc96",
           "#ab63fa",
           "#FFA15A",
           "#19d3f3",
           "#FF6692",
           "#B6E880",
           "#FF97FF",
           "#FECB52"
          ],
          "font": {
           "color": "#2a3f5f"
          },
          "geo": {
           "bgcolor": "white",
           "lakecolor": "white",
           "landcolor": "#E5ECF6",
           "showlakes": true,
           "showland": true,
           "subunitcolor": "white"
          },
          "hoverlabel": {
           "align": "left"
          },
          "hovermode": "closest",
          "mapbox": {
           "style": "light"
          },
          "paper_bgcolor": "white",
          "plot_bgcolor": "#E5ECF6",
          "polar": {
           "angularaxis": {
            "gridcolor": "white",
            "linecolor": "white",
            "ticks": ""
           },
           "bgcolor": "#E5ECF6",
           "radialaxis": {
            "gridcolor": "white",
            "linecolor": "white",
            "ticks": ""
           }
          },
          "scene": {
           "xaxis": {
            "backgroundcolor": "#E5ECF6",
            "gridcolor": "white",
            "gridwidth": 2,
            "linecolor": "white",
            "showbackground": true,
            "ticks": "",
            "zerolinecolor": "white"
           },
           "yaxis": {
            "backgroundcolor": "#E5ECF6",
            "gridcolor": "white",
            "gridwidth": 2,
            "linecolor": "white",
            "showbackground": true,
            "ticks": "",
            "zerolinecolor": "white"
           },
           "zaxis": {
            "backgroundcolor": "#E5ECF6",
            "gridcolor": "white",
            "gridwidth": 2,
            "linecolor": "white",
            "showbackground": true,
            "ticks": "",
            "zerolinecolor": "white"
           }
          },
          "shapedefaults": {
           "line": {
            "color": "#2a3f5f"
           }
          },
          "ternary": {
           "aaxis": {
            "gridcolor": "white",
            "linecolor": "white",
            "ticks": ""
           },
           "baxis": {
            "gridcolor": "white",
            "linecolor": "white",
            "ticks": ""
           },
           "bgcolor": "#E5ECF6",
           "caxis": {
            "gridcolor": "white",
            "linecolor": "white",
            "ticks": ""
           }
          },
          "title": {
           "x": 0.05
          },
          "xaxis": {
           "automargin": true,
           "gridcolor": "white",
           "linecolor": "white",
           "ticks": "",
           "title": {
            "standoff": 15
           },
           "zerolinecolor": "white",
           "zerolinewidth": 2
          },
          "yaxis": {
           "automargin": true,
           "gridcolor": "white",
           "linecolor": "white",
           "ticks": "",
           "title": {
            "standoff": 15
           },
           "zerolinecolor": "white",
           "zerolinewidth": 2
          }
         }
        },
        "title": {
         "text": "Ackermann Steering Simulator"
        },
        "width": 1200,
        "xaxis": {
         "anchor": "y",
         "domain": [
          0,
          0.3
         ],
         "range": [
          0,
          45
         ],
         "title": {
          "text": "Inner Steering Angle (degrees)"
         }
        },
        "xaxis2": {
         "anchor": "y2",
         "domain": [
          0.35,
          0.6499999999999999
         ],
         "range": [
          0,
          45
         ],
         "title": {
          "text": "Inner Steering Angle (degrees)"
         }
        },
        "xaxis3": {
         "anchor": "y3",
         "domain": [
          0.7,
          1
         ]
        },
        "xaxis4": {
         "anchor": "y4",
         "domain": [
          0,
          0.3
         ],
         "range": [
          0,
          45
         ],
         "title": {
          "text": "Inner Steering Angle (degrees)"
         }
        },
        "xaxis5": {
         "anchor": "y5",
         "domain": [
          0.35,
          0.6499999999999999
         ],
         "range": [
          0,
          720
         ],
         "title": {
          "text": "Steering Wheel Angle (degrees)"
         }
        },
        "xaxis6": {
         "anchor": "y6",
         "domain": [
          0.7,
          1
         ]
        },
        "xaxis7": {
         "anchor": "y7",
         "domain": [
          0,
          1
         ],
         "range": [
          -12,
          5
         ],
         "title": {
          "text": "X (m)"
         }
        },
        "yaxis": {
         "anchor": "x",
         "domain": [
          0.7333333333333334,
          1
         ],
         "range": [
          0,
          45
         ],
         "title": {
          "text": "Outer Steering Angle (degrees)"
         }
        },
        "yaxis2": {
         "anchor": "x2",
         "domain": [
          0.7333333333333334,
          1
         ],
         "range": [
          0,
          20
         ],
         "title": {
          "text": "Turning Radius (m)"
         }
        },
        "yaxis3": {
         "anchor": "x3",
         "domain": [
          0.7333333333333334,
          1
         ]
        },
        "yaxis4": {
         "anchor": "x4",
         "domain": [
          0.3666666666666667,
          0.6333333333333333
         ],
         "range": [
          0,
          110
         ],
         "title": {
          "text": "Ackermann Percentage (%)"
         }
        },
        "yaxis5": {
         "anchor": "x5",
         "domain": [
          0.3666666666666667,
          0.6333333333333333
         ],
         "range": [
          0,
          44
         ],
         "title": {
          "text": "Road Wheel Angle (degrees)"
         }
        },
        "yaxis6": {
         "anchor": "x6",
         "domain": [
          0.3666666666666667,
          0.6333333333333333
         ]
        },
        "yaxis7": {
         "anchor": "x7",
         "domain": [
          0,
          0.26666666666666666
         ],
         "range": [
          -5,
          5
         ],
         "title": {
          "text": "Y (m)"
         }
        }
       }
      }
     },
     "metadata": {},
     "output_type": "display_data"
    }
   ],
   "source": [
    "import numpy as np\n",
    "import plotly.graph_objects as go\n",
    "from plotly.subplots import make_subplots\n",
    "import ipywidgets as widgets\n",
    "from IPython.display import display\n",
    "\n",
    "# You can reuse these functions from your original code\n",
    "# Function to calculate the corresponding angle using the Ackermann relationship\n",
    "def calculate_inner_outer_angles(turning_radius, wheelbase, track_width):\n",
    "    \"\"\"Calculate both inner and outer angles based on turning radius\"\"\"\n",
    "    R = turning_radius\n",
    "    L = wheelbase\n",
    "    B = track_width\n",
    "    \n",
    "    inner_angle_rad = np.arctan(L / (R - B/2))\n",
    "    outer_angle_rad = np.arctan(L / (R + B/2))\n",
    "    \n",
    "    return np.rad2deg(inner_angle_rad), np.rad2deg(outer_angle_rad)\n",
    "\n",
    "def calculate_outer_angle(inner_angle, B, L):\n",
    "    \"\"\"Calculate outer angle from inner angle using Ackermann relationship\"\"\"\n",
    "    inner_rad = np.deg2rad(inner_angle)\n",
    "    cot_inner = 1 / np.tan(inner_rad)\n",
    "    cot_outer = cot_inner + B/L\n",
    "    if np.abs(cot_outer) < 1e-10:\n",
    "        outer_rad = np.pi/2 if cot_outer >= 0 else -np.pi/2\n",
    "    else:\n",
    "        outer_rad = np.arctan(1 / cot_outer)\n",
    "    return np.rad2deg(outer_rad)\n",
    "\n",
    "def calculate_turning_radius(inner_angle, B, L):\n",
    "    \"\"\"Calculate turning radius to center of rear axle from inner angle\"\"\"\n",
    "    inner_rad = np.deg2rad(inner_angle)\n",
    "    Ri = L / np.tan(inner_rad)\n",
    "    R = Ri + B/2\n",
    "    return R\n",
    "\n",
    "def calculate_ackermann_percentage(inner_angle, outer_angle, B, L):\n",
    "    \"\"\"Calculate how close the steering is to perfect Ackermann geometry\"\"\"\n",
    "    ideal_outer = calculate_outer_angle(inner_angle, B, L)\n",
    "    deviation = np.abs(ideal_outer - outer_angle)\n",
    "    max_deviation = np.abs(ideal_outer - inner_angle)\n",
    "    \n",
    "    if max_deviation == 0:\n",
    "        return 100.0\n",
    "    \n",
    "    return (1 - deviation / max_deviation) * 100.0\n",
    "\n",
    "# Initial parameters\n",
    "wheelbase = 2.5  # L (m)\n",
    "track_width = 1.5  # B (m)\n",
    "turning_radius = 5.0  # R (m) to outside wheel\n",
    "max_steering_angle = 40.0  # Maximum steering angle in degrees\n",
    "steering_ratio = 15.0  # Steering wheel to road wheel ratio\n",
    "kingpin_inclination = 10.0  # Degrees\n",
    "caster_angle = 5.0  # Degrees\n",
    "scrub_radius = 0.05  # meters\n",
    "\n",
    "# Calculate initial angles\n",
    "inner_angle_init, outer_angle_init = calculate_inner_outer_angles(turning_radius, wheelbase, track_width)\n",
    "\n",
    "# Create figure with subplots\n",
    "fig = make_subplots(\n",
    "    rows=3, cols=3,\n",
    "    specs=[\n",
    "        [{\"type\": \"xy\"}, {\"type\": \"xy\"}, {\"type\": \"xy\"}],\n",
    "        [{\"type\": \"xy\"}, {\"type\": \"xy\"}, {\"type\": \"xy\"}],\n",
    "        [{\"colspan\": 3, \"type\": \"xy\"}, None, None],\n",
    "    ],\n",
    "    subplot_titles=(\n",
    "        \"Ackermann Steering Angle Relationship\", \n",
    "        \"Turning Radius vs Inner Angle\", \n",
    "        \"Wheel Steering Geometry\",\n",
    "        \"Ackermann Compliance\", \n",
    "        \"Steering Ratio Effects\",\n",
    "        \"Instructions\",\n",
    "        \"Vehicle Top-Down View\"\n",
    "    ),\n",
    "    vertical_spacing=0.1,\n",
    "    horizontal_spacing=0.05\n",
    ")\n",
    "\n",
    "# Prepare data for plots\n",
    "inner_angles = np.linspace(1, 45, 100)  # degrees\n",
    "outer_angles = [calculate_outer_angle(inner, track_width, wheelbase) for inner in inner_angles]\n",
    "parallel_steering = inner_angles  # For comparison (parallel steering has equal angles)\n",
    "turning_radii = [calculate_turning_radius(inner, track_width, wheelbase) for inner in inner_angles]\n",
    "ackermann_pcts = [calculate_ackermann_percentage(inner, calculate_outer_angle(inner, track_width, wheelbase), \n",
    "                                          track_width, wheelbase) for inner in inner_angles]\n",
    "steering_wheel_angles = np.linspace(0, 720, 100)  # Steering wheel angle (degrees)\n",
    "road_wheel_angles = [min(angle/steering_ratio, max_steering_angle) for angle in steering_wheel_angles]\n",
    "\n",
    "# Create the plots\n",
    "# 1. Angle relationship plot\n",
    "fig.add_trace(\n",
    "    go.Scatter(x=inner_angles, y=outer_angles, mode='lines', name='Ackermann', line=dict(color='blue', width=2)),\n",
    "    row=1, col=1\n",
    ")\n",
    "fig.add_trace(\n",
    "    go.Scatter(x=inner_angles, y=parallel_steering, mode='lines', name='Parallel', \n",
    "               line=dict(color='black', width=2, dash='dash')),\n",
    "    row=1, col=1\n",
    ")\n",
    "angle_marker = fig.add_trace(\n",
    "    go.Scatter(x=[inner_angle_init], y=[outer_angle_init], mode='markers', \n",
    "               marker=dict(color='red', size=10), showlegend=False),\n",
    "    row=1, col=1\n",
    ")\n",
    "\n",
    "# 2. Turning radius plot\n",
    "fig.add_trace(\n",
    "    go.Scatter(x=inner_angles, y=turning_radii, mode='lines', \n",
    "               line=dict(color='green', width=2), showlegend=False),\n",
    "    row=1, col=2\n",
    ")\n",
    "radius_marker = fig.add_trace(\n",
    "    go.Scatter(x=[inner_angle_init], y=[turning_radius], mode='markers', \n",
    "               marker=dict(color='red', size=10), showlegend=False),\n",
    "    row=1, col=2\n",
    ")\n",
    "\n",
    "# 3. 3D wheel geometry placeholder\n",
    "fig.add_trace(\n",
    "    go.Scatter(x=[0], y=[0], mode='text', \n",
    "               text=[\"Interactive 3D wheel geometry<br>will be implemented with controls\"],\n",
    "               textposition=\"middle center\",\n",
    "               showlegend=False),\n",
    "    row=1, col=3\n",
    ")\n",
    "\n",
    "# 4. Ackermann percentage plot\n",
    "fig.add_trace(\n",
    "    go.Scatter(x=inner_angles, y=ackermann_pcts, mode='lines', \n",
    "               line=dict(color='blue', width=2), showlegend=False),\n",
    "    row=2, col=1\n",
    ")\n",
    "ackermann_marker = fig.add_trace(\n",
    "    go.Scatter(x=[inner_angle_init], \n",
    "               y=[calculate_ackermann_percentage(inner_angle_init, outer_angle_init, track_width, wheelbase)], \n",
    "               mode='markers', marker=dict(color='red', size=10), showlegend=False),\n",
    "    row=2, col=1\n",
    ")\n",
    "\n",
    "# 5. Steering ratio plot\n",
    "fig.add_trace(\n",
    "    go.Scatter(x=steering_wheel_angles, y=road_wheel_angles, mode='lines', \n",
    "               line=dict(color='magenta', width=2), showlegend=False),\n",
    "    row=2, col=2\n",
    ")\n",
    "steer_ratio_marker = fig.add_trace(\n",
    "    go.Scatter(x=[inner_angle_init*steering_ratio], y=[inner_angle_init], mode='markers', \n",
    "               marker=dict(color='red', size=10), showlegend=False),\n",
    "    row=2, col=2\n",
    ")\n",
    "\n",
    "# 6. Instructions panel\n",
    "fig.add_trace(\n",
    "    go.Scatter(x=[0], y=[0], mode='text', \n",
    "               text=[\"<b>Ackermann Steering Simulator</b><br><br>\"\n",
    "                     \"• Use widgets below to adjust vehicle parameters<br>\"\n",
    "                     \"• Observe how changes affect steering geometry<br>\"\n",
    "                     \"• Ackermann steering ensures inner wheel turns<br>\"\n",
    "                     \"  at a sharper angle than the outer wheel<br>\"\n",
    "                     \"• This reduces tire scrub during turns\"],\n",
    "               textposition=\"middle center\",\n",
    "               showlegend=False),\n",
    "    row=2, col=3\n",
    ")\n",
    "\n",
    "# 7. Vehicle visualization (will be updated by the callback)\n",
    "car_x = [0, wheelbase, wheelbase, 0, 0]\n",
    "car_y = [-track_width/2, -track_width/2, track_width/2, track_width/2, -track_width/2]\n",
    "\n",
    "# Draw vehicle body\n",
    "fig.add_trace(\n",
    "    go.Scatter(x=car_x, y=car_y, mode='lines', line=dict(color='blue', width=2), \n",
    "               name='Vehicle', fill='toself', fillcolor='rgba(0,0,255,0.1)'),\n",
    "    row=3, col=1\n",
    ")\n",
    "\n",
    "# Add wheels (simplified rectangles for now)\n",
    "wheel_length = wheelbase * 0.1\n",
    "wheel_width = track_width * 0.1\n",
    "\n",
    "# Function to create wheel coordinates\n",
    "def get_wheel_coords(x_center, y_center, angle_deg):\n",
    "    # Define wheel as a rectangle\n",
    "    l, w = wheel_length, wheel_width\n",
    "    points_x = [-l/2, l/2, l/2, -l/2, -l/2]\n",
    "    points_y = [-w/2, -w/2, w/2, w/2, -w/2]\n",
    "    \n",
    "    # Rotate points\n",
    "    angle_rad = np.deg2rad(angle_deg)\n",
    "    rotated_x = []\n",
    "    rotated_y = []\n",
    "    for x, y in zip(points_x, points_y):\n",
    "        rx = x * np.cos(angle_rad) - y * np.sin(angle_rad)\n",
    "        ry = x * np.sin(angle_rad) + y * np.cos(angle_rad)\n",
    "        rotated_x.append(rx + x_center)\n",
    "        rotated_y.append(ry + y_center)\n",
    "    \n",
    "    return rotated_x, rotated_y\n",
    "\n",
    "# Front left wheel (inner wheel)\n",
    "fl_x, fl_y = get_wheel_coords(wheelbase, track_width/2, inner_angle_init)\n",
    "fig.add_trace(\n",
    "    go.Scatter(x=fl_x, y=fl_y, mode='lines', line=dict(color='black', width=2), \n",
    "               fill='toself', fillcolor='black', name='Front Left Wheel'),\n",
    "    row=3, col=1\n",
    ")\n",
    "\n",
    "# Front right wheel (outer wheel)\n",
    "fr_x, fr_y = get_wheel_coords(wheelbase, -track_width/2, outer_angle_init)\n",
    "fig.add_trace(\n",
    "    go.Scatter(x=fr_x, y=fr_y, mode='lines', line=dict(color='black', width=2), \n",
    "               fill='toself', fillcolor='black', name='Front Right Wheel'),\n",
    "    row=3, col=1\n",
    ")\n",
    "\n",
    "# Rear left wheel\n",
    "rl_x, rl_y = get_wheel_coords(0, track_width/2, 0)\n",
    "fig.add_trace(\n",
    "    go.Scatter(x=rl_x, y=rl_y, mode='lines', line=dict(color='black', width=2), \n",
    "               fill='toself', fillcolor='black', name='Rear Left Wheel'),\n",
    "    row=3, col=1\n",
    ")\n",
    "\n",
    "# Rear right wheel\n",
    "rr_x, rr_y = get_wheel_coords(0, -track_width/2, 0)\n",
    "fig.add_trace(\n",
    "    go.Scatter(x=rr_x, y=rr_y, mode='lines', line=dict(color='black', width=2), \n",
    "               fill='toself', fillcolor='black', name='Rear Right Wheel'),\n",
    "    row=3, col=1\n",
    ")\n",
    "\n",
    "# Add turning circle\n",
    "tc_x = -turning_radius\n",
    "tc_y = 0\n",
    "\n",
    "# Add turning center marker\n",
    "fig.add_trace(\n",
    "    go.Scatter(x=[tc_x], y=[tc_y], mode='markers', marker=dict(color='red', size=10),\n",
    "               name='Turning Center'),\n",
    "    row=3, col=1\n",
    ")\n",
    "\n",
    "# Add turning radius lines\n",
    "fig.add_trace(\n",
    "    go.Scatter(x=[tc_x, 0], y=[tc_y, 0], mode='lines', line=dict(color='red', width=1, dash='dash'),\n",
    "               name='Radius to Rear Axle'),\n",
    "    row=3, col=1\n",
    ")\n",
    "fig.add_trace(\n",
    "    go.Scatter(x=[tc_x, wheelbase], y=[tc_y, track_width/2], mode='lines', \n",
    "               line=dict(color='red', width=1, dash='dash'),\n",
    "               name='Radius to Inner Wheel'),\n",
    "    row=3, col=1\n",
    ")\n",
    "fig.add_trace(\n",
    "    go.Scatter(x=[tc_x, wheelbase], y=[tc_y, -track_width/2], mode='lines', \n",
    "               line=dict(color='red', width=1, dash='dash'),\n",
    "               name='Radius to Outer Wheel'),\n",
    "    row=3, col=1\n",
    ")\n",
    "\n",
    "# Add text information\n",
    "info_text = f\"Inner angle: {inner_angle_init:.1f}°<br>Outer angle: {outer_angle_init:.1f}°<br>\"\n",
    "info_text += f\"Turning radius: {turning_radius:.1f}m<br>Track width: {track_width:.1f}m<br>Wheelbase: {wheelbase:.1f}m<br>\"\n",
    "info_text += f\"Ackermann %: {calculate_ackermann_percentage(inner_angle_init, outer_angle_init, track_width, wheelbase):.1f}%\"\n",
    "\n",
    "fig.add_trace(\n",
    "    go.Scatter(x=[wheelbase/2], y=[track_width], mode='text', \n",
    "               text=[info_text],\n",
    "               textposition=\"top right\",\n",
    "               showlegend=False),\n",
    "    row=3, col=1\n",
    ")\n",
    "\n",
    "# Update layout\n",
    "fig.update_layout(\n",
    "    height=900,\n",
    "    width=1200,\n",
    "    title_text=\"Ackermann Steering Simulator\",\n",
    "    showlegend=True,\n",
    "    # Position the legend outside the plot area on the right side\n",
    "    legend=dict(\n",
    "        x=1.02,\n",
    "        y=0.5,\n",
    "        xanchor=\"left\",\n",
    "        yanchor=\"middle\",\n",
    "        bordercolor=\"Black\",\n",
    "        borderwidth=1,\n",
    "        orientation=\"v\"\n",
    "    )\n",
    ")\n",
    "\n",
    "# Update axes\n",
    "fig.update_xaxes(title_text=\"Inner Steering Angle (degrees)\", range=[0, 45], row=1, col=1)\n",
    "fig.update_yaxes(title_text=\"Outer Steering Angle (degrees)\", range=[0, 45], row=1, col=1)\n",
    "\n",
    "fig.update_xaxes(title_text=\"Inner Steering Angle (degrees)\", range=[0, 45], row=1, col=2)\n",
    "fig.update_yaxes(title_text=\"Turning Radius (m)\", range=[0, 20], row=1, col=2)\n",
    "\n",
    "fig.update_xaxes(title_text=\"Inner Steering Angle (degrees)\", range=[0, 45], row=2, col=1)\n",
    "fig.update_yaxes(title_text=\"Ackermann Percentage (%)\", range=[0, 110], row=2, col=1)\n",
    "\n",
    "fig.update_xaxes(title_text=\"Steering Wheel Angle (degrees)\", range=[0, 720], row=2, col=2)\n",
    "fig.update_yaxes(title_text=\"Road Wheel Angle (degrees)\", range=[0, max_steering_angle*1.1], row=2, col=2)\n",
    "\n",
    "fig.update_xaxes(title_text=\"X (m)\", range=[-12, 5], row=3, col=1)\n",
    "fig.update_yaxes(title_text=\"Y (m)\", range=[-5, 5], row=3, col=1)\n",
    "\n",
    "# Create interactive widgets\n",
    "control_mode = widgets.RadioButtons(\n",
    "    options=['Turning Radius', 'Inner Angle'],\n",
    "    value='Turning Radius',\n",
    "    description='Control Mode:',\n",
    "    disabled=False\n",
    ")\n",
    "\n",
    "turning_radius_slider = widgets.FloatSlider(\n",
    "    value=turning_radius,\n",
    "    min=2.0,\n",
    "    max=20.0,\n",
    "    step=0.1,\n",
    "    description='Turning Radius (m):',\n",
    "    disabled=False,\n",
    "    continuous_update=True,\n",
    "    orientation='horizontal',\n",
    "    readout=True,\n",
    "    readout_format='.1f',\n",
    ")\n",
    "\n",
    "inner_angle_slider = widgets.FloatSlider(\n",
    "    value=inner_angle_init,\n",
    "    min=1.0,\n",
    "    max=45.0,\n",
    "    step=0.1,\n",
    "    description='Inner Angle (°):',\n",
    "    disabled=False,\n",
    "    continuous_update=True,\n",
    "    orientation='horizontal',\n",
    "    readout=True,\n",
    "    readout_format='.1f',\n",
    ")\n",
    "\n",
    "track_width_slider = widgets.FloatSlider(\n",
    "    value=track_width,\n",
    "    min=0.5,\n",
    "    max=3.0,\n",
    "    step=0.1,\n",
    "    description='Track Width (m):',\n",
    "    disabled=False,\n",
    "    continuous_update=True,\n",
    "    orientation='horizontal',\n",
    "    readout=True,\n",
    "    readout_format='.1f',\n",
    ")\n",
    "\n",
    "wheelbase_slider = widgets.FloatSlider(\n",
    "    value=wheelbase,\n",
    "    min=1.0,\n",
    "    max=5.0,\n",
    "    step=0.1,\n",
    "    description='Wheelbase (m):',\n",
    "    disabled=False,\n",
    "    continuous_update=True,\n",
    "    orientation='horizontal',\n",
    "    readout=True,\n",
    "    readout_format='.1f',\n",
    ")\n",
    "\n",
    "steering_ratio_slider = widgets.FloatSlider(\n",
    "    value=steering_ratio,\n",
    "    min=5.0,\n",
    "    max=25.0,\n",
    "    step=0.5,\n",
    "    description='Steering Ratio:',\n",
    "    disabled=False,\n",
    "    continuous_update=True,\n",
    "    orientation='horizontal',\n",
    "    readout=True,\n",
    "    readout_format='.1f',\n",
    ")\n",
    "\n",
    "show_turning_circle = widgets.Checkbox(\n",
    "    value=True,\n",
    "    description='Show Turning Circle',\n",
    "    disabled=False\n",
    ")\n",
    "\n",
    "show_steering_arms = widgets.Checkbox(\n",
    "    value=False,\n",
    "    description='Show Steering Arms',\n",
    "    disabled=False\n",
    ")\n",
    "\n",
    "reset_button = widgets.Button(\n",
    "    description='Reset Parameters',\n",
    "    disabled=False,\n",
    "    button_style='', \n",
    "    tooltip='Reset all parameters to default values',\n",
    "    icon='refresh'\n",
    ")\n",
    "\n",
    "# Define update function for widgets\n",
    "def update_plot(change=None):\n",
    "    global wheelbase, track_width, turning_radius, steering_ratio\n",
    "    \n",
    "    # Get values from sliders\n",
    "    wheelbase = wheelbase_slider.value\n",
    "    track_width = track_width_slider.value\n",
    "    steering_ratio = steering_ratio_slider.value\n",
    "    \n",
    "    # Handle control mode\n",
    "    if control_mode.value == 'Turning Radius':\n",
    "        turning_radius = turning_radius_slider.value\n",
    "        inner_angle, outer_angle = calculate_inner_outer_angles(turning_radius, wheelbase, track_width)\n",
    "        # Update inner angle slider without triggering callback\n",
    "        inner_angle_slider.value = inner_angle\n",
    "    else:  # 'Inner Angle'\n",
    "        inner_angle = inner_angle_slider.value\n",
    "        turning_radius = calculate_turning_radius(inner_angle, track_width, wheelbase)\n",
    "        outer_angle = calculate_outer_angle(inner_angle, track_width, wheelbase)\n",
    "        # Update turning radius slider without triggering callback\n",
    "        turning_radius_slider.value = turning_radius\n",
    "    \n",
    "    # Recalculate all dependent values\n",
    "    outer_angles = [calculate_outer_angle(inner, track_width, wheelbase) for inner in inner_angles]\n",
    "    turning_radii = [calculate_turning_radius(inner, track_width, wheelbase) for inner in inner_angles]\n",
    "    ackermann_pcts = [calculate_ackermann_percentage(inner, calculate_outer_angle(inner, track_width, wheelbase), \n",
    "                                              track_width, wheelbase) for inner in inner_angles]\n",
    "    road_wheel_angles = [min(angle/steering_ratio, max_steering_angle) for angle in steering_wheel_angles]\n",
    "    \n",
    "    # Update angle relationship plot\n",
    "    with fig.batch_update():\n",
    "        fig.data[1].y = outer_angles  # Ackermann line\n",
    "        fig.data[2].x = [inner_angle]  # Angle marker X\n",
    "        fig.data[2].y = [outer_angle]  # Angle marker Y\n",
    "        \n",
    "        # Update turning radius plot\n",
    "        fig.data[3].y = turning_radii  # Turning radius line\n",
    "        fig.data[4].x = [inner_angle]  # Radius marker X\n",
    "        fig.data[4].y = [turning_radius]  # Radius marker Y\n",
    "        \n",
    "        # Update Ackermann percentage plot\n",
    "        fig.data[6].y = ackermann_pcts  # Ackermann percentage line\n",
    "        current_ackermann_pct = calculate_ackermann_percentage(inner_angle, outer_angle, track_width, wheelbase)\n",
    "        fig.data[7].x = [inner_angle]  # Ackermann marker X\n",
    "        fig.data[7].y = [current_ackermann_pct]  # Ackermann marker Y\n",
    "        \n",
    "        # Update steering ratio plot\n",
    "        fig.data[8].y = road_wheel_angles  # Steering ratio line\n",
    "        fig.data[9].x = [inner_angle*steering_ratio]  # Steering ratio marker X\n",
    "        fig.data[9].y = [inner_angle]  # Steering ratio marker Y\n",
    "        \n",
    "        # Update vehicle visualization\n",
    "        # Update car body\n",
    "        car_x = [0, wheelbase, wheelbase, 0, 0]\n",
    "        car_y = [-track_width/2, -track_width/2, track_width/2, track_width/2, -track_width/2]\n",
    "        fig.data[11].x = car_x\n",
    "        fig.data[11].y = car_y\n",
    "        \n",
    "        # Update wheels\n",
    "        # Front left wheel (inner wheel)\n",
    "        fl_x, fl_y = get_wheel_coords(wheelbase, track_width/2, inner_angle)\n",
    "        fig.data[12].x = fl_x\n",
    "        fig.data[12].y = fl_y\n",
    "        \n",
    "        # Front right wheel (outer wheel)\n",
    "        fr_x, fr_y = get_wheel_coords(wheelbase, -track_width/2, outer_angle)\n",
    "        fig.data[13].x = fr_x\n",
    "        fig.data[13].y = fr_y\n",
    "        \n",
    "        # Rear left wheel\n",
    "        rl_x, rl_y = get_wheel_coords(0, track_width/2, 0)\n",
    "        fig.data[14].x = rl_x\n",
    "        fig.data[14].y = rl_y\n",
    "        \n",
    "        # Rear right wheel\n",
    "        rr_x, rr_y = get_wheel_coords(0, -track_width/2, 0)\n",
    "        fig.data[15].x = rr_x\n",
    "        fig.data[15].y = rr_y\n",
    "        \n",
    "        # Update turning center and radius\n",
    "        tc_x = -turning_radius\n",
    "        tc_y = 0\n",
    "        \n",
    "        # Update turning center marker\n",
    "        fig.data[16].x = [tc_x]\n",
    "        fig.data[16].y = [tc_y]\n",
    "        \n",
    "        # Update turning radius lines\n",
    "        fig.data[17].x = [tc_x, 0]  # To rear axle center\n",
    "        fig.data[17].y = [tc_y, 0]\n",
    "        \n",
    "        fig.data[18].x = [tc_x, wheelbase]  # To inner wheel\n",
    "        fig.data[18].y = [tc_y, track_width/2]\n",
    "        \n",
    "        fig.data[19].x = [tc_x, wheelbase]  # To outer wheel\n",
    "        fig.data[19].y = [tc_y, -track_width/2]\n",
    "        \n",
    "        # Update text information\n",
    "        info_text = f\"Inner angle: {inner_angle:.1f}°<br>Outer angle: {outer_angle:.1f}°<br>\"\n",
    "        info_text += f\"Turning radius: {turning_radius:.1f}m<br>Track width: {track_width:.1f}m<br>Wheelbase: {wheelbase:.1f}m<br>\"\n",
    "        info_text += f\"Ackermann %: {current_ackermann_pct:.1f}%\"\n",
    "        fig.data[20].text = [info_text]\n",
    "        \n",
    "        # Update axes ranges for vehicle plot\n",
    "        fig.update_xaxes(range=[-turning_radius-1, wheelbase+1], row=3, col=1)\n",
    "        fig.update_yaxes(range=[-max(track_width, turning_radius/2)-1, max(track_width, turning_radius/2)+1], row=3, col=1)\n",
    "\n",
    "def reset_parameters(b):\n",
    "    global wheelbase, track_width, turning_radius, steering_ratio\n",
    "    \n",
    "    # Reset to initial values\n",
    "    wheelbase_slider.value = 2.5\n",
    "    track_width_slider.value = 1.5\n",
    "    turning_radius_slider.value = 5.0\n",
    "    steering_ratio_slider.value = 15.0\n",
    "    \n",
    "    # Force update\n",
    "    update_plot()\n",
    "\n",
    "# Connect callbacks\n",
    "control_mode.observe(update_plot, 'value')\n",
    "turning_radius_slider.observe(update_plot, 'value')\n",
    "inner_angle_slider.observe(update_plot, 'value')\n",
    "track_width_slider.observe(update_plot, 'value')\n",
    "wheelbase_slider.observe(update_plot, 'value')\n",
    "steering_ratio_slider.observe(update_plot, 'value')\n",
    "show_turning_circle.observe(update_plot, 'value')\n",
    "show_steering_arms.observe(update_plot, 'value')\n",
    "reset_button.on_click(reset_parameters)\n",
    "\n",
    "# Display the widgets and figure\n",
    "controls1 = widgets.HBox([control_mode, reset_button])\n",
    "controls2 = widgets.HBox([turning_radius_slider, inner_angle_slider])\n",
    "controls3 = widgets.HBox([track_width_slider, wheelbase_slider])\n",
    "controls4 = widgets.HBox([steering_ratio_slider, widgets.HBox([show_turning_circle, show_steering_arms])])\n",
    "\n",
    "controls = widgets.VBox([controls1, controls2, controls3, controls4])\n",
    "display(controls)\n",
    "fig.show()"
   ]
  },
  {
   "cell_type": "code",
   "execution_count": 9,
   "id": "259bc63d",
   "metadata": {},
   "outputs": [
    {
     "data": {
      "application/vnd.jupyter.widget-view+json": {
       "model_id": "2533efaf86c94f989313185c3faac8b9",
       "version_major": 2,
       "version_minor": 0
      },
      "text/plain": [
       "VBox(children=(HBox(children=(RadioButtons(description='Control Mode:', options=('Turning Radius', 'Inner Angl…"
      ]
     },
     "metadata": {},
     "output_type": "display_data"
    },
    {
     "data": {
      "application/vnd.plotly.v1+json": {
       "config": {
        "plotlyServerURL": "https://plot.ly"
       },
       "data": [
        {
         "line": {
          "color": "blue",
          "width": 2
         },
         "mode": "lines",
         "name": "Ackermann",
         "type": "scatter",
         "x": {
          "bdata": "AAAAAAAA8D/HcRzHcRz3P47jOI7jOP4/qqqqqqqqAkCO4ziO4zgGQHIcx3EcxwlAVVVVVVVVDUAcx3Ecx3EQQI7jOI7jOBJAAAAAAAAAFEByHMdxHMcVQOM4juM4jhdAVVVVVVVVGUDHcRzHcRwbQDiO4ziO4xxAqqqqqqqqHkCO4ziO4zggQMdxHMdxHCFAAAAAAAAAIkA5juM4juMiQHIcx3EcxyNAqqqqqqqqJEDjOI7jOI4lQBzHcRzHcSZAVVVVVVVVJ0CO4ziO4zgoQMdxHMdxHClAAAAAAAAAKkA4juM4juMqQHEcx3EcxytAqqqqqqqqLEDjOI7jOI4tQBzHcRzHcS5AVVVVVVVVL0DHcRzHcRwwQOQ4juM4jjBAAAAAAAAAMUAcx3Ecx3ExQDmO4ziO4zFAVVVVVVVVMkByHMdxHMcyQI7jOI7jODNAqqqqqqqqM0DHcRzHcRw0QOM4juM4jjRAAAAAAAAANUAcx3Ecx3E1QDmO4ziO4zVAVVVVVVVVNkBxHMdxHMc2QI7jOI7jODdAqqqqqqqqN0DHcRzHcRw4QOM4juM4jjhAAAAAAAAAOUAcx3Ecx3E5QDiO4ziO4zlAVVVVVVVVOkBxHMdxHMc6QI7jOI7jODtAqqqqqqqqO0DHcRzHcRw8QOM4juM4jjxAAAAAAAAAPUAcx3Ecx3E9QDiO4ziO4z1AVVVVVVVVPkBxHMdxHMc+QI7jOI7jOD9AqqqqqqqqP0DkOI7jOA5AQHIcx3EcR0BAAAAAAACAQECO4ziO47hAQBzHcRzH8UBAqqqqqqoqQUA5juM4jmNBQMdxHMdxnEFAVVVVVVXVQUDjOI7jOA5CQHIcx3EcR0JAAAAAAACAQkCO4ziO47hCQBzHcRzH8UJAqqqqqqoqQ0A5juM4jmNDQMdxHMdxnENAVVVVVVXVQ0DjOI7jOA5EQHEcx3EcR0RAAAAAAACARECO4ziO47hEQBzHcRzH8URAqqqqqqoqRUA5juM4jmNFQMdxHMdxnEVAVVVVVVXVRUDjOI7jOA5GQHEcx3EcR0ZAAAAAAACARkA=",
          "dtype": "f8"
         },
         "xaxis": "x",
         "y": [
          0.9896375808384094,
          1.4229254989771039,
          1.852263395609248,
          2.2777084443116977,
          2.6993175754284215,
          3.1171474442376934,
          3.5312544014669403,
          3.941694466048234,
          4.3485233000100205,
          4.75179618540346,
          5.151568003164616,
          5.547893213816663,
          5.94082583991936,
          6.330419450176013,
          6.7167271451113795,
          7.099801544236902,
          7.479694774622887,
          7.8564584608002646,
          8.230143715917627,
          8.600801134082225,
          8.968480783816634,
          9.3332322025656,
          9.695104392190576,
          10.054145815392047,
          10.41040439300265,
          10.763927502096575,
          11.114761974863397,
          11.46295409819692,
          11.808549613952035,
          12.151593719824902,
          12.492131070814036,
          12.830205781222032,
          13.165861427159685,
          13.499141049516355,
          13.830087157362323,
          14.158741731750649,
          14.485146229887897,
          14.809341589644784,
          15.131368234379424,
          15.451266078047246,
          15.769074530573448,
          16.08483250346496,
          16.39857841564037,
          16.710350199457608,
          17.02018530692027,
          17.328120716044715,
          17.634192937371225,
          17.938438020603357,
          18.24089156136096,
          18.54158870803294,
          18.84056416871694,
          19.137852218233988,
          19.433486705206803,
          19.727501059191457,
          20.019928297852584,
          20.310801034173146,
          20.60015148369048,
          20.88801147175076,
          21.174412440774784,
          21.459385457528484,
          21.742961220392043,
          22.025170066622074,
          22.306041979601616,
          22.585606596073386,
          22.863893213351954,
          23.140930796510904,
          23.416747985541548,
          23.691373102479897,
          23.964834158499148,
          24.237158860965057,
          24.508374620451953,
          24.778508557717434,
          25.04758751063397,
          25.315638041075875,
          25.582686441760494,
          25.848758743042374,
          26.11388071965972,
          26.378077897432227,
          26.64137555991009,
          26.903798754973494,
          27.165372301382636,
          27.42612079527812,
          27.686068616631783,
          27.945239935648278,
          28.203658719117456,
          28.46134873671835,
          28.718333567274954,
          28.97463660496458,
          29.230281065479492,
          29.485289992142523,
          29.739686261977685,
          29.9934925917365,
          30.24673154388132,
          30.499425532526416,
          30.751596829338197,
          31.00326756939556,
          31.25445975701171,
          31.505195271518673,
          31.755495873015775,
          32.005383208083494
         ],
         "yaxis": "y"
        },
        {
         "line": {
          "color": "black",
          "dash": "dash",
          "width": 2
         },
         "mode": "lines",
         "name": "Parallel",
         "type": "scatter",
         "x": {
          "bdata": "AAAAAAAA8D/HcRzHcRz3P47jOI7jOP4/qqqqqqqqAkCO4ziO4zgGQHIcx3EcxwlAVVVVVVVVDUAcx3Ecx3EQQI7jOI7jOBJAAAAAAAAAFEByHMdxHMcVQOM4juM4jhdAVVVVVVVVGUDHcRzHcRwbQDiO4ziO4xxAqqqqqqqqHkCO4ziO4zggQMdxHMdxHCFAAAAAAAAAIkA5juM4juMiQHIcx3EcxyNAqqqqqqqqJEDjOI7jOI4lQBzHcRzHcSZAVVVVVVVVJ0CO4ziO4zgoQMdxHMdxHClAAAAAAAAAKkA4juM4juMqQHEcx3EcxytAqqqqqqqqLEDjOI7jOI4tQBzHcRzHcS5AVVVVVVVVL0DHcRzHcRwwQOQ4juM4jjBAAAAAAAAAMUAcx3Ecx3ExQDmO4ziO4zFAVVVVVVVVMkByHMdxHMcyQI7jOI7jODNAqqqqqqqqM0DHcRzHcRw0QOM4juM4jjRAAAAAAAAANUAcx3Ecx3E1QDmO4ziO4zVAVVVVVVVVNkBxHMdxHMc2QI7jOI7jODdAqqqqqqqqN0DHcRzHcRw4QOM4juM4jjhAAAAAAAAAOUAcx3Ecx3E5QDiO4ziO4zlAVVVVVVVVOkBxHMdxHMc6QI7jOI7jODtAqqqqqqqqO0DHcRzHcRw8QOM4juM4jjxAAAAAAAAAPUAcx3Ecx3E9QDiO4ziO4z1AVVVVVVVVPkBxHMdxHMc+QI7jOI7jOD9AqqqqqqqqP0DkOI7jOA5AQHIcx3EcR0BAAAAAAACAQECO4ziO47hAQBzHcRzH8UBAqqqqqqoqQUA5juM4jmNBQMdxHMdxnEFAVVVVVVXVQUDjOI7jOA5CQHIcx3EcR0JAAAAAAACAQkCO4ziO47hCQBzHcRzH8UJAqqqqqqoqQ0A5juM4jmNDQMdxHMdxnENAVVVVVVXVQ0DjOI7jOA5EQHEcx3EcR0RAAAAAAACARECO4ziO47hEQBzHcRzH8URAqqqqqqoqRUA5juM4jmNFQMdxHMdxnEVAVVVVVVXVRUDjOI7jOA5GQHEcx3EcR0ZAAAAAAACARkA=",
          "dtype": "f8"
         },
         "xaxis": "x",
         "y": {
          "bdata": "AAAAAAAA8D/HcRzHcRz3P47jOI7jOP4/qqqqqqqqAkCO4ziO4zgGQHIcx3EcxwlAVVVVVVVVDUAcx3Ecx3EQQI7jOI7jOBJAAAAAAAAAFEByHMdxHMcVQOM4juM4jhdAVVVVVVVVGUDHcRzHcRwbQDiO4ziO4xxAqqqqqqqqHkCO4ziO4zggQMdxHMdxHCFAAAAAAAAAIkA5juM4juMiQHIcx3EcxyNAqqqqqqqqJEDjOI7jOI4lQBzHcRzHcSZAVVVVVVVVJ0CO4ziO4zgoQMdxHMdxHClAAAAAAAAAKkA4juM4juMqQHEcx3EcxytAqqqqqqqqLEDjOI7jOI4tQBzHcRzHcS5AVVVVVVVVL0DHcRzHcRwwQOQ4juM4jjBAAAAAAAAAMUAcx3Ecx3ExQDmO4ziO4zFAVVVVVVVVMkByHMdxHMcyQI7jOI7jODNAqqqqqqqqM0DHcRzHcRw0QOM4juM4jjRAAAAAAAAANUAcx3Ecx3E1QDmO4ziO4zVAVVVVVVVVNkBxHMdxHMc2QI7jOI7jODdAqqqqqqqqN0DHcRzHcRw4QOM4juM4jjhAAAAAAAAAOUAcx3Ecx3E5QDiO4ziO4zlAVVVVVVVVOkBxHMdxHMc6QI7jOI7jODtAqqqqqqqqO0DHcRzHcRw8QOM4juM4jjxAAAAAAAAAPUAcx3Ecx3E9QDiO4ziO4z1AVVVVVVVVPkBxHMdxHMc+QI7jOI7jOD9AqqqqqqqqP0DkOI7jOA5AQHIcx3EcR0BAAAAAAACAQECO4ziO47hAQBzHcRzH8UBAqqqqqqoqQUA5juM4jmNBQMdxHMdxnEFAVVVVVVXVQUDjOI7jOA5CQHIcx3EcR0JAAAAAAACAQkCO4ziO47hCQBzHcRzH8UJAqqqqqqoqQ0A5juM4jmNDQMdxHMdxnENAVVVVVVXVQ0DjOI7jOA5EQHEcx3EcR0RAAAAAAACARECO4ziO47hEQBzHcRzH8URAqqqqqqoqRUA5juM4jmNFQMdxHMdxnEVAVVVVVVXVRUDjOI7jOA5GQHEcx3EcR0ZAAAAAAACARkA=",
          "dtype": "f8"
         },
         "yaxis": "y"
        },
        {
         "marker": {
          "color": "red",
          "size": 10
         },
         "mode": "markers",
         "showlegend": false,
         "type": "scatter",
         "x": [
          30.46554491945988
         ],
         "xaxis": "x",
         "y": [
          23.498565675952097
         ],
         "yaxis": "y"
        },
        {
         "line": {
          "color": "green",
          "width": 2
         },
         "mode": "lines",
         "showlegend": false,
         "type": "scatter",
         "x": {
          "bdata": "AAAAAAAA8D/HcRzHcRz3P47jOI7jOP4/qqqqqqqqAkCO4ziO4zgGQHIcx3EcxwlAVVVVVVVVDUAcx3Ecx3EQQI7jOI7jOBJAAAAAAAAAFEByHMdxHMcVQOM4juM4jhdAVVVVVVVVGUDHcRzHcRwbQDiO4ziO4xxAqqqqqqqqHkCO4ziO4zggQMdxHMdxHCFAAAAAAAAAIkA5juM4juMiQHIcx3EcxyNAqqqqqqqqJEDjOI7jOI4lQBzHcRzHcSZAVVVVVVVVJ0CO4ziO4zgoQMdxHMdxHClAAAAAAAAAKkA4juM4juMqQHEcx3EcxytAqqqqqqqqLEDjOI7jOI4tQBzHcRzHcS5AVVVVVVVVL0DHcRzHcRwwQOQ4juM4jjBAAAAAAAAAMUAcx3Ecx3ExQDmO4ziO4zFAVVVVVVVVMkByHMdxHMcyQI7jOI7jODNAqqqqqqqqM0DHcRzHcRw0QOM4juM4jjRAAAAAAAAANUAcx3Ecx3E1QDmO4ziO4zVAVVVVVVVVNkBxHMdxHMc2QI7jOI7jODdAqqqqqqqqN0DHcRzHcRw4QOM4juM4jjhAAAAAAAAAOUAcx3Ecx3E5QDiO4ziO4zlAVVVVVVVVOkBxHMdxHMc6QI7jOI7jODtAqqqqqqqqO0DHcRzHcRw8QOM4juM4jjxAAAAAAAAAPUAcx3Ecx3E9QDiO4ziO4z1AVVVVVVVVPkBxHMdxHMc+QI7jOI7jOD9AqqqqqqqqP0DkOI7jOA5AQHIcx3EcR0BAAAAAAACAQECO4ziO47hAQBzHcRzH8UBAqqqqqqoqQUA5juM4jmNBQMdxHMdxnEFAVVVVVVXVQUDjOI7jOA5CQHIcx3EcR0JAAAAAAACAQkCO4ziO47hCQBzHcRzH8UJAqqqqqqoqQ0A5juM4jmNDQMdxHMdxnENAVVVVVVXVQ0DjOI7jOA5EQHEcx3EcR0RAAAAAAACARECO4ziO47hEQBzHcRzH8URAqqqqqqoqRUA5juM4jmNFQMdxHMdxnEVAVVVVVVXVRUDjOI7jOA5GQHEcx3EcR0ZAAAAAAACARkA=",
          "dtype": "f8"
         },
         "xaxis": "x2",
         "y": [
          143.97490407689855,
          99.89476275113118,
          76.55517458950486,
          62.10439448208344,
          52.275794089558886,
          45.15674682895493,
          39.76196014244217,
          35.53221386204521,
          32.12652001938886,
          29.325130756903356,
          26.980052568226284,
          24.98796918445208,
          23.274565350374033,
          21.785018295312437,
          20.4780000454763,
          19.321765888540668,
          18.291528822466407,
          17.367652357928794,
          16.53437878668761,
          15.778916527118046,
          15.090773578806779,
          14.46126298886028,
          13.883130677059912,
          13.350271698599332,
          12.857511361048909,
          12.400434535745642,
          11.975251221627044,
          11.578689685710389,
          11.207910798844809,
          10.860438818995076,
          10.534105052050181,
          10.227001679098809,
          9.937443672353604,
          9.663937193467742,
          9.40515322247142,
          9.159905434392936,
          8.92713154621035,
          8.705877515221143,
          8.495284092931076,
          8.294575334737814,
          8.103048741372156,
          7.920066767997429,
          7.745049484614268,
          7.577468209668241,
          7.416839969564755,
          7.262722661734505,
          7.114710819179989,
          6.972431891013303,
          6.835542967105813,
          6.703727886190468,
          6.576694676045087,
          6.454173282102724,
          6.3359135472726695,
          6.221683411144468,
          6.111267301273896,
          6.0044646930648655,
          5.9010888179867385,
          5.800965502602168,
          5.703932123207498,
          5.609836662872835,
          5.518536859366887,
          5.429899433908167,
          5.343799391936516,
          5.260119388178559,
          5.178749149213768,
          5.0995849475558295,
          5.022529121965708,
          4.947489639323078,
          4.874379693915026,
          4.803117340465908,
          4.733625157639256,
          4.66582993909968,
          4.599662409536457,
          4.535056963326753,
          4.471951423760002,
          4.410286820960279,
          4.350007186833894,
          4.291059365538403,
          4.23339283811903,
          4.176959560091905,
          4.121713810872186,
          4.067612054051025,
          4.01461280761996,
          3.962676523325838,
          3.9117654744152075,
          3.8618436510950134,
          3.8128766630974855,
          3.7648316487919495,
          3.717677190335714,
          3.6713832344006807,
          3.6259210180525243,
          3.581262999395583,
          3.5373827926294337,
          3.4942551071928625,
          3.451855690697892,
          3.4101612753809847,
          3.369149527820753,
          3.3287990016917206,
          3.2890890933420627,
          3.2500000000000004
         ],
         "yaxis": "y2"
        },
        {
         "marker": {
          "color": "red",
          "size": 10
         },
         "mode": "markers",
         "showlegend": false,
         "type": "scatter",
         "x": [
          30.46554491945988
         ],
         "xaxis": "x2",
         "y": [
          5
         ],
         "yaxis": "y2"
        },
        {
         "mode": "text",
         "showlegend": false,
         "text": [
          "Interactive 3D wheel geometry<br>will be implemented with controls"
         ],
         "textposition": "middle center",
         "type": "scatter",
         "x": [
          0
         ],
         "xaxis": "x3",
         "y": [
          0
         ],
         "yaxis": "y3"
        },
        {
         "line": {
          "color": "blue",
          "width": 2
         },
         "mode": "lines",
         "showlegend": false,
         "type": "scatter",
         "x": {
          "bdata": "AAAAAAAA8D/HcRzHcRz3P47jOI7jOP4/qqqqqqqqAkCO4ziO4zgGQHIcx3EcxwlAVVVVVVVVDUAcx3Ecx3EQQI7jOI7jOBJAAAAAAAAAFEByHMdxHMcVQOM4juM4jhdAVVVVVVVVGUDHcRzHcRwbQDiO4ziO4xxAqqqqqqqqHkCO4ziO4zggQMdxHMdxHCFAAAAAAAAAIkA5juM4juMiQHIcx3EcxyNAqqqqqqqqJEDjOI7jOI4lQBzHcRzHcSZAVVVVVVVVJ0CO4ziO4zgoQMdxHMdxHClAAAAAAAAAKkA4juM4juMqQHEcx3EcxytAqqqqqqqqLEDjOI7jOI4tQBzHcRzHcS5AVVVVVVVVL0DHcRzHcRwwQOQ4juM4jjBAAAAAAAAAMUAcx3Ecx3ExQDmO4ziO4zFAVVVVVVVVMkByHMdxHMcyQI7jOI7jODNAqqqqqqqqM0DHcRzHcRw0QOM4juM4jjRAAAAAAAAANUAcx3Ecx3E1QDmO4ziO4zVAVVVVVVVVNkBxHMdxHMc2QI7jOI7jODdAqqqqqqqqN0DHcRzHcRw4QOM4juM4jjhAAAAAAAAAOUAcx3Ecx3E5QDiO4ziO4zlAVVVVVVVVOkBxHMdxHMc6QI7jOI7jODtAqqqqqqqqO0DHcRzHcRw8QOM4juM4jjxAAAAAAAAAPUAcx3Ecx3E9QDiO4ziO4z1AVVVVVVVVPkBxHMdxHMc+QI7jOI7jOD9AqqqqqqqqP0DkOI7jOA5AQHIcx3EcR0BAAAAAAACAQECO4ziO47hAQBzHcRzH8UBAqqqqqqoqQUA5juM4jmNBQMdxHMdxnEFAVVVVVVXVQUDjOI7jOA5CQHIcx3EcR0JAAAAAAACAQkCO4ziO47hCQBzHcRzH8UJAqqqqqqoqQ0A5juM4jmNDQMdxHMdxnENAVVVVVVXVQ0DjOI7jOA5EQHEcx3EcR0RAAAAAAACARECO4ziO47hEQBzHcRzH8URAqqqqqqoqRUA5juM4jmNFQMdxHMdxnEVAVVVVVVXVRUDjOI7jOA5GQHEcx3EcR0ZAAAAAAACARkA=",
          "dtype": "f8"
         },
         "xaxis": "x4",
         "y": [
          100,
          100,
          100,
          100,
          100,
          100,
          100,
          100,
          100,
          100,
          100,
          100,
          100,
          100,
          100,
          100,
          100,
          100,
          100,
          100,
          100,
          100,
          100,
          100,
          100,
          100,
          100,
          100,
          100,
          100,
          100,
          100,
          100,
          100,
          100,
          100,
          100,
          100,
          100,
          100,
          100,
          100,
          100,
          100,
          100,
          100,
          100,
          100,
          100,
          100,
          100,
          100,
          100,
          100,
          100,
          100,
          100,
          100,
          100,
          100,
          100,
          100,
          100,
          100,
          100,
          100,
          100,
          100,
          100,
          100,
          100,
          100,
          100,
          100,
          100,
          100,
          100,
          100,
          100,
          100,
          100,
          100,
          100,
          100,
          100,
          100,
          100,
          100,
          100,
          100,
          100,
          100,
          100,
          100,
          100,
          100,
          100,
          100,
          100,
          100
         ],
         "yaxis": "y4"
        },
        {
         "marker": {
          "color": "red",
          "size": 10
         },
         "mode": "markers",
         "showlegend": false,
         "type": "scatter",
         "x": [
          30.46554491945988
         ],
         "xaxis": "x4",
         "y": [
          100
         ],
         "yaxis": "y4"
        },
        {
         "line": {
          "color": "magenta",
          "width": 2
         },
         "mode": "lines",
         "showlegend": false,
         "type": "scatter",
         "x": {
          "bdata": "AAAAAAAAAAAXXXTRRRcdQBdddNFFFy1A0UUXXXTRNUAXXXTRRRc9QC666KKLLkJA0UUXXXTRRUB00UUXXXRJQBdddNFFF01AXXTRRRddUEAuuuiiiy5SQAAAAAAAAFRA0UUXXXTRVUCjiy666KJXQHTRRRdddFlARhdddNFFW0AXXXTRRRddQOiiiy666F5AXXTRRRddYEBGF1100UVhQC666KKLLmJAF1100UUXY0AAAAAAAABkQOmiiy666GRA0UUXXXTRZUC66KKLLrpmQKOLLrroomdAiy666KKLaEB00UUXXXRpQF100UUXXWpARhdddNFFa0Auuuiiiy5sQBdddNFFF21AAAAAAAAAbkDooosuuuhuQNFFF1100W9AXXTRRRddcEDRRRdddNFwQEYXXXTRRXFAuuiiiy66cUAuuuiiiy5yQKOLLrroonJAF1100UUXc0CLLrroootzQAAAAAAAAHRAdNFFF110dEDpoosuuuh0QF100UUXXXVA0UUXXXTRdUBGF1100UV2QLrooosuunZALrrooosud0Cjiy666KJ3QBdddNFFF3hAiy666KKLeEAAAAAAAAB5QHTRRRdddHlA6KKLLrroeUBddNFFF116QNFFF1100XpARhdddNFFe0C66KKLLrp7QC666KKLLnxAo4suuuiifEAXXXTRRRd9QIsuuuiii31AAAAAAAAAfkB00UUXXXR+QOiiiy666H5AXXTRRRddf0DRRRdddNF/QKOLLrroIoBAXXTRRRddgEAXXXTRRZeAQNFFF1100YBAiy666KILgUBGF1100UWBQAAAAAAAgIFAuuiiiy66gUB00UUXXfSBQC666KKLLoJA6aKLLrpogkCjiy666KKCQF100UUX3YJAF1100UUXg0DRRRdddFGDQIsuuuiii4NARhdddNHFg0AAAAAAAACEQLrooosuOoRAdNFFF110hEAuuuiii66EQOmiiy666IRAo4suuugihUBddNFFF12FQBdddNFFl4VA0UUXXXTRhUCLLrrooguGQEYXXXTRRYZAAAAAAACAhkA=",
          "dtype": "f8"
         },
         "xaxis": "x5",
         "y": [
          0,
          0.4848484848484848,
          0.9696969696969696,
          1.4545454545454544,
          1.9393939393939392,
          2.424242424242424,
          2.9090909090909087,
          3.3939393939393936,
          3.8787878787878785,
          4.363636363636363,
          4.848484848484848,
          5.333333333333333,
          5.8181818181818175,
          6.303030303030303,
          6.787878787878787,
          7.2727272727272725,
          7.757575757575757,
          8.242424242424242,
          8.727272727272727,
          9.212121212121213,
          9.696969696969695,
          10.181818181818182,
          10.666666666666666,
          11.151515151515152,
          11.636363636363635,
          12.121212121212121,
          12.606060606060606,
          13.09090909090909,
          13.575757575757574,
          14.06060606060606,
          14.545454545454545,
          15.03030303030303,
          15.515151515151514,
          16,
          16.484848484848484,
          16.96969696969697,
          17.454545454545453,
          17.939393939393938,
          18.424242424242426,
          18.90909090909091,
          19.39393939393939,
          19.87878787878788,
          20.363636363636363,
          20.848484848484848,
          21.333333333333332,
          21.818181818181817,
          22.303030303030305,
          22.78787878787879,
          23.27272727272727,
          23.757575757575758,
          24.242424242424242,
          24.727272727272727,
          25.21212121212121,
          25.696969696969695,
          26.18181818181818,
          26.666666666666668,
          27.15151515151515,
          27.636363636363633,
          28.12121212121212,
          28.606060606060606,
          29.09090909090909,
          29.575757575757574,
          30.06060606060606,
          30.545454545454547,
          31.030303030303028,
          31.515151515151512,
          32,
          32.484848484848484,
          32.96969696969697,
          33.45454545454545,
          33.93939393939394,
          34.42424242424242,
          34.90909090909091,
          35.39393939393939,
          35.878787878787875,
          36.36363636363636,
          36.84848484848485,
          37.333333333333336,
          37.81818181818182,
          38.3030303030303,
          38.78787878787878,
          39.27272727272727,
          39.75757575757576,
          40,
          40,
          40,
          40,
          40,
          40,
          40,
          40,
          40,
          40,
          40,
          40,
          40,
          40,
          40,
          40,
          40
         ],
         "yaxis": "y5"
        },
        {
         "marker": {
          "color": "red",
          "size": 10
         },
         "mode": "markers",
         "showlegend": false,
         "type": "scatter",
         "x": [
          456.9831737918982
         ],
         "xaxis": "x5",
         "y": [
          30.46554491945988
         ],
         "yaxis": "y5"
        },
        {
         "mode": "text",
         "showlegend": false,
         "text": [
          "<b>Ackermann Steering Simulator</b><br><br>• Use widgets below to adjust vehicle parameters<br>• Observe how changes affect steering geometry<br>• Ackermann steering ensures inner wheel turns<br>  at a sharper angle than the outer wheel<br>• This reduces tire scrub during turns"
         ],
         "textposition": "middle center",
         "type": "scatter",
         "x": [
          0
         ],
         "xaxis": "x6",
         "y": [
          0
         ],
         "yaxis": "y6"
        },
        {
         "fill": "toself",
         "fillcolor": "rgba(0,0,255,0.1)",
         "line": {
          "color": "blue",
          "width": 2
         },
         "mode": "lines",
         "name": "Vehicle",
         "type": "scatter",
         "x": [
          0,
          2.5,
          2.5,
          0,
          0
         ],
         "xaxis": "x7",
         "y": [
          -0.75,
          -0.75,
          0.75,
          0.75,
          -0.75
         ],
         "yaxis": "y7"
        },
        {
         "fill": "toself",
         "fillcolor": "black",
         "line": {
          "color": "black",
          "width": 2
         },
         "mode": "lines",
         "name": "Front Left Wheel",
         "type": "scatter",
         "x": [
          2.430284732597533,
          2.645768286386976,
          2.569715267402467,
          2.354231713613024,
          2.430284732597533
         ],
         "xaxis": "x7",
         "y": [
          0.6219774180427431,
          0.7487324496835915,
          0.8780225819572569,
          0.7512675503164085,
          0.6219774180427431
         ],
         "yaxis": "y7"
        },
        {
         "fill": "toself",
         "fillcolor": "black",
         "line": {
          "color": "black",
          "width": 2
         },
         "mode": "lines",
         "name": "Front Right Wheel",
         "type": "scatter",
         "x": [
          2.4152707013244292,
          2.644538215387738,
          2.5847292986755708,
          2.355461784612262,
          2.4152707013244292
         ],
         "xaxis": "x7",
         "y": [
          -0.868621018145799,
          -0.7689394902921864,
          -0.631378981854201,
          -0.7310605097078136,
          -0.868621018145799
         ],
         "yaxis": "y7"
        },
        {
         "fill": "toself",
         "fillcolor": "black",
         "line": {
          "color": "black",
          "width": 2
         },
         "mode": "lines",
         "name": "Rear Left Wheel",
         "type": "scatter",
         "x": [
          -0.125,
          0.125,
          0.125,
          -0.125,
          -0.125
         ],
         "xaxis": "x7",
         "y": [
          0.675,
          0.675,
          0.825,
          0.825,
          0.675
         ],
         "yaxis": "y7"
        },
        {
         "fill": "toself",
         "fillcolor": "black",
         "line": {
          "color": "black",
          "width": 2
         },
         "mode": "lines",
         "name": "Rear Right Wheel",
         "type": "scatter",
         "x": [
          -0.125,
          0.125,
          0.125,
          -0.125,
          -0.125
         ],
         "xaxis": "x7",
         "y": [
          -0.825,
          -0.825,
          -0.675,
          -0.675,
          -0.825
         ],
         "yaxis": "y7"
        },
        {
         "marker": {
          "color": "red",
          "size": 10
         },
         "mode": "markers",
         "name": "Turning Center",
         "type": "scatter",
         "x": [
          -5
         ],
         "xaxis": "x7",
         "y": [
          0
         ],
         "yaxis": "y7"
        },
        {
         "line": {
          "color": "red",
          "dash": "dash",
          "width": 1
         },
         "mode": "lines",
         "name": "Radius to Rear Axle",
         "type": "scatter",
         "x": [
          -5,
          0
         ],
         "xaxis": "x7",
         "y": [
          0,
          0
         ],
         "yaxis": "y7"
        },
        {
         "line": {
          "color": "red",
          "dash": "dash",
          "width": 1
         },
         "mode": "lines",
         "name": "Radius to Inner Wheel",
         "type": "scatter",
         "x": [
          -5,
          2.5
         ],
         "xaxis": "x7",
         "y": [
          0,
          0.75
         ],
         "yaxis": "y7"
        },
        {
         "line": {
          "color": "red",
          "dash": "dash",
          "width": 1
         },
         "mode": "lines",
         "name": "Radius to Outer Wheel",
         "type": "scatter",
         "x": [
          -5,
          2.5
         ],
         "xaxis": "x7",
         "y": [
          0,
          -0.75
         ],
         "yaxis": "y7"
        },
        {
         "mode": "text",
         "showlegend": false,
         "text": [
          "Inner angle: 30.5°<br>Outer angle: 23.5°<br>Turning radius: 5.0m<br>Track width: 1.5m<br>Wheelbase: 2.5m<br>Ackermann %: 100.0%"
         ],
         "textposition": "top right",
         "type": "scatter",
         "x": [
          1.25
         ],
         "xaxis": "x7",
         "y": [
          1.5
         ],
         "yaxis": "y7"
        },
        {
         "mode": "text",
         "showlegend": false,
         "text": [
          "Loading 3D wheel geometry..."
         ],
         "textposition": "middle center",
         "type": "scatter",
         "x": [
          0
         ],
         "xaxis": "x3",
         "y": [
          0
         ],
         "yaxis": "y3"
        }
       ],
       "layout": {
        "annotations": [
         {
          "font": {
           "size": 16
          },
          "showarrow": false,
          "text": "Ackermann Steering Angle Relationship",
          "x": 0.15,
          "xanchor": "center",
          "xref": "paper",
          "y": 1,
          "yanchor": "bottom",
          "yref": "paper"
         },
         {
          "font": {
           "size": 16
          },
          "showarrow": false,
          "text": "Turning Radius vs Inner Angle",
          "x": 0.49999999999999994,
          "xanchor": "center",
          "xref": "paper",
          "y": 1,
          "yanchor": "bottom",
          "yref": "paper"
         },
         {
          "font": {
           "size": 16
          },
          "showarrow": false,
          "text": "Wheel Steering Geometry",
          "x": 0.85,
          "xanchor": "center",
          "xref": "paper",
          "y": 1,
          "yanchor": "bottom",
          "yref": "paper"
         },
         {
          "font": {
           "size": 16
          },
          "showarrow": false,
          "text": "Ackermann Compliance",
          "x": 0.15,
          "xanchor": "center",
          "xref": "paper",
          "y": 0.6333333333333333,
          "yanchor": "bottom",
          "yref": "paper"
         },
         {
          "font": {
           "size": 16
          },
          "showarrow": false,
          "text": "Steering Ratio Effects",
          "x": 0.49999999999999994,
          "xanchor": "center",
          "xref": "paper",
          "y": 0.6333333333333333,
          "yanchor": "bottom",
          "yref": "paper"
         },
         {
          "font": {
           "size": 16
          },
          "showarrow": false,
          "text": "Instructions",
          "x": 0.85,
          "xanchor": "center",
          "xref": "paper",
          "y": 0.6333333333333333,
          "yanchor": "bottom",
          "yref": "paper"
         },
         {
          "font": {
           "size": 16
          },
          "showarrow": false,
          "text": "Vehicle Top-Down View",
          "x": 0.5,
          "xanchor": "center",
          "xref": "paper",
          "y": 0.26666666666666666,
          "yanchor": "bottom",
          "yref": "paper"
         }
        ],
        "height": 900,
        "legend": {
         "bordercolor": "Black",
         "borderwidth": 1,
         "orientation": "v",
         "x": 1.02,
         "xanchor": "left",
         "y": 0.5,
         "yanchor": "middle"
        },
        "showlegend": true,
        "template": {
         "data": {
          "bar": [
           {
            "error_x": {
             "color": "#2a3f5f"
            },
            "error_y": {
             "color": "#2a3f5f"
            },
            "marker": {
             "line": {
              "color": "#E5ECF6",
              "width": 0.5
             },
             "pattern": {
              "fillmode": "overlay",
              "size": 10,
              "solidity": 0.2
             }
            },
            "type": "bar"
           }
          ],
          "barpolar": [
           {
            "marker": {
             "line": {
              "color": "#E5ECF6",
              "width": 0.5
             },
             "pattern": {
              "fillmode": "overlay",
              "size": 10,
              "solidity": 0.2
             }
            },
            "type": "barpolar"
           }
          ],
          "carpet": [
           {
            "aaxis": {
             "endlinecolor": "#2a3f5f",
             "gridcolor": "white",
             "linecolor": "white",
             "minorgridcolor": "white",
             "startlinecolor": "#2a3f5f"
            },
            "baxis": {
             "endlinecolor": "#2a3f5f",
             "gridcolor": "white",
             "linecolor": "white",
             "minorgridcolor": "white",
             "startlinecolor": "#2a3f5f"
            },
            "type": "carpet"
           }
          ],
          "choropleth": [
           {
            "colorbar": {
             "outlinewidth": 0,
             "ticks": ""
            },
            "type": "choropleth"
           }
          ],
          "contour": [
           {
            "colorbar": {
             "outlinewidth": 0,
             "ticks": ""
            },
            "colorscale": [
             [
              0,
              "#0d0887"
             ],
             [
              0.1111111111111111,
              "#46039f"
             ],
             [
              0.2222222222222222,
              "#7201a8"
             ],
             [
              0.3333333333333333,
              "#9c179e"
             ],
             [
              0.4444444444444444,
              "#bd3786"
             ],
             [
              0.5555555555555556,
              "#d8576b"
             ],
             [
              0.6666666666666666,
              "#ed7953"
             ],
             [
              0.7777777777777778,
              "#fb9f3a"
             ],
             [
              0.8888888888888888,
              "#fdca26"
             ],
             [
              1,
              "#f0f921"
             ]
            ],
            "type": "contour"
           }
          ],
          "contourcarpet": [
           {
            "colorbar": {
             "outlinewidth": 0,
             "ticks": ""
            },
            "type": "contourcarpet"
           }
          ],
          "heatmap": [
           {
            "colorbar": {
             "outlinewidth": 0,
             "ticks": ""
            },
            "colorscale": [
             [
              0,
              "#0d0887"
             ],
             [
              0.1111111111111111,
              "#46039f"
             ],
             [
              0.2222222222222222,
              "#7201a8"
             ],
             [
              0.3333333333333333,
              "#9c179e"
             ],
             [
              0.4444444444444444,
              "#bd3786"
             ],
             [
              0.5555555555555556,
              "#d8576b"
             ],
             [
              0.6666666666666666,
              "#ed7953"
             ],
             [
              0.7777777777777778,
              "#fb9f3a"
             ],
             [
              0.8888888888888888,
              "#fdca26"
             ],
             [
              1,
              "#f0f921"
             ]
            ],
            "type": "heatmap"
           }
          ],
          "histogram": [
           {
            "marker": {
             "pattern": {
              "fillmode": "overlay",
              "size": 10,
              "solidity": 0.2
             }
            },
            "type": "histogram"
           }
          ],
          "histogram2d": [
           {
            "colorbar": {
             "outlinewidth": 0,
             "ticks": ""
            },
            "colorscale": [
             [
              0,
              "#0d0887"
             ],
             [
              0.1111111111111111,
              "#46039f"
             ],
             [
              0.2222222222222222,
              "#7201a8"
             ],
             [
              0.3333333333333333,
              "#9c179e"
             ],
             [
              0.4444444444444444,
              "#bd3786"
             ],
             [
              0.5555555555555556,
              "#d8576b"
             ],
             [
              0.6666666666666666,
              "#ed7953"
             ],
             [
              0.7777777777777778,
              "#fb9f3a"
             ],
             [
              0.8888888888888888,
              "#fdca26"
             ],
             [
              1,
              "#f0f921"
             ]
            ],
            "type": "histogram2d"
           }
          ],
          "histogram2dcontour": [
           {
            "colorbar": {
             "outlinewidth": 0,
             "ticks": ""
            },
            "colorscale": [
             [
              0,
              "#0d0887"
             ],
             [
              0.1111111111111111,
              "#46039f"
             ],
             [
              0.2222222222222222,
              "#7201a8"
             ],
             [
              0.3333333333333333,
              "#9c179e"
             ],
             [
              0.4444444444444444,
              "#bd3786"
             ],
             [
              0.5555555555555556,
              "#d8576b"
             ],
             [
              0.6666666666666666,
              "#ed7953"
             ],
             [
              0.7777777777777778,
              "#fb9f3a"
             ],
             [
              0.8888888888888888,
              "#fdca26"
             ],
             [
              1,
              "#f0f921"
             ]
            ],
            "type": "histogram2dcontour"
           }
          ],
          "mesh3d": [
           {
            "colorbar": {
             "outlinewidth": 0,
             "ticks": ""
            },
            "type": "mesh3d"
           }
          ],
          "parcoords": [
           {
            "line": {
             "colorbar": {
              "outlinewidth": 0,
              "ticks": ""
             }
            },
            "type": "parcoords"
           }
          ],
          "pie": [
           {
            "automargin": true,
            "type": "pie"
           }
          ],
          "scatter": [
           {
            "fillpattern": {
             "fillmode": "overlay",
             "size": 10,
             "solidity": 0.2
            },
            "type": "scatter"
           }
          ],
          "scatter3d": [
           {
            "line": {
             "colorbar": {
              "outlinewidth": 0,
              "ticks": ""
             }
            },
            "marker": {
             "colorbar": {
              "outlinewidth": 0,
              "ticks": ""
             }
            },
            "type": "scatter3d"
           }
          ],
          "scattercarpet": [
           {
            "marker": {
             "colorbar": {
              "outlinewidth": 0,
              "ticks": ""
             }
            },
            "type": "scattercarpet"
           }
          ],
          "scattergeo": [
           {
            "marker": {
             "colorbar": {
              "outlinewidth": 0,
              "ticks": ""
             }
            },
            "type": "scattergeo"
           }
          ],
          "scattergl": [
           {
            "marker": {
             "colorbar": {
              "outlinewidth": 0,
              "ticks": ""
             }
            },
            "type": "scattergl"
           }
          ],
          "scattermap": [
           {
            "marker": {
             "colorbar": {
              "outlinewidth": 0,
              "ticks": ""
             }
            },
            "type": "scattermap"
           }
          ],
          "scattermapbox": [
           {
            "marker": {
             "colorbar": {
              "outlinewidth": 0,
              "ticks": ""
             }
            },
            "type": "scattermapbox"
           }
          ],
          "scatterpolar": [
           {
            "marker": {
             "colorbar": {
              "outlinewidth": 0,
              "ticks": ""
             }
            },
            "type": "scatterpolar"
           }
          ],
          "scatterpolargl": [
           {
            "marker": {
             "colorbar": {
              "outlinewidth": 0,
              "ticks": ""
             }
            },
            "type": "scatterpolargl"
           }
          ],
          "scatterternary": [
           {
            "marker": {
             "colorbar": {
              "outlinewidth": 0,
              "ticks": ""
             }
            },
            "type": "scatterternary"
           }
          ],
          "surface": [
           {
            "colorbar": {
             "outlinewidth": 0,
             "ticks": ""
            },
            "colorscale": [
             [
              0,
              "#0d0887"
             ],
             [
              0.1111111111111111,
              "#46039f"
             ],
             [
              0.2222222222222222,
              "#7201a8"
             ],
             [
              0.3333333333333333,
              "#9c179e"
             ],
             [
              0.4444444444444444,
              "#bd3786"
             ],
             [
              0.5555555555555556,
              "#d8576b"
             ],
             [
              0.6666666666666666,
              "#ed7953"
             ],
             [
              0.7777777777777778,
              "#fb9f3a"
             ],
             [
              0.8888888888888888,
              "#fdca26"
             ],
             [
              1,
              "#f0f921"
             ]
            ],
            "type": "surface"
           }
          ],
          "table": [
           {
            "cells": {
             "fill": {
              "color": "#EBF0F8"
             },
             "line": {
              "color": "white"
             }
            },
            "header": {
             "fill": {
              "color": "#C8D4E3"
             },
             "line": {
              "color": "white"
             }
            },
            "type": "table"
           }
          ]
         },
         "layout": {
          "annotationdefaults": {
           "arrowcolor": "#2a3f5f",
           "arrowhead": 0,
           "arrowwidth": 1
          },
          "autotypenumbers": "strict",
          "coloraxis": {
           "colorbar": {
            "outlinewidth": 0,
            "ticks": ""
           }
          },
          "colorscale": {
           "diverging": [
            [
             0,
             "#8e0152"
            ],
            [
             0.1,
             "#c51b7d"
            ],
            [
             0.2,
             "#de77ae"
            ],
            [
             0.3,
             "#f1b6da"
            ],
            [
             0.4,
             "#fde0ef"
            ],
            [
             0.5,
             "#f7f7f7"
            ],
            [
             0.6,
             "#e6f5d0"
            ],
            [
             0.7,
             "#b8e186"
            ],
            [
             0.8,
             "#7fbc41"
            ],
            [
             0.9,
             "#4d9221"
            ],
            [
             1,
             "#276419"
            ]
           ],
           "sequential": [
            [
             0,
             "#0d0887"
            ],
            [
             0.1111111111111111,
             "#46039f"
            ],
            [
             0.2222222222222222,
             "#7201a8"
            ],
            [
             0.3333333333333333,
             "#9c179e"
            ],
            [
             0.4444444444444444,
             "#bd3786"
            ],
            [
             0.5555555555555556,
             "#d8576b"
            ],
            [
             0.6666666666666666,
             "#ed7953"
            ],
            [
             0.7777777777777778,
             "#fb9f3a"
            ],
            [
             0.8888888888888888,
             "#fdca26"
            ],
            [
             1,
             "#f0f921"
            ]
           ],
           "sequentialminus": [
            [
             0,
             "#0d0887"
            ],
            [
             0.1111111111111111,
             "#46039f"
            ],
            [
             0.2222222222222222,
             "#7201a8"
            ],
            [
             0.3333333333333333,
             "#9c179e"
            ],
            [
             0.4444444444444444,
             "#bd3786"
            ],
            [
             0.5555555555555556,
             "#d8576b"
            ],
            [
             0.6666666666666666,
             "#ed7953"
            ],
            [
             0.7777777777777778,
             "#fb9f3a"
            ],
            [
             0.8888888888888888,
             "#fdca26"
            ],
            [
             1,
             "#f0f921"
            ]
           ]
          },
          "colorway": [
           "#636efa",
           "#EF553B",
           "#00cc96",
           "#ab63fa",
           "#FFA15A",
           "#19d3f3",
           "#FF6692",
           "#B6E880",
           "#FF97FF",
           "#FECB52"
          ],
          "font": {
           "color": "#2a3f5f"
          },
          "geo": {
           "bgcolor": "white",
           "lakecolor": "white",
           "landcolor": "#E5ECF6",
           "showlakes": true,
           "showland": true,
           "subunitcolor": "white"
          },
          "hoverlabel": {
           "align": "left"
          },
          "hovermode": "closest",
          "mapbox": {
           "style": "light"
          },
          "paper_bgcolor": "white",
          "plot_bgcolor": "#E5ECF6",
          "polar": {
           "angularaxis": {
            "gridcolor": "white",
            "linecolor": "white",
            "ticks": ""
           },
           "bgcolor": "#E5ECF6",
           "radialaxis": {
            "gridcolor": "white",
            "linecolor": "white",
            "ticks": ""
           }
          },
          "scene": {
           "xaxis": {
            "backgroundcolor": "#E5ECF6",
            "gridcolor": "white",
            "gridwidth": 2,
            "linecolor": "white",
            "showbackground": true,
            "ticks": "",
            "zerolinecolor": "white"
           },
           "yaxis": {
            "backgroundcolor": "#E5ECF6",
            "gridcolor": "white",
            "gridwidth": 2,
            "linecolor": "white",
            "showbackground": true,
            "ticks": "",
            "zerolinecolor": "white"
           },
           "zaxis": {
            "backgroundcolor": "#E5ECF6",
            "gridcolor": "white",
            "gridwidth": 2,
            "linecolor": "white",
            "showbackground": true,
            "ticks": "",
            "zerolinecolor": "white"
           }
          },
          "shapedefaults": {
           "line": {
            "color": "#2a3f5f"
           }
          },
          "ternary": {
           "aaxis": {
            "gridcolor": "white",
            "linecolor": "white",
            "ticks": ""
           },
           "baxis": {
            "gridcolor": "white",
            "linecolor": "white",
            "ticks": ""
           },
           "bgcolor": "#E5ECF6",
           "caxis": {
            "gridcolor": "white",
            "linecolor": "white",
            "ticks": ""
           }
          },
          "title": {
           "x": 0.05
          },
          "xaxis": {
           "automargin": true,
           "gridcolor": "white",
           "linecolor": "white",
           "ticks": "",
           "title": {
            "standoff": 15
           },
           "zerolinecolor": "white",
           "zerolinewidth": 2
          },
          "yaxis": {
           "automargin": true,
           "gridcolor": "white",
           "linecolor": "white",
           "ticks": "",
           "title": {
            "standoff": 15
           },
           "zerolinecolor": "white",
           "zerolinewidth": 2
          }
         }
        },
        "title": {
         "text": "Ackermann Steering Simulator"
        },
        "width": 1200,
        "xaxis": {
         "anchor": "y",
         "domain": [
          0,
          0.3
         ],
         "range": [
          0,
          45
         ],
         "title": {
          "text": "Inner Steering Angle (degrees)"
         }
        },
        "xaxis2": {
         "anchor": "y2",
         "domain": [
          0.35,
          0.6499999999999999
         ],
         "range": [
          0,
          45
         ],
         "title": {
          "text": "Inner Steering Angle (degrees)"
         }
        },
        "xaxis3": {
         "anchor": "y3",
         "domain": [
          0.7,
          1
         ]
        },
        "xaxis4": {
         "anchor": "y4",
         "domain": [
          0,
          0.3
         ],
         "range": [
          0,
          45
         ],
         "title": {
          "text": "Inner Steering Angle (degrees)"
         }
        },
        "xaxis5": {
         "anchor": "y5",
         "domain": [
          0.35,
          0.6499999999999999
         ],
         "range": [
          0,
          720
         ],
         "title": {
          "text": "Steering Wheel Angle (degrees)"
         }
        },
        "xaxis6": {
         "anchor": "y6",
         "domain": [
          0.7,
          1
         ]
        },
        "xaxis7": {
         "anchor": "y7",
         "domain": [
          0,
          1
         ],
         "range": [
          -12,
          5
         ],
         "title": {
          "text": "X (m)"
         }
        },
        "yaxis": {
         "anchor": "x",
         "domain": [
          0.7333333333333334,
          1
         ],
         "range": [
          0,
          45
         ],
         "title": {
          "text": "Outer Steering Angle (degrees)"
         }
        },
        "yaxis2": {
         "anchor": "x2",
         "domain": [
          0.7333333333333334,
          1
         ],
         "range": [
          0,
          20
         ],
         "title": {
          "text": "Turning Radius (m)"
         }
        },
        "yaxis3": {
         "anchor": "x3",
         "domain": [
          0.7333333333333334,
          1
         ]
        },
        "yaxis4": {
         "anchor": "x4",
         "domain": [
          0.3666666666666667,
          0.6333333333333333
         ],
         "range": [
          0,
          110
         ],
         "title": {
          "text": "Ackermann Percentage (%)"
         }
        },
        "yaxis5": {
         "anchor": "x5",
         "domain": [
          0.3666666666666667,
          0.6333333333333333
         ],
         "range": [
          0,
          44
         ],
         "title": {
          "text": "Road Wheel Angle (degrees)"
         }
        },
        "yaxis6": {
         "anchor": "x6",
         "domain": [
          0.3666666666666667,
          0.6333333333333333
         ]
        },
        "yaxis7": {
         "anchor": "x7",
         "domain": [
          0,
          0.26666666666666666
         ],
         "range": [
          -5,
          5
         ],
         "title": {
          "text": "Y (m)"
         }
        }
       }
      }
     },
     "metadata": {},
     "output_type": "display_data"
    }
   ],
   "source": [
    "import numpy as np\n",
    "import plotly.graph_objects as go\n",
    "from plotly.subplots import make_subplots\n",
    "import ipywidgets as widgets\n",
    "from IPython.display import display\n",
    "from scipy.optimize import fsolve\n",
    "from math import sin, cos, radians, degrees, sqrt, tan, atan\n",
    "\n",
    "\n",
    "# Function to calculate the corresponding angle using the Ackermann relationship\n",
    "def calculate_inner_outer_angles(turning_radius, wheelbase, track_width):\n",
    "    \"\"\"Calculate both inner and outer angles based on turning radius\"\"\"\n",
    "    R = turning_radius\n",
    "    L = wheelbase\n",
    "    B = track_width\n",
    "    \n",
    "    inner_angle_rad = np.arctan(L / (R - B/2))\n",
    "    outer_angle_rad = np.arctan(L / (R + B/2))\n",
    "    \n",
    "    return np.rad2deg(inner_angle_rad), np.rad2deg(outer_angle_rad)\n",
    "\n",
    "def calculate_outer_angle(inner_angle, B, L):\n",
    "    \"\"\"Calculate outer angle from inner angle using Ackermann relationship\"\"\"\n",
    "    inner_rad = np.deg2rad(inner_angle)\n",
    "    cot_inner = 1 / np.tan(inner_rad)\n",
    "    cot_outer = cot_inner + B/L\n",
    "    if np.abs(cot_outer) < 1e-10:\n",
    "        outer_rad = np.pi/2 if cot_outer >= 0 else -np.pi/2\n",
    "    else:\n",
    "        outer_rad = np.arctan(1 / cot_outer)\n",
    "    return np.rad2deg(outer_rad)\n",
    "\n",
    "def calculate_turning_radius(inner_angle, B, L):\n",
    "    \"\"\"Calculate turning radius to center of rear axle from inner angle\"\"\"\n",
    "    inner_rad = np.deg2rad(inner_angle)\n",
    "    Ri = L / np.tan(inner_rad)\n",
    "    R = Ri + B/2\n",
    "    return R\n",
    "\n",
    "def calculate_ackermann_percentage(inner_angle, outer_angle, B, L):\n",
    "    \"\"\"Calculate how close the steering is to perfect Ackermann geometry\"\"\"\n",
    "    ideal_outer = calculate_outer_angle(inner_angle, B, L)\n",
    "    deviation = np.abs(ideal_outer - outer_angle)\n",
    "    max_deviation = np.abs(ideal_outer - inner_angle)\n",
    "    \n",
    "    if max_deviation == 0:\n",
    "        return 100.0\n",
    "    \n",
    "    return (1 - deviation / max_deviation) * 100.0\n",
    "# Initial parameters\n",
    "wheelbase = 2.5  # L (m)\n",
    "track_width = 1.5  # B (m)\n",
    "turning_radius = 5.0  # R (m) to outside wheel\n",
    "max_steering_angle = 40.0  # Maximum steering angle in degrees\n",
    "steering_ratio = 15.0  # Steering wheel to road wheel ratio\n",
    "kingpin_inclination = 10.0  # Degrees\n",
    "caster_angle = 5.0  # Degrees\n",
    "scrub_radius = 0.05  # meters\n",
    "\n",
    "# Calculate initial angles\n",
    "inner_angle_init, outer_angle_init = calculate_inner_outer_angles(turning_radius, wheelbase, track_width)\n",
    "\n",
    "# Create figure with subplots\n",
    "fig = make_subplots(\n",
    "    rows=3, cols=3,\n",
    "    specs=[\n",
    "        [{\"type\": \"xy\"}, {\"type\": \"xy\"}, {\"type\": \"xy\"}],\n",
    "        [{\"type\": \"xy\"}, {\"type\": \"xy\"}, {\"type\": \"xy\"}],\n",
    "        [{\"colspan\": 3, \"type\": \"xy\"}, None, None],\n",
    "    ],\n",
    "    subplot_titles=(\n",
    "        \"Ackermann Steering Angle Relationship\", \n",
    "        \"Turning Radius vs Inner Angle\", \n",
    "        \"Wheel Steering Geometry\",\n",
    "        \"Ackermann Compliance\", \n",
    "        \"Steering Ratio Effects\",\n",
    "        \"Instructions\",\n",
    "        \"Vehicle Top-Down View\"\n",
    "    ),\n",
    "    vertical_spacing=0.1,\n",
    "    horizontal_spacing=0.05\n",
    ")\n",
    "\n",
    "# Prepare data for plots\n",
    "inner_angles = np.linspace(1, 45, 100)  # degrees\n",
    "outer_angles = [calculate_outer_angle(inner, track_width, wheelbase) for inner in inner_angles]\n",
    "parallel_steering = inner_angles  # For comparison (parallel steering has equal angles)\n",
    "turning_radii = [calculate_turning_radius(inner, track_width, wheelbase) for inner in inner_angles]\n",
    "ackermann_pcts = [calculate_ackermann_percentage(inner, calculate_outer_angle(inner, track_width, wheelbase), \n",
    "                                          track_width, wheelbase) for inner in inner_angles]\n",
    "steering_wheel_angles = np.linspace(0, 720, 100)  # Steering wheel angle (degrees)\n",
    "road_wheel_angles = [min(angle/steering_ratio, max_steering_angle) for angle in steering_wheel_angles]\n",
    "\n",
    "# Create the plots\n",
    "# 1. Angle relationship plot\n",
    "fig.add_trace(\n",
    "    go.Scatter(x=inner_angles, y=outer_angles, mode='lines', name='Ackermann', line=dict(color='blue', width=2)),\n",
    "    row=1, col=1\n",
    ")\n",
    "fig.add_trace(\n",
    "    go.Scatter(x=inner_angles, y=parallel_steering, mode='lines', name='Parallel', \n",
    "               line=dict(color='black', width=2, dash='dash')),\n",
    "    row=1, col=1\n",
    ")\n",
    "angle_marker = fig.add_trace(\n",
    "    go.Scatter(x=[inner_angle_init], y=[outer_angle_init], mode='markers', \n",
    "               marker=dict(color='red', size=10), showlegend=False),\n",
    "    row=1, col=1\n",
    ")\n",
    "\n",
    "# 2. Turning radius plot\n",
    "fig.add_trace(\n",
    "    go.Scatter(x=inner_angles, y=turning_radii, mode='lines', \n",
    "               line=dict(color='green', width=2), showlegend=False),\n",
    "    row=1, col=2\n",
    ")\n",
    "radius_marker = fig.add_trace(\n",
    "    go.Scatter(x=[inner_angle_init], y=[turning_radius], mode='markers', \n",
    "               marker=dict(color='red', size=10), showlegend=False),\n",
    "    row=1, col=2\n",
    ")\n",
    "\n",
    "# 3. 3D wheel geometry placeholder\n",
    "fig.add_trace(\n",
    "    go.Scatter(x=[0], y=[0], mode='text', \n",
    "               text=[\"Interactive 3D wheel geometry<br>will be implemented with controls\"],\n",
    "               textposition=\"middle center\",\n",
    "               showlegend=False),\n",
    "    row=1, col=3\n",
    ")\n",
    "\n",
    "# 4. Ackermann percentage plot\n",
    "fig.add_trace(\n",
    "    go.Scatter(x=inner_angles, y=ackermann_pcts, mode='lines', \n",
    "               line=dict(color='blue', width=2), showlegend=False),\n",
    "    row=2, col=1\n",
    ")\n",
    "ackermann_marker = fig.add_trace(\n",
    "    go.Scatter(x=[inner_angle_init], \n",
    "               y=[calculate_ackermann_percentage(inner_angle_init, outer_angle_init, track_width, wheelbase)], \n",
    "               mode='markers', marker=dict(color='red', size=10), showlegend=False),\n",
    "    row=2, col=1\n",
    ")\n",
    "\n",
    "# 5. Steering ratio plot\n",
    "fig.add_trace(\n",
    "    go.Scatter(x=steering_wheel_angles, y=road_wheel_angles, mode='lines', \n",
    "               line=dict(color='magenta', width=2), showlegend=False),\n",
    "    row=2, col=2\n",
    ")\n",
    "steer_ratio_marker = fig.add_trace(\n",
    "    go.Scatter(x=[inner_angle_init*steering_ratio], y=[inner_angle_init], mode='markers', \n",
    "               marker=dict(color='red', size=10), showlegend=False),\n",
    "    row=2, col=2\n",
    ")\n",
    "\n",
    "# 6. Instructions panel\n",
    "fig.add_trace(\n",
    "    go.Scatter(x=[0], y=[0], mode='text', \n",
    "               text=[\"<b>Ackermann Steering Simulator</b><br><br>\"\n",
    "                     \"• Use widgets below to adjust vehicle parameters<br>\"\n",
    "                     \"• Observe how changes affect steering geometry<br>\"\n",
    "                     \"• Ackermann steering ensures inner wheel turns<br>\"\n",
    "                     \"  at a sharper angle than the outer wheel<br>\"\n",
    "                     \"• This reduces tire scrub during turns\"],\n",
    "               textposition=\"middle center\",\n",
    "               showlegend=False),\n",
    "    row=2, col=3\n",
    ")\n",
    "\n",
    "# 7. Vehicle visualization (will be updated by the callback)\n",
    "car_x = [0, wheelbase, wheelbase, 0, 0]\n",
    "car_y = [-track_width/2, -track_width/2, track_width/2, track_width/2, -track_width/2]\n",
    "\n",
    "# Draw vehicle body\n",
    "fig.add_trace(\n",
    "    go.Scatter(x=car_x, y=car_y, mode='lines', line=dict(color='blue', width=2), \n",
    "               name='Vehicle', fill='toself', fillcolor='rgba(0,0,255,0.1)'),\n",
    "    row=3, col=1\n",
    ")\n",
    "\n",
    "# Add wheels (simplified rectangles for now)\n",
    "wheel_length = wheelbase * 0.1\n",
    "wheel_width = track_width * 0.1\n",
    "\n",
    "# Function to create wheel coordinates\n",
    "def get_wheel_coords(x_center, y_center, angle_deg):\n",
    "    # Define wheel as a rectangle\n",
    "    l, w = wheel_length, wheel_width\n",
    "    points_x = [-l/2, l/2, l/2, -l/2, -l/2]\n",
    "    points_y = [-w/2, -w/2, w/2, w/2, -w/2]\n",
    "    \n",
    "    # Rotate points\n",
    "    angle_rad = np.deg2rad(angle_deg)\n",
    "    rotated_x = []\n",
    "    rotated_y = []\n",
    "    for x, y in zip(points_x, points_y):\n",
    "        rx = x * np.cos(angle_rad) - y * np.sin(angle_rad)\n",
    "        ry = x * np.sin(angle_rad) + y * np.cos(angle_rad)\n",
    "        rotated_x.append(rx + x_center)\n",
    "        rotated_y.append(ry + y_center)\n",
    "    \n",
    "    return rotated_x, rotated_y\n",
    "\n",
    "# Front left wheel (inner wheel)\n",
    "fl_x, fl_y = get_wheel_coords(wheelbase, track_width/2, inner_angle_init)\n",
    "fig.add_trace(\n",
    "    go.Scatter(x=fl_x, y=fl_y, mode='lines', line=dict(color='black', width=2), \n",
    "               fill='toself', fillcolor='black', name='Front Left Wheel'),\n",
    "    row=3, col=1\n",
    ")\n",
    "\n",
    "# Front right wheel (outer wheel)\n",
    "fr_x, fr_y = get_wheel_coords(wheelbase, -track_width/2, outer_angle_init)\n",
    "fig.add_trace(\n",
    "    go.Scatter(x=fr_x, y=fr_y, mode='lines', line=dict(color='black', width=2), \n",
    "               fill='toself', fillcolor='black', name='Front Right Wheel'),\n",
    "    row=3, col=1\n",
    ")\n",
    "\n",
    "# Rear left wheel\n",
    "rl_x, rl_y = get_wheel_coords(0, track_width/2, 0)\n",
    "fig.add_trace(\n",
    "    go.Scatter(x=rl_x, y=rl_y, mode='lines', line=dict(color='black', width=2), \n",
    "               fill='toself', fillcolor='black', name='Rear Left Wheel'),\n",
    "    row=3, col=1\n",
    ")\n",
    "\n",
    "# Rear right wheel\n",
    "rr_x, rr_y = get_wheel_coords(0, -track_width/2, 0)\n",
    "fig.add_trace(\n",
    "    go.Scatter(x=rr_x, y=rr_y, mode='lines', line=dict(color='black', width=2), \n",
    "               fill='toself', fillcolor='black', name='Rear Right Wheel'),\n",
    "    row=3, col=1\n",
    ")\n",
    "\n",
    "# Add turning circle\n",
    "tc_x = -turning_radius\n",
    "tc_y = 0\n",
    "\n",
    "# Add turning center marker\n",
    "fig.add_trace(\n",
    "    go.Scatter(x=[tc_x], y=[tc_y], mode='markers', marker=dict(color='red', size=10),\n",
    "               name='Turning Center'),\n",
    "    row=3, col=1\n",
    ")\n",
    "\n",
    "# Add turning radius lines\n",
    "fig.add_trace(\n",
    "    go.Scatter(x=[tc_x, 0], y=[tc_y, 0], mode='lines', line=dict(color='red', width=1, dash='dash'),\n",
    "               name='Radius to Rear Axle'),\n",
    "    row=3, col=1\n",
    ")\n",
    "fig.add_trace(\n",
    "    go.Scatter(x=[tc_x, wheelbase], y=[tc_y, track_width/2], mode='lines', \n",
    "               line=dict(color='red', width=1, dash='dash'),\n",
    "               name='Radius to Inner Wheel'),\n",
    "    row=3, col=1\n",
    ")\n",
    "fig.add_trace(\n",
    "    go.Scatter(x=[tc_x, wheelbase], y=[tc_y, -track_width/2], mode='lines', \n",
    "               line=dict(color='red', width=1, dash='dash'),\n",
    "               name='Radius to Outer Wheel'),\n",
    "    row=3, col=1\n",
    ")\n",
    "\n",
    "# Add text information\n",
    "info_text = f\"Inner angle: {inner_angle_init:.1f}°<br>Outer angle: {outer_angle_init:.1f}°<br>\"\n",
    "info_text += f\"Turning radius: {turning_radius:.1f}m<br>Track width: {track_width:.1f}m<br>Wheelbase: {wheelbase:.1f}m<br>\"\n",
    "info_text += f\"Ackermann %: {calculate_ackermann_percentage(inner_angle_init, outer_angle_init, track_width, wheelbase):.1f}%\"\n",
    "\n",
    "fig.add_trace(\n",
    "    go.Scatter(x=[wheelbase/2], y=[track_width], mode='text', \n",
    "               text=[info_text],\n",
    "               textposition=\"top right\",\n",
    "               showlegend=False),\n",
    "    row=3, col=1\n",
    ")\n",
    "\n",
    "# Update layout\n",
    "fig.update_layout(\n",
    "    height=900,\n",
    "    width=1200,\n",
    "    title_text=\"Ackermann Steering Simulator\",\n",
    "    showlegend=True,\n",
    "    # Position the legend outside the plot area on the right side\n",
    "    legend=dict(\n",
    "        x=1.02,\n",
    "        y=0.5,\n",
    "        xanchor=\"left\",\n",
    "        yanchor=\"middle\",\n",
    "        bordercolor=\"Black\",\n",
    "        borderwidth=1,\n",
    "        orientation=\"v\"\n",
    "    )\n",
    ")\n",
    "\n",
    "# Update axes\n",
    "fig.update_xaxes(title_text=\"Inner Steering Angle (degrees)\", range=[0, 45], row=1, col=1)\n",
    "fig.update_yaxes(title_text=\"Outer Steering Angle (degrees)\", range=[0, 45], row=1, col=1)\n",
    "\n",
    "fig.update_xaxes(title_text=\"Inner Steering Angle (degrees)\", range=[0, 45], row=1, col=2)\n",
    "fig.update_yaxes(title_text=\"Turning Radius (m)\", range=[0, 20], row=1, col=2)\n",
    "\n",
    "fig.update_xaxes(title_text=\"Inner Steering Angle (degrees)\", range=[0, 45], row=2, col=1)\n",
    "fig.update_yaxes(title_text=\"Ackermann Percentage (%)\", range=[0, 110], row=2, col=1)\n",
    "\n",
    "fig.update_xaxes(title_text=\"Steering Wheel Angle (degrees)\", range=[0, 720], row=2, col=2)\n",
    "fig.update_yaxes(title_text=\"Road Wheel Angle (degrees)\", range=[0, max_steering_angle*1.1], row=2, col=2)\n",
    "\n",
    "fig.update_xaxes(title_text=\"X (m)\", range=[-12, 5], row=3, col=1)\n",
    "fig.update_yaxes(title_text=\"Y (m)\", range=[-5, 5], row=3, col=1)\n",
    "\n",
    "# Create interactive widgets\n",
    "control_mode = widgets.RadioButtons(\n",
    "    options=['Turning Radius', 'Inner Angle'],\n",
    "    value='Turning Radius',\n",
    "    description='Control Mode:',\n",
    "    disabled=False\n",
    ")\n",
    "\n",
    "turning_radius_slider = widgets.FloatSlider(\n",
    "    value=turning_radius,\n",
    "    min=2.0,\n",
    "    max=20.0,\n",
    "    step=0.1,\n",
    "    description='Turning Radius (m):',\n",
    "    disabled=False,\n",
    "    continuous_update=True,\n",
    "    orientation='horizontal',\n",
    "    readout=True,\n",
    "    readout_format='.1f',\n",
    ")\n",
    "\n",
    "inner_angle_slider = widgets.FloatSlider(\n",
    "    value=inner_angle_init,\n",
    "    min=1.0,\n",
    "    max=45.0,\n",
    "    step=0.1,\n",
    "    description='Inner Angle (°):',\n",
    "    disabled=False,\n",
    "    continuous_update=True,\n",
    "    orientation='horizontal',\n",
    "    readout=True,\n",
    "    readout_format='.1f',\n",
    ")\n",
    "\n",
    "track_width_slider = widgets.FloatSlider(\n",
    "    value=track_width,\n",
    "    min=0.5,\n",
    "    max=3.0,\n",
    "    step=0.1,\n",
    "    description='Track Width (m):',\n",
    "    disabled=False,\n",
    "    continuous_update=True,\n",
    "    orientation='horizontal',\n",
    "    readout=True,\n",
    "    readout_format='.1f',\n",
    ")\n",
    "\n",
    "wheelbase_slider = widgets.FloatSlider(\n",
    "    value=wheelbase,\n",
    "    min=1.0,\n",
    "    max=5.0,\n",
    "    step=0.1,\n",
    "    description='Wheelbase (m):',\n",
    "    disabled=False,\n",
    "    continuous_update=True,\n",
    "    orientation='horizontal',\n",
    "    readout=True,\n",
    "    readout_format='.1f',\n",
    ")\n",
    "\n",
    "steering_ratio_slider = widgets.FloatSlider(\n",
    "    value=steering_ratio,\n",
    "    min=5.0,\n",
    "    max=25.0,\n",
    "    step=0.5,\n",
    "    description='Steering Ratio:',\n",
    "    disabled=False,\n",
    "    continuous_update=True,\n",
    "    orientation='horizontal',\n",
    "    readout=True,\n",
    "    readout_format='.1f',\n",
    ")\n",
    "\n",
    "show_turning_circle = widgets.Checkbox(\n",
    "    value=True,\n",
    "    description='Show Turning Circle',\n",
    "    disabled=False\n",
    ")\n",
    "\n",
    "show_steering_arms = widgets.Checkbox(\n",
    "    value=False,\n",
    "    description='Show Steering Arms',\n",
    "    disabled=False\n",
    ")\n",
    "\n",
    "reset_button = widgets.Button(\n",
    "    description='Reset Parameters',\n",
    "    disabled=False,\n",
    "    button_style='', \n",
    "    tooltip='Reset all parameters to default values',\n",
    "    icon='refresh'\n",
    ")\n",
    "\n",
    "# Define update function for widgets\n",
    "def update_plot(change=None):\n",
    "    global wheelbase, track_width, turning_radius, steering_ratio\n",
    "    \n",
    "    # Get values from sliders\n",
    "    wheelbase = wheelbase_slider.value\n",
    "    track_width = track_width_slider.value\n",
    "    steering_ratio = steering_ratio_slider.value\n",
    "    \n",
    "    # Handle control mode\n",
    "    if control_mode.value == 'Turning Radius':\n",
    "        turning_radius = turning_radius_slider.value\n",
    "        inner_angle, outer_angle = calculate_inner_outer_angles(turning_radius, wheelbase, track_width)\n",
    "        # Update inner angle slider without triggering callback\n",
    "        inner_angle_slider.value = inner_angle\n",
    "    else:  # 'Inner Angle'\n",
    "        inner_angle = inner_angle_slider.value\n",
    "        turning_radius = calculate_turning_radius(inner_angle, track_width, wheelbase)\n",
    "        outer_angle = calculate_outer_angle(inner_angle, track_width, wheelbase)\n",
    "        # Update turning radius slider without triggering callback\n",
    "        turning_radius_slider.value = turning_radius\n",
    "    \n",
    "    # Recalculate all dependent values\n",
    "    outer_angles = [calculate_outer_angle(inner, track_width, wheelbase) for inner in inner_angles]\n",
    "    turning_radii = [calculate_turning_radius(inner, track_width, wheelbase) for inner in inner_angles]\n",
    "    ackermann_pcts = [calculate_ackermann_percentage(inner, calculate_outer_angle(inner, track_width, wheelbase), \n",
    "                                              track_width, wheelbase) for inner in inner_angles]\n",
    "    road_wheel_angles = [min(angle/steering_ratio, max_steering_angle) for angle in steering_wheel_angles]\n",
    "    \n",
    "    # Update angle relationship plot\n",
    "    with fig.batch_update():\n",
    "        fig.data[1].y = outer_angles  # Ackermann line\n",
    "        fig.data[2].x = [inner_angle]  # Angle marker X\n",
    "        fig.data[2].y = [outer_angle]  # Angle marker Y\n",
    "        \n",
    "        # Update turning radius plot\n",
    "        fig.data[3].y = turning_radii  # Turning radius line\n",
    "        fig.data[4].x = [inner_angle]  # Radius marker X\n",
    "        fig.data[4].y = [turning_radius]  # Radius marker Y\n",
    "        \n",
    "        # Update Ackermann percentage plot\n",
    "        fig.data[6].y = ackermann_pcts  # Ackermann percentage line\n",
    "        current_ackermann_pct = calculate_ackermann_percentage(inner_angle, outer_angle, track_width, wheelbase)\n",
    "        fig.data[7].x = [inner_angle]  # Ackermann marker X\n",
    "        fig.data[7].y = [current_ackermann_pct]  # Ackermann marker Y\n",
    "        \n",
    "        # Update steering ratio plot\n",
    "        fig.data[8].y = road_wheel_angles  # Steering ratio line\n",
    "        fig.data[9].x = [inner_angle*steering_ratio]  # Steering ratio marker X\n",
    "        fig.data[9].y = [inner_angle]  # Steering ratio marker Y\n",
    "        \n",
    "        # Update vehicle visualization\n",
    "        # Update car body\n",
    "        car_x = [0, wheelbase, wheelbase, 0, 0]\n",
    "        car_y = [-track_width/2, -track_width/2, track_width/2, track_width/2, -track_width/2]\n",
    "        fig.data[11].x = car_x\n",
    "        fig.data[11].y = car_y\n",
    "        \n",
    "        # Update wheels\n",
    "        # Front left wheel (inner wheel)\n",
    "        fl_x, fl_y = get_wheel_coords(wheelbase, track_width/2, inner_angle)\n",
    "        fig.data[12].x = fl_x\n",
    "        fig.data[12].y = fl_y\n",
    "        \n",
    "        # Front right wheel (outer wheel)\n",
    "        fr_x, fr_y = get_wheel_coords(wheelbase, -track_width/2, outer_angle)\n",
    "        fig.data[13].x = fr_x\n",
    "        fig.data[13].y = fr_y\n",
    "        \n",
    "        # Rear left wheel\n",
    "        rl_x, rl_y = get_wheel_coords(0, track_width/2, 0)\n",
    "        fig.data[14].x = rl_x\n",
    "        fig.data[14].y = rl_y\n",
    "        \n",
    "        # Rear right wheel\n",
    "        rr_x, rr_y = get_wheel_coords(0, -track_width/2, 0)\n",
    "        fig.data[15].x = rr_x\n",
    "        fig.data[15].y = rr_y\n",
    "        \n",
    "        # Update turning center and radius\n",
    "        tc_x = -turning_radius\n",
    "        tc_y = 0\n",
    "        \n",
    "        # Update turning center marker\n",
    "        fig.data[16].x = [tc_x]\n",
    "        fig.data[16].y = [tc_y]\n",
    "        \n",
    "        # Update turning radius lines\n",
    "        fig.data[17].x = [tc_x, 0]  # To rear axle center\n",
    "        fig.data[17].y = [tc_y, 0]\n",
    "        \n",
    "        fig.data[18].x = [tc_x, wheelbase]  # To inner wheel\n",
    "        fig.data[18].y = [tc_y, track_width/2]\n",
    "        \n",
    "        fig.data[19].x = [tc_x, wheelbase]  # To outer wheel\n",
    "        fig.data[19].y = [tc_y, -track_width/2]\n",
    "        \n",
    "        # Update text information\n",
    "        info_text = f\"Inner angle: {inner_angle:.1f}°<br>Outer angle: {outer_angle:.1f}°<br>\"\n",
    "        info_text += f\"Turning radius: {turning_radius:.1f}m<br>Track width: {track_width:.1f}m<br>Wheelbase: {wheelbase:.1f}m<br>\"\n",
    "        info_text += f\"Ackermann %: {current_ackermann_pct:.1f}%\"\n",
    "        fig.data[20].text = [info_text]\n",
    "        \n",
    "        # Update axes ranges for vehicle plot\n",
    "        fig.update_xaxes(range=[-turning_radius-1, wheelbase+1], row=3, col=1)\n",
    "        fig.update_yaxes(range=[-max(track_width, turning_radius/2)-1, max(track_width, turning_radius/2)+1], row=3, col=1)\n",
    "\n",
    "def reset_parameters(b):\n",
    "    global wheelbase, track_width, turning_radius, steering_ratio\n",
    "    \n",
    "    # Reset to initial values\n",
    "    wheelbase_slider.value = 2.5\n",
    "    track_width_slider.value = 1.5\n",
    "    turning_radius_slider.value = 5.0\n",
    "    steering_ratio_slider.value = 15.0\n",
    "    \n",
    "    # Force update\n",
    "    update_plot()\n",
    "\n",
    "# Connect callbacks\n",
    "control_mode.observe(update_plot, 'value')\n",
    "turning_radius_slider.observe(update_plot, 'value')\n",
    "inner_angle_slider.observe(update_plot, 'value')\n",
    "track_width_slider.observe(update_plot, 'value')\n",
    "wheelbase_slider.observe(update_plot, 'value')\n",
    "steering_ratio_slider.observe(update_plot, 'value')\n",
    "show_turning_circle.observe(update_plot, 'value')\n",
    "show_steering_arms.observe(update_plot, 'value')\n",
    "reset_button.on_click(reset_parameters)\n",
    "\n",
    "def create_wheel_geometry_fig(kingpin_angle, caster_angle, scrub_radius, steer_angle):\n",
    "    \"\"\"Create a 3D figure showing wheel geometry with steering parameters\"\"\"\n",
    "    # Create a new 3D figure\n",
    "    wheel_fig = go.Figure()\n",
    "    \n",
    "    # Convert angles to radians\n",
    "    kingpin_rad = np.deg2rad(kingpin_angle)\n",
    "    caster_rad = np.deg2rad(caster_angle)\n",
    "    steer_rad = np.deg2rad(steer_angle)\n",
    "    \n",
    "    # Wheel dimensions\n",
    "    wheel_radius = 0.3\n",
    "    wheel_width = 0.2\n",
    "    \n",
    "    # Wheel center position (at the ground)\n",
    "    wheel_x = 0\n",
    "    wheel_y = 0\n",
    "    wheel_z = wheel_radius\n",
    "    \n",
    "    # Create points for the wheel (circle in XZ plane)\n",
    "    theta = np.linspace(0, 2*np.pi, 100)\n",
    "    rim_x = wheel_x + wheel_radius * np.cos(theta)\n",
    "    rim_y = np.zeros_like(theta) + wheel_y\n",
    "    rim_z = wheel_z + wheel_radius * np.sin(theta)\n",
    "    \n",
    "    # Create points for the wheel width (side profile)\n",
    "    side_y = np.linspace(-wheel_width/2, wheel_width/2, 2)\n",
    "    side_x = np.zeros_like(side_y) + wheel_x\n",
    "    side_z = np.zeros_like(side_y) + wheel_z\n",
    "    \n",
    "    # Rotate the wheel based on steering angle (around Z axis)\n",
    "    rotated_rim_x = rim_x * np.cos(steer_rad) - rim_y * np.sin(steer_rad)\n",
    "    rotated_rim_y = rim_x * np.sin(steer_rad) + rim_y * np.cos(steer_rad)\n",
    "    \n",
    "    rotated_side_x = side_x * np.cos(steer_rad) - side_y * np.sin(steer_rad)\n",
    "    rotated_side_y = side_x * np.sin(steer_rad) + side_y * np.cos(steer_rad)\n",
    "    \n",
    "    # Add the wheel rim and side profile\n",
    "    wheel_fig.add_trace(\n",
    "        go.Scatter3d(\n",
    "            x=rotated_rim_x, y=rotated_rim_y, z=rim_z,\n",
    "            mode='lines',\n",
    "            line=dict(color='black', width=6),\n",
    "            name='Wheel Rim'\n",
    "        )\n",
    "    )\n",
    "    \n",
    "    # Define kingpin axis\n",
    "    # Start at the top of the suspension (above wheel center)\n",
    "    kingpin_top_x = 0\n",
    "    kingpin_top_y = 0\n",
    "    kingpin_top_z = wheel_radius * 2\n",
    "    \n",
    "    # Kingpin axis points down and inward (positive Y is inward in this model)\n",
    "    # Length of the kingpin axis\n",
    "    kingpin_length = wheel_radius * 2.2\n",
    "    \n",
    "    # Calculate bottom point of kingpin axis\n",
    "    kingpin_bottom_x = kingpin_top_x + kingpin_length * np.sin(kingpin_rad) * np.sin(caster_rad)\n",
    "    kingpin_bottom_y = kingpin_top_y + kingpin_length * np.sin(kingpin_rad) * np.cos(caster_rad)\n",
    "    kingpin_bottom_z = kingpin_top_z - kingpin_length * np.cos(kingpin_rad)\n",
    "    \n",
    "    # Create kingpin axis\n",
    "    wheel_fig.add_trace(\n",
    "        go.Scatter3d(\n",
    "            x=[kingpin_top_x, kingpin_bottom_x],\n",
    "            y=[kingpin_top_y, kingpin_bottom_y],\n",
    "            z=[kingpin_top_z, kingpin_bottom_z],\n",
    "            mode='lines',\n",
    "            line=dict(color='red', width=5),\n",
    "            name='Kingpin Axis'\n",
    "        )\n",
    "    )\n",
    "    \n",
    "    # Add steering axis\n",
    "    wheel_fig.add_trace(\n",
    "        go.Scatter3d(\n",
    "            x=[0, 0],\n",
    "            y=[0, 0],\n",
    "            z=[0, wheel_radius * 2],\n",
    "            mode='lines',\n",
    "            line=dict(color='blue', width=5, dash='dash'),\n",
    "            name='Steering Axis'\n",
    "        )\n",
    "    )\n",
    "    \n",
    "    # Add scrub radius visualization\n",
    "    contact_point_x = wheel_radius * np.sin(steer_rad)\n",
    "    contact_point_y = wheel_radius * np.cos(steer_rad)\n",
    "    contact_point_z = 0\n",
    "    \n",
    "    # Where kingpin axis intersects the ground\n",
    "    kingpin_ground_x = kingpin_bottom_x\n",
    "    kingpin_ground_y = kingpin_bottom_y\n",
    "    kingpin_ground_z = 0\n",
    "    \n",
    "    # Add contact point\n",
    "    wheel_fig.add_trace(\n",
    "        go.Scatter3d(\n",
    "            x=[contact_point_x],\n",
    "            y=[contact_point_y],\n",
    "            z=[contact_point_z],\n",
    "            mode='markers',\n",
    "            marker=dict(color='green', size=8),\n",
    "            name='Contact Point'\n",
    "        )\n",
    "    )\n",
    "    \n",
    "    # Add kingpin intersection with ground\n",
    "    wheel_fig.add_trace(\n",
    "        go.Scatter3d(\n",
    "            x=[kingpin_ground_x],\n",
    "            y=[kingpin_ground_y],\n",
    "            z=[kingpin_ground_z],\n",
    "            mode='markers',\n",
    "            marker=dict(color='orange', size=8),\n",
    "            name='Kingpin Ground Point'\n",
    "        )\n",
    "    )\n",
    "    \n",
    "    # Add scrub radius line\n",
    "    wheel_fig.add_trace(\n",
    "        go.Scatter3d(\n",
    "            x=[contact_point_x, kingpin_ground_x],\n",
    "            y=[contact_point_y, kingpin_ground_y],\n",
    "            z=[contact_point_z, kingpin_ground_z],\n",
    "            mode='lines',\n",
    "            line=dict(color='purple', width=4),\n",
    "            name='Scrub Radius'\n",
    "        )\n",
    "    )\n",
    "    \n",
    "    # Add caster offset visualization\n",
    "    wheel_fig.add_trace(\n",
    "        go.Scatter3d(\n",
    "            x=[kingpin_top_x, kingpin_top_x],\n",
    "            y=[kingpin_top_y, kingpin_bottom_y],\n",
    "            z=[kingpin_top_z, kingpin_top_z],\n",
    "            mode='lines',\n",
    "            line=dict(color='orange', width=4, dash='dot'),\n",
    "            name='Caster Offset'\n",
    "        )\n",
    "    )\n",
    "    \n",
    "    # Configure the layout\n",
    "    wheel_fig.update_layout(\n",
    "        scene=dict(\n",
    "            xaxis_title='X',\n",
    "            yaxis_title='Y',\n",
    "            zaxis_title='Z',\n",
    "            aspectmode='data'\n",
    "        ),\n",
    "        margin=dict(l=0, r=0, b=0, t=30),\n",
    "        scene_camera=dict(\n",
    "            eye=dict(x=1.5, y=1.5, z=1.0)\n",
    "        ),\n",
    "        title=\"3D Wheel Geometry\"\n",
    "    )\n",
    "    \n",
    "    return wheel_fig\n",
    "\n",
    "# Create initial 3D wheel geometry\n",
    "wheel_3d_fig = create_wheel_geometry_fig(kingpin_inclination, caster_angle, scrub_radius, inner_angle_init)\n",
    "\n",
    "# Replace the placeholder with the 3D wheel geometry in the subplot\n",
    "fig.add_trace(\n",
    "    go.Scatter(x=[0], y=[0], mode='text', \n",
    "               text=[\"Loading 3D wheel geometry...\"],\n",
    "               textposition=\"middle center\",\n",
    "               showlegend=False),\n",
    "    row=1, col=3\n",
    ")\n",
    "\n",
    "# Update the update_plot function to update the 3D wheel geometry\n",
    "def update_plot(change=None):\n",
    "    global wheelbase, track_width, turning_radius, steering_ratio, wheel_3d_fig\n",
    "    \n",
    "    # Get values from sliders\n",
    "    wheelbase = wheelbase_slider.value\n",
    "    track_width = track_width_slider.value\n",
    "    steering_ratio = steering_ratio_slider.value\n",
    "    \n",
    "    # Keep existing code here...\n",
    "    \n",
    "    # After updating all the other plots, update the 3D wheel geometry\n",
    "    # Create new 3D wheel geometry with updated angles\n",
    "    wheel_3d_fig = create_wheel_geometry_fig(kingpin_inclination, caster_angle, scrub_radius, inner_angle)\n",
    "    \n",
    "    # The rest of your existing update_plot function...\n",
    "\n",
    "# Add new sliders for wheel geometry parameters\n",
    "kingpin_slider = widgets.FloatSlider(\n",
    "    value=kingpin_inclination,\n",
    "    min=0.0,\n",
    "    max=20.0,\n",
    "    step=0.5,\n",
    "    description='Kingpin Incl. (°):',\n",
    "    disabled=False,\n",
    "    continuous_update=True,\n",
    "    orientation='horizontal',\n",
    "    readout=True,\n",
    "    readout_format='.1f',\n",
    ")\n",
    "\n",
    "caster_slider = widgets.FloatSlider(\n",
    "    value=caster_angle,\n",
    "    min=0.0,\n",
    "    max=15.0,\n",
    "    step=0.5,\n",
    "    description='Caster Angle (°):',\n",
    "    disabled=False,\n",
    "    continuous_update=True,\n",
    "    orientation='horizontal',\n",
    "    readout=True,\n",
    "    readout_format='.1f',\n",
    ")\n",
    "\n",
    "scrub_radius_slider = widgets.FloatSlider(\n",
    "    value=scrub_radius,\n",
    "    min=-0.1,\n",
    "    max=0.2,\n",
    "    step=0.01,\n",
    "    description='Scrub Radius (m):',\n",
    "    disabled=False,\n",
    "    continuous_update=True,\n",
    "    orientation='horizontal',\n",
    "    readout=True,\n",
    "    readout_format='.2f',\n",
    ")\n",
    "\n",
    "# Update the wheel geometry when sliders change\n",
    "kingpin_slider.observe(update_plot, 'value')\n",
    "caster_slider.observe(update_plot, 'value')\n",
    "scrub_radius_slider.observe(update_plot, 'value')\n",
    "\n",
    "# Update the controls display to include the new sliders\n",
    "# Add after the existing controls\n",
    "controls5 = widgets.HBox([kingpin_slider, caster_slider, scrub_radius_slider])\n",
    "\n",
    "# Update the controls VBox to include the new row\n",
    "controls = widgets.VBox([controls1, controls2, controls3, controls4, controls5])\n",
    "\n",
    "# Add a button to open the 3D view in a new window\n",
    "view_3d_button = widgets.Button(\n",
    "    description='Open 3D View',\n",
    "    disabled=False,\n",
    "    button_style='info',\n",
    "    tooltip='Open 3D wheel geometry in a separate window',\n",
    "    icon='cube'\n",
    ")\n",
    "\n",
    "def open_3d_view(b):\n",
    "    \"\"\"Open the 3D wheel geometry in a new window\"\"\"\n",
    "    # Create a new figure with current parameters\n",
    "    new_fig = create_wheel_geometry_fig(kingpin_slider.value, caster_slider.value, \n",
    "                                        scrub_radius_slider.value, inner_angle_slider.value)\n",
    "    new_fig.update_layout(height=600, width=800)\n",
    "    new_fig.show()\n",
    "\n",
    "view_3d_button.on_click(open_3d_view)\n",
    "\n",
    "\n",
    "\n",
    "# Add the button to controls1\n",
    "controls1 = widgets.HBox([control_mode, reset_button, view_3d_button])\n",
    "controls2 = widgets.HBox([turning_radius_slider, inner_angle_slider])\n",
    "controls3 = widgets.HBox([track_width_slider, wheelbase_slider])\n",
    "controls4 = widgets.HBox([steering_ratio_slider, widgets.HBox([show_turning_circle, show_steering_arms])])\n",
    "\n",
    "controls = widgets.VBox([controls1, controls2, controls3, controls4])\n",
    "display(controls)\n",
    "fig.show()"
   ]
  }
 ],
 "metadata": {
  "kernelspec": {
   "display_name": "Python 3",
   "language": "python",
   "name": "python3"
  },
  "language_info": {
   "codemirror_mode": {
    "name": "ipython",
    "version": 3
   },
   "file_extension": ".py",
   "mimetype": "text/x-python",
   "name": "python",
   "nbconvert_exporter": "python",
   "pygments_lexer": "ipython3",
   "version": "3.13.2"
  }
 },
 "nbformat": 4,
 "nbformat_minor": 5
}
