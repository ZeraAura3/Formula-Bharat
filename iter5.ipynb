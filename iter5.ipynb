{
 "cells": [
  {
   "cell_type": "code",
   "execution_count": null,
   "id": "aa3cd3d9",
   "metadata": {},
   "outputs": [
    {
     "data": {
      "application/vnd.jupyter.widget-view+json": {
       "model_id": "53140f6bbec64f92a140dabfe94646f1",
       "version_major": 2,
       "version_minor": 0
      },
      "text/plain": [
       "VBox(children=(HBox(children=(RadioButtons(description='Control Mode:', options=('Turning Radius', 'Inner Angl…"
      ]
     },
     "metadata": {},
     "output_type": "display_data"
    },
    {
     "data": {
      "application/vnd.plotly.v1+json": {
       "config": {
        "plotlyServerURL": "https://plot.ly"
       },
       "data": [
        {
         "line": {
          "color": "blue",
          "width": 2
         },
         "mode": "lines",
         "name": "Ackermann",
         "type": "scatter",
         "x": {
          "bdata": "AAAAAAAA8D/HcRzHcRz3P47jOI7jOP4/qqqqqqqqAkCO4ziO4zgGQHIcx3EcxwlAVVVVVVVVDUAcx3Ecx3EQQI7jOI7jOBJAAAAAAAAAFEByHMdxHMcVQOM4juM4jhdAVVVVVVVVGUDHcRzHcRwbQDiO4ziO4xxAqqqqqqqqHkCO4ziO4zggQMdxHMdxHCFAAAAAAAAAIkA5juM4juMiQHIcx3EcxyNAqqqqqqqqJEDjOI7jOI4lQBzHcRzHcSZAVVVVVVVVJ0CO4ziO4zgoQMdxHMdxHClAAAAAAAAAKkA4juM4juMqQHEcx3EcxytAqqqqqqqqLEDjOI7jOI4tQBzHcRzHcS5AVVVVVVVVL0DHcRzHcRwwQOQ4juM4jjBAAAAAAAAAMUAcx3Ecx3ExQDmO4ziO4zFAVVVVVVVVMkByHMdxHMcyQI7jOI7jODNAqqqqqqqqM0DHcRzHcRw0QOM4juM4jjRAAAAAAAAANUAcx3Ecx3E1QDmO4ziO4zVAVVVVVVVVNkBxHMdxHMc2QI7jOI7jODdAqqqqqqqqN0DHcRzHcRw4QOM4juM4jjhAAAAAAAAAOUAcx3Ecx3E5QDiO4ziO4zlAVVVVVVVVOkBxHMdxHMc6QI7jOI7jODtAqqqqqqqqO0DHcRzHcRw8QOM4juM4jjxAAAAAAAAAPUAcx3Ecx3E9QDiO4ziO4z1AVVVVVVVVPkBxHMdxHMc+QI7jOI7jOD9AqqqqqqqqP0DkOI7jOA5AQHIcx3EcR0BAAAAAAACAQECO4ziO47hAQBzHcRzH8UBAqqqqqqoqQUA5juM4jmNBQMdxHMdxnEFAVVVVVVXVQUDjOI7jOA5CQHIcx3EcR0JAAAAAAACAQkCO4ziO47hCQBzHcRzH8UJAqqqqqqoqQ0A5juM4jmNDQMdxHMdxnENAVVVVVVXVQ0DjOI7jOA5EQHEcx3EcR0RAAAAAAACARECO4ziO47hEQBzHcRzH8URAqqqqqqoqRUA5juM4jmNFQMdxHMdxnEVAVVVVVVXVRUDjOI7jOA5GQHEcx3EcR0ZAAAAAAACARkA=",
          "dtype": "f8"
         },
         "xaxis": "x",
         "y": [
          0.9846048208804129,
          1.4125452696009797,
          1.8347151952159249,
          2.2512353955771487,
          2.6622245045334854,
          3.067798989793125,
          3.4680731553370903,
          3.8631591479500242,
          4.253166967464991,
          4.638204480347838,
          5.018377436273968,
          5.393789487376088,
          5.764542209865772,
          6.130735127754442,
          6.492465738420818,
          6.849829539791884,
          7.202920058923219,
          7.55182888178209,
          7.89664568405305,
          8.237458262801036,
          8.574352568841203,
          8.907412739677913,
          9.236721132887572,
          9.562358359831398,
          9.884403319594732,
          10.202933233059342,
          10.518023677024129,
          10.829748618298021,
          11.13818044769658,
          11.443390013880931,
          11.745446656984148,
          12.044418241976318,
          12.340371191725017,
          12.633370519712946,
          12.923479862379336,
          13.210761511055821,
          13.49527644347142,
          13.777084354805018,
          14.05624368826682,
          14.33281166519327,
          14.606844314642787,
          14.8783965024819,
          15.147521959953894,
          15.414273311723832,
          15.678702103395885,
          15.940858828500453,
          16.200792954950064,
          16.458552950964464,
          16.714186310466395,
          16.967739577950816,
          17.219258372831113,
          17.468787413266814,
          17.716370539478078,
          17.96205073655287,
          18.205870156753363,
          18.447870141328494,
          18.68809124184036,
          18.926573241012132,
          19.163355173105746,
          19.398475343837887,
          19.63197134984299,
          19.863880097691975,
          20.094237822476007,
          20.323080105964255,
          20.550441894344964,
          20.776357515559162,
          21.00086069623623,
          21.22398457824079,
          21.44576173484012,
          21.666224186501452,
          21.8854034163284,
          22.10333038514561,
          22.320035546240838,
          22.535548859773407,
          22.749899806858018,
          22.96311740333262,
          23.17523021321928,
          23.386266361886303,
          23.596253548920476,
          23.805219060717402,
          24.0131897827984,
          24.220192211861978,
          24.426252467577786,
          24.63139630413093,
          24.835649121524327,
          25.039035976646595,
          25.241581594112976,
          25.443310376886515,
          25.644246416686595,
          25.844413504192058,
          26.043835139045434,
          26.242534539665446,
          26.44053465287404,
          26.63785816334477,
          26.8345275028787,
          27.030564859514122,
          27.225992186476404,
          27.420831210973773,
          27.615103442845083,
          27.808830183065428
         ],
         "yaxis": "y"
        },
        {
         "line": {
          "color": "black",
          "dash": "dash",
          "width": 2
         },
         "mode": "lines",
         "name": "Parallel",
         "type": "scatter",
         "x": {
          "bdata": "AAAAAAAA8D/HcRzHcRz3P47jOI7jOP4/qqqqqqqqAkCO4ziO4zgGQHIcx3EcxwlAVVVVVVVVDUAcx3Ecx3EQQI7jOI7jOBJAAAAAAAAAFEByHMdxHMcVQOM4juM4jhdAVVVVVVVVGUDHcRzHcRwbQDiO4ziO4xxAqqqqqqqqHkCO4ziO4zggQMdxHMdxHCFAAAAAAAAAIkA5juM4juMiQHIcx3EcxyNAqqqqqqqqJEDjOI7jOI4lQBzHcRzHcSZAVVVVVVVVJ0CO4ziO4zgoQMdxHMdxHClAAAAAAAAAKkA4juM4juMqQHEcx3EcxytAqqqqqqqqLEDjOI7jOI4tQBzHcRzHcS5AVVVVVVVVL0DHcRzHcRwwQOQ4juM4jjBAAAAAAAAAMUAcx3Ecx3ExQDmO4ziO4zFAVVVVVVVVMkByHMdxHMcyQI7jOI7jODNAqqqqqqqqM0DHcRzHcRw0QOM4juM4jjRAAAAAAAAANUAcx3Ecx3E1QDmO4ziO4zVAVVVVVVVVNkBxHMdxHMc2QI7jOI7jODdAqqqqqqqqN0DHcRzHcRw4QOM4juM4jjhAAAAAAAAAOUAcx3Ecx3E5QDiO4ziO4zlAVVVVVVVVOkBxHMdxHMc6QI7jOI7jODtAqqqqqqqqO0DHcRzHcRw8QOM4juM4jjxAAAAAAAAAPUAcx3Ecx3E9QDiO4ziO4z1AVVVVVVVVPkBxHMdxHMc+QI7jOI7jOD9AqqqqqqqqP0DkOI7jOA5AQHIcx3EcR0BAAAAAAACAQECO4ziO47hAQBzHcRzH8UBAqqqqqqoqQUA5juM4jmNBQMdxHMdxnEFAVVVVVVXVQUDjOI7jOA5CQHIcx3EcR0JAAAAAAACAQkCO4ziO47hCQBzHcRzH8UJAqqqqqqoqQ0A5juM4jmNDQMdxHMdxnENAVVVVVVXVQ0DjOI7jOA5EQHEcx3EcR0RAAAAAAACARECO4ziO47hEQBzHcRzH8URAqqqqqqoqRUA5juM4jmNFQMdxHMdxnEVAVVVVVVXVRUDjOI7jOA5GQHEcx3EcR0ZAAAAAAACARkA=",
          "dtype": "f8"
         },
         "xaxis": "x",
         "y": {
          "bdata": "AAAAAAAA8D/HcRzHcRz3P47jOI7jOP4/qqqqqqqqAkCO4ziO4zgGQHIcx3EcxwlAVVVVVVVVDUAcx3Ecx3EQQI7jOI7jOBJAAAAAAAAAFEByHMdxHMcVQOM4juM4jhdAVVVVVVVVGUDHcRzHcRwbQDiO4ziO4xxAqqqqqqqqHkCO4ziO4zggQMdxHMdxHCFAAAAAAAAAIkA5juM4juMiQHIcx3EcxyNAqqqqqqqqJEDjOI7jOI4lQBzHcRzHcSZAVVVVVVVVJ0CO4ziO4zgoQMdxHMdxHClAAAAAAAAAKkA4juM4juMqQHEcx3EcxytAqqqqqqqqLEDjOI7jOI4tQBzHcRzHcS5AVVVVVVVVL0DHcRzHcRwwQOQ4juM4jjBAAAAAAAAAMUAcx3Ecx3ExQDmO4ziO4zFAVVVVVVVVMkByHMdxHMcyQI7jOI7jODNAqqqqqqqqM0DHcRzHcRw0QOM4juM4jjRAAAAAAAAANUAcx3Ecx3E1QDmO4ziO4zVAVVVVVVVVNkBxHMdxHMc2QI7jOI7jODdAqqqqqqqqN0DHcRzHcRw4QOM4juM4jjhAAAAAAAAAOUAcx3Ecx3E5QDiO4ziO4zlAVVVVVVVVOkBxHMdxHMc6QI7jOI7jODtAqqqqqqqqO0DHcRzHcRw8QOM4juM4jjxAAAAAAAAAPUAcx3Ecx3E9QDiO4ziO4z1AVVVVVVVVPkBxHMdxHMc+QI7jOI7jOD9AqqqqqqqqP0DkOI7jOA5AQHIcx3EcR0BAAAAAAACAQECO4ziO47hAQBzHcRzH8UBAqqqqqqoqQUA5juM4jmNBQMdxHMdxnEFAVVVVVVXVQUDjOI7jOA5CQHIcx3EcR0JAAAAAAACAQkCO4ziO47hCQBzHcRzH8UJAqqqqqqoqQ0A5juM4jmNDQMdxHMdxnENAVVVVVVXVQ0DjOI7jOA5EQHEcx3EcR0RAAAAAAACARECO4ziO47hEQBzHcRzH8URAqqqqqqoqRUA5juM4jmNFQMdxHMdxnEVAVVVVVVXVRUDjOI7jOA5GQHEcx3EcR0ZAAAAAAACARkA=",
          "dtype": "f8"
         },
         "yaxis": "y"
        },
        {
         "marker": {
          "color": "red",
          "size": 10
         },
         "mode": "markers",
         "showlegend": false,
         "type": "scatter",
         "x": [
          38.72844154601757
         ],
         "xaxis": "x",
         "y": [
          25.01650066670966
         ],
         "yaxis": "y"
        },
        {
         "line": {
          "color": "green",
          "width": 2
         },
         "mode": "lines",
         "showlegend": false,
         "type": "scatter",
         "x": {
          "bdata": "AAAAAAAA8D/HcRzHcRz3P47jOI7jOP4/qqqqqqqqAkCO4ziO4zgGQHIcx3EcxwlAVVVVVVVVDUAcx3Ecx3EQQI7jOI7jOBJAAAAAAAAAFEByHMdxHMcVQOM4juM4jhdAVVVVVVVVGUDHcRzHcRwbQDiO4ziO4xxAqqqqqqqqHkCO4ziO4zggQMdxHMdxHCFAAAAAAAAAIkA5juM4juMiQHIcx3EcxyNAqqqqqqqqJEDjOI7jOI4lQBzHcRzHcSZAVVVVVVVVJ0CO4ziO4zgoQMdxHMdxHClAAAAAAAAAKkA4juM4juMqQHEcx3EcxytAqqqqqqqqLEDjOI7jOI4tQBzHcRzHcS5AVVVVVVVVL0DHcRzHcRwwQOQ4juM4jjBAAAAAAAAAMUAcx3Ecx3ExQDmO4ziO4zFAVVVVVVVVMkByHMdxHMcyQI7jOI7jODNAqqqqqqqqM0DHcRzHcRw0QOM4juM4jjRAAAAAAAAANUAcx3Ecx3E1QDmO4ziO4zVAVVVVVVVVNkBxHMdxHMc2QI7jOI7jODdAqqqqqqqqN0DHcRzHcRw4QOM4juM4jjhAAAAAAAAAOUAcx3Ecx3E5QDiO4ziO4zlAVVVVVVVVOkBxHMdxHMc6QI7jOI7jODtAqqqqqqqqO0DHcRzHcRw8QOM4juM4jjxAAAAAAAAAPUAcx3Ecx3E9QDiO4ziO4z1AVVVVVVVVPkBxHMdxHMc+QI7jOI7jOD9AqqqqqqqqP0DkOI7jOA5AQHIcx3EcR0BAAAAAAACAQECO4ziO47hAQBzHcRzH8UBAqqqqqqoqQUA5juM4jmNBQMdxHMdxnEFAVVVVVVXVQUDjOI7jOA5CQHIcx3EcR0JAAAAAAACAQkCO4ziO47hCQBzHcRzH8UJAqqqqqqoqQ0A5juM4jmNDQMdxHMdxnENAVVVVVVXVQ0DjOI7jOA5EQHEcx3EcR0RAAAAAAACARECO4ziO47hEQBzHcRzH8URAqqqqqqoqRUA5juM4jmNFQMdxHMdxnEVAVVVVVVXVRUDjOI7jOA5GQHEcx3EcR0ZAAAAAAACARkA=",
          "dtype": "f8"
         },
         "xaxis": "x2",
         "y": [
          102.19615708644419,
          70.98741702780087,
          54.46298860936944,
          44.23183629331508,
          37.27318721540769,
          32.23290175490009,
          28.413392780849055,
          25.41873241432801,
          23.007501173727317,
          21.024117575887576,
          19.363802218304212,
          17.953407182592073,
          16.740317268064814,
          15.685717953081207,
          14.760349032197222,
          13.941735249086793,
          13.212327406306217,
          12.558222869413585,
          11.968265180974829,
          11.433397901199577,
          10.946192693795199,
          10.50049919611308,
          10.091181519358418,
          9.713917362608328,
          9.365043043622627,
          9.041432651307915,
          8.740402864911946,
          8.459637297482955,
          8.197125845582125,
          7.951115683848514,
          7.7200713768515286,
          7.502642188801958,
          7.297635120026352,
          7.1039925329751625,
          6.920773481509766,
          6.747138047550199,
          6.582334134716929,
          6.425686280776569,
          6.276586137795203,
          6.134484336994373,
          5.9988835088914865,
          5.86933227174218,
          5.745420035106902,
          5.626772492445115,
          5.513047698451847,
          5.403932644508029,
          5.299140259979433,
          5.19840677883742,
          5.101489420710916,
          5.008164343422852,
          4.918224830639922,
          4.831479683728729,
          4.74775179146905,
          4.666876855090284,
          4.588702249301919,
          4.513086002689925,
          4.439895883134611,
          4.369008575842335,
          4.300308943230909,
          4.233689357313968,
          4.169049096431756,
          4.106293799206982,
          4.045334969491053,
          3.98608952683042,
          3.928479397643348,
          3.872431142869527,
          3.8178756183517213,
          3.764747664640739,
          3.712985823291838,
          3.6625320770498626,
          3.613331611608593,
          3.5653325968825738,
          3.5184859859518114,
          3.4727453300353406,
          3.428066608022081,
          3.384408069239877,
          3.3417300882783967,
          3.299995030801189,
          3.259167129388273,
          3.219212368545069,
          3.1800983780975076,
          3.1417943342681256,
          3.1042708677949316,
          3.067499978514693,
          3.031454955885967,
          2.9961103049752693,
          2.9614416774730197,
          2.9274258073447004,
          2.8940404507576853,
          2.861264329955682,
          2.829077080781187,
          2.7974592035720725,
          2.766392017181639,
          2.7358576158925465,
          2.7058388290141075,
          2.676319182969737,
          2.6472828656970933,
          2.618714693197738,
          2.5906000780861804,
          2.5629250000000003
         ],
         "yaxis": "y2"
        },
        {
         "marker": {
          "color": "red",
          "size": 10
         },
         "mode": "markers",
         "showlegend": false,
         "type": "scatter",
         "x": [
          38.72844154601757
         ],
         "xaxis": "x2",
         "y": [
          3
         ],
         "yaxis": "y2"
        },
        {
         "mode": "text",
         "showlegend": false,
         "text": [
          "Interactive 3D wheel geometry<br>will be implemented with controls"
         ],
         "textposition": "middle center",
         "type": "scatter",
         "x": [
          0
         ],
         "xaxis": "x3",
         "y": [
          0
         ],
         "yaxis": "y3"
        },
        {
         "line": {
          "color": "blue",
          "width": 2
         },
         "mode": "lines",
         "showlegend": false,
         "type": "scatter",
         "x": {
          "bdata": "AAAAAAAA8D/HcRzHcRz3P47jOI7jOP4/qqqqqqqqAkCO4ziO4zgGQHIcx3EcxwlAVVVVVVVVDUAcx3Ecx3EQQI7jOI7jOBJAAAAAAAAAFEByHMdxHMcVQOM4juM4jhdAVVVVVVVVGUDHcRzHcRwbQDiO4ziO4xxAqqqqqqqqHkCO4ziO4zggQMdxHMdxHCFAAAAAAAAAIkA5juM4juMiQHIcx3EcxyNAqqqqqqqqJEDjOI7jOI4lQBzHcRzHcSZAVVVVVVVVJ0CO4ziO4zgoQMdxHMdxHClAAAAAAAAAKkA4juM4juMqQHEcx3EcxytAqqqqqqqqLEDjOI7jOI4tQBzHcRzHcS5AVVVVVVVVL0DHcRzHcRwwQOQ4juM4jjBAAAAAAAAAMUAcx3Ecx3ExQDmO4ziO4zFAVVVVVVVVMkByHMdxHMcyQI7jOI7jODNAqqqqqqqqM0DHcRzHcRw0QOM4juM4jjRAAAAAAAAANUAcx3Ecx3E1QDmO4ziO4zVAVVVVVVVVNkBxHMdxHMc2QI7jOI7jODdAqqqqqqqqN0DHcRzHcRw4QOM4juM4jjhAAAAAAAAAOUAcx3Ecx3E5QDiO4ziO4zlAVVVVVVVVOkBxHMdxHMc6QI7jOI7jODtAqqqqqqqqO0DHcRzHcRw8QOM4juM4jjxAAAAAAAAAPUAcx3Ecx3E9QDiO4ziO4z1AVVVVVVVVPkBxHMdxHMc+QI7jOI7jOD9AqqqqqqqqP0DkOI7jOA5AQHIcx3EcR0BAAAAAAACAQECO4ziO47hAQBzHcRzH8UBAqqqqqqoqQUA5juM4jmNBQMdxHMdxnEFAVVVVVVXVQUDjOI7jOA5CQHIcx3EcR0JAAAAAAACAQkCO4ziO47hCQBzHcRzH8UJAqqqqqqoqQ0A5juM4jmNDQMdxHMdxnENAVVVVVVXVQ0DjOI7jOA5EQHEcx3EcR0RAAAAAAACARECO4ziO47hEQBzHcRzH8URAqqqqqqoqRUA5juM4jmNFQMdxHMdxnEVAVVVVVVXVRUDjOI7jOA5GQHEcx3EcR0ZAAAAAAACARkA=",
          "dtype": "f8"
         },
         "xaxis": "x4",
         "y": [
          100,
          100,
          100,
          100,
          100,
          100,
          100,
          100,
          100,
          100,
          100,
          100,
          100,
          100,
          100,
          100,
          100,
          100,
          100,
          100,
          100,
          100,
          100,
          100,
          100,
          100,
          100,
          100,
          100,
          100,
          100,
          100,
          100,
          100,
          100,
          100,
          100,
          100,
          100,
          100,
          100,
          100,
          100,
          100,
          100,
          100,
          100,
          100,
          100,
          100,
          100,
          100,
          100,
          100,
          100,
          100,
          100,
          100,
          100,
          100,
          100,
          100,
          100,
          100,
          100,
          100,
          100,
          100,
          100,
          100,
          100,
          100,
          100,
          100,
          100,
          100,
          100,
          100,
          100,
          100,
          100,
          100,
          100,
          100,
          100,
          100,
          100,
          100,
          100,
          100,
          100,
          100,
          100,
          100,
          100,
          100,
          100,
          100,
          100,
          100
         ],
         "yaxis": "y4"
        },
        {
         "marker": {
          "color": "red",
          "size": 10
         },
         "mode": "markers",
         "showlegend": false,
         "type": "scatter",
         "x": [
          38.72844154601757
         ],
         "xaxis": "x4",
         "y": [
          99.99999999999997
         ],
         "yaxis": "y4"
        },
        {
         "line": {
          "color": "magenta",
          "width": 2
         },
         "mode": "lines",
         "showlegend": false,
         "type": "scatter",
         "x": {
          "bdata": "AAAAAAAAAAAXXXTRRRcdQBdddNFFFy1A0UUXXXTRNUAXXXTRRRc9QC666KKLLkJA0UUXXXTRRUB00UUXXXRJQBdddNFFF01AXXTRRRddUEAuuuiiiy5SQAAAAAAAAFRA0UUXXXTRVUCjiy666KJXQHTRRRdddFlARhdddNFFW0AXXXTRRRddQOiiiy666F5AXXTRRRddYEBGF1100UVhQC666KKLLmJAF1100UUXY0AAAAAAAABkQOmiiy666GRA0UUXXXTRZUC66KKLLrpmQKOLLrroomdAiy666KKLaEB00UUXXXRpQF100UUXXWpARhdddNFFa0Auuuiiiy5sQBdddNFFF21AAAAAAAAAbkDooosuuuhuQNFFF1100W9AXXTRRRddcEDRRRdddNFwQEYXXXTRRXFAuuiiiy66cUAuuuiiiy5yQKOLLrroonJAF1100UUXc0CLLrroootzQAAAAAAAAHRAdNFFF110dEDpoosuuuh0QF100UUXXXVA0UUXXXTRdUBGF1100UV2QLrooosuunZALrrooosud0Cjiy666KJ3QBdddNFFF3hAiy666KKLeEAAAAAAAAB5QHTRRRdddHlA6KKLLrroeUBddNFFF116QNFFF1100XpARhdddNFFe0C66KKLLrp7QC666KKLLnxAo4suuuiifEAXXXTRRRd9QIsuuuiii31AAAAAAAAAfkB00UUXXXR+QOiiiy666H5AXXTRRRddf0DRRRdddNF/QKOLLrroIoBAXXTRRRddgEAXXXTRRZeAQNFFF1100YBAiy666KILgUBGF1100UWBQAAAAAAAgIFAuuiiiy66gUB00UUXXfSBQC666KKLLoJA6aKLLrpogkCjiy666KKCQF100UUX3YJAF1100UUXg0DRRRdddFGDQIsuuuiii4NARhdddNHFg0AAAAAAAACEQLrooosuOoRAdNFFF110hEAuuuiii66EQOmiiy666IRAo4suuugihUBddNFFF12FQBdddNFFl4VA0UUXXXTRhUCLLrrooguGQEYXXXTRRYZAAAAAAACAhkA=",
          "dtype": "f8"
         },
         "xaxis": "x5",
         "y": [
          0,
          4.848484848484849,
          9.696969696969697,
          14.545454545454545,
          19.393939393939394,
          24.24242424242424,
          29.09090909090909,
          33.93939393939394,
          38.78787878787879,
          40,
          40,
          40,
          40,
          40,
          40,
          40,
          40,
          40,
          40,
          40,
          40,
          40,
          40,
          40,
          40,
          40,
          40,
          40,
          40,
          40,
          40,
          40,
          40,
          40,
          40,
          40,
          40,
          40,
          40,
          40,
          40,
          40,
          40,
          40,
          40,
          40,
          40,
          40,
          40,
          40,
          40,
          40,
          40,
          40,
          40,
          40,
          40,
          40,
          40,
          40,
          40,
          40,
          40,
          40,
          40,
          40,
          40,
          40,
          40,
          40,
          40,
          40,
          40,
          40,
          40,
          40,
          40,
          40,
          40,
          40,
          40,
          40,
          40,
          40,
          40,
          40,
          40,
          40,
          40,
          40,
          40,
          40,
          40,
          40,
          40,
          40,
          40,
          40,
          40,
          40
         ],
         "yaxis": "y5"
        },
        {
         "marker": {
          "color": "red",
          "size": 10
         },
         "mode": "markers",
         "showlegend": false,
         "type": "scatter",
         "x": [
          58.09266231902636
         ],
         "xaxis": "x5",
         "y": [
          38.72844154601757
         ],
         "yaxis": "y5"
        },
        {
         "mode": "text",
         "showlegend": false,
         "text": [
          "<b>Ackermann Steering Simulator</b><br><br>• Use widgets below to adjust vehicle parameters<br>• Observe how changes affect steering geometry<br>• Ackermann steering ensures inner wheel turns<br>  at a sharper angle than the outer wheel<br>• This reduces tire scrub during turns"
         ],
         "textposition": "middle center",
         "type": "scatter",
         "x": [
          0
         ],
         "xaxis": "x6",
         "y": [
          0
         ],
         "yaxis": "y6"
        },
        {
         "line": {
          "color": "orange",
          "width": 3
         },
         "mode": "lines",
         "name": "Left Steering Arm",
         "type": "scatter",
         "x": [
          1.77,
          1.641792507987095
         ],
         "xaxis": "x7",
         "y": [
          0.792925,
          0.7150607656445471
         ],
         "yaxis": "y7"
        },
        {
         "line": {
          "color": "orange",
          "width": 3
         },
         "mode": "lines",
         "name": "Right Steering Arm",
         "type": "scatter",
         "x": [
          1.77,
          1.756883604870046
         ],
         "xaxis": "x7",
         "y": [
          -0.792925,
          -0.643499566492866
         ],
         "yaxis": "y7"
        },
        {
         "line": {
          "color": "purple",
          "width": 4
         },
         "mode": "lines",
         "name": "Steering Rack",
         "type": "scatter",
         "x": [
          1.6010724566591168,
          1.6010724566591168
         ],
         "xaxis": "x7",
         "y": [
          0.3862693490568571,
          -0.513730650943143
         ],
         "yaxis": "y7"
        },
        {
         "line": {
          "color": "green",
          "width": 2
         },
         "mode": "lines",
         "name": "Left Tie Rod",
         "type": "scatter",
         "x": [
          1.641792507987095,
          1.6010724566591168
         ],
         "xaxis": "x7",
         "y": [
          0.7150607656445471,
          0.3862693490568571
         ],
         "yaxis": "y7"
        },
        {
         "line": {
          "color": "green",
          "width": 2
         },
         "mode": "lines",
         "name": "Right Tie Rod",
         "type": "scatter",
         "x": [
          1.756883604870046,
          1.6010724566591168
         ],
         "xaxis": "x7",
         "y": [
          -0.643499566492866,
          -0.513730650943143
         ],
         "yaxis": "y7"
        },
        {
         "mode": "text",
         "showlegend": false,
         "text": [
          "<b>Steering Linkage Parameters</b><br><br>Steering Arm Length: 0.15 m<br>Steering Arm Angle (β): 20.0°<br>Rack Width (p): 0.80 m<br>Inner Tie Rod: 0.293 m<br>Outer Tie Rod: 0.293 m<br>Rack Travel: 0.127 m<br>Rack Position: 0.064 m<br>Distance to Rack (y): 0.293 m<br>Toe Angle: 13.71°"
         ],
         "textposition": "middle center",
         "type": "scatter",
         "x": [
          0
         ],
         "xaxis": "x8",
         "y": [
          0
         ],
         "yaxis": "y8"
        },
        {
         "fill": "toself",
         "fillcolor": "rgba(0,0,255,0.1)",
         "line": {
          "color": "blue",
          "width": 2
         },
         "mode": "lines",
         "name": "Vehicle",
         "type": "scatter",
         "x": [
          0,
          1.77,
          1.77,
          0,
          0
         ],
         "xaxis": "x9",
         "y": [
          -0.792925,
          -0.792925,
          0.792925,
          0.792925,
          -0.792925
         ],
         "yaxis": "y9"
        },
        {
         "fill": "toself",
         "fillcolor": "black",
         "line": {
          "color": "black",
          "width": 2
         },
         "mode": "lines",
         "name": "Front Left Wheel",
         "type": "scatter",
         "x": [
          1.750567150663663,
          1.8886483803276206,
          1.789432849336337,
          1.6513516196723794,
          1.750567150663663
         ],
         "xaxis": "x9",
         "y": [
          0.6756990859582608,
          0.7864355931024244,
          0.9101509140417392,
          0.7994144068975756,
          0.6756990859582608
         ],
         "yaxis": "y9"
        },
        {
         "fill": "toself",
         "fillcolor": "black",
         "line": {
          "color": "black",
          "width": 2
         },
         "mode": "lines",
         "name": "Front Right Wheel",
         "type": "scatter",
         "x": [
          1.7233336886713742,
          1.8837286176122832,
          1.8166663113286259,
          1.6562713823877169,
          1.7233336886713742
         ],
         "xaxis": "x9",
         "y": [
          -0.9022035703751187,
          -0.8273539426536612,
          -0.6836464296248813,
          -0.7584960573463387,
          -0.9022035703751187
         ],
         "yaxis": "y9"
        },
        {
         "fill": "toself",
         "fillcolor": "black",
         "line": {
          "color": "black",
          "width": 2
         },
         "mode": "lines",
         "name": "Rear Left Wheel",
         "type": "scatter",
         "x": [
          -0.08850000000000001,
          0.08850000000000001,
          0.08850000000000001,
          -0.08850000000000001,
          -0.08850000000000001
         ],
         "xaxis": "x9",
         "y": [
          0.7136325,
          0.7136325,
          0.8722175,
          0.8722175,
          0.7136325
         ],
         "yaxis": "y9"
        },
        {
         "fill": "toself",
         "fillcolor": "black",
         "line": {
          "color": "black",
          "width": 2
         },
         "mode": "lines",
         "name": "Rear Right Wheel",
         "type": "scatter",
         "x": [
          -0.08850000000000001,
          0.08850000000000001,
          0.08850000000000001,
          -0.08850000000000001,
          -0.08850000000000001
         ],
         "xaxis": "x9",
         "y": [
          -0.8722175,
          -0.8722175,
          -0.7136325,
          -0.7136325,
          -0.8722175
         ],
         "yaxis": "y9"
        },
        {
         "marker": {
          "color": "red",
          "size": 10
         },
         "mode": "markers",
         "name": "Turning Center",
         "type": "scatter",
         "x": [
          -3
         ],
         "xaxis": "x9",
         "y": [
          0
         ],
         "yaxis": "y9"
        },
        {
         "line": {
          "color": "red",
          "dash": "dash",
          "width": 1
         },
         "mode": "lines",
         "name": "Radius to Rear Axle",
         "type": "scatter",
         "x": [
          -3,
          0
         ],
         "xaxis": "x9",
         "y": [
          0,
          0
         ],
         "yaxis": "y9"
        },
        {
         "line": {
          "color": "red",
          "dash": "dash",
          "width": 1
         },
         "mode": "lines",
         "name": "Radius to Inner Wheel",
         "type": "scatter",
         "x": [
          -3,
          1.77
         ],
         "xaxis": "x9",
         "y": [
          0,
          0.792925
         ],
         "yaxis": "y9"
        },
        {
         "line": {
          "color": "red",
          "dash": "dash",
          "width": 1
         },
         "mode": "lines",
         "name": "Radius to Outer Wheel",
         "type": "scatter",
         "x": [
          -3,
          1.77
         ],
         "xaxis": "x9",
         "y": [
          0,
          -0.792925
         ],
         "yaxis": "y9"
        },
        {
         "mode": "text",
         "showlegend": false,
         "text": [
          "Inner angle: 38.7°<br>Outer angle: 25.0°<br>Turning radius: 3.0m<br>Track width: 1.6m<br>Wheelbase: 1.8m<br>Ackermann %: 100.0%"
         ],
         "textposition": "top right",
         "type": "scatter",
         "x": [
          0.885
         ],
         "xaxis": "x9",
         "y": [
          1.58585
         ],
         "yaxis": "y9"
        },
        {
         "mode": "text",
         "showlegend": false,
         "text": [
          "Loading 3D wheel geometry..."
         ],
         "textposition": "middle center",
         "type": "scatter",
         "x": [
          0
         ],
         "xaxis": "x3",
         "y": [
          0
         ],
         "yaxis": "y3"
        }
       ],
       "layout": {
        "annotations": [
         {
          "font": {
           "size": 16
          },
          "showarrow": false,
          "text": "Ackermann Steering Angle Relationship",
          "x": 0.15,
          "xanchor": "center",
          "xref": "paper",
          "y": 1,
          "yanchor": "bottom",
          "yref": "paper"
         },
         {
          "font": {
           "size": 16
          },
          "showarrow": false,
          "text": "Turning Radius vs Inner Angle",
          "x": 0.49999999999999994,
          "xanchor": "center",
          "xref": "paper",
          "y": 1,
          "yanchor": "bottom",
          "yref": "paper"
         },
         {
          "font": {
           "size": 16
          },
          "showarrow": false,
          "text": "Wheel Steering Geometry",
          "x": 0.85,
          "xanchor": "center",
          "xref": "paper",
          "y": 1,
          "yanchor": "bottom",
          "yref": "paper"
         },
         {
          "font": {
           "size": 16
          },
          "showarrow": false,
          "text": "Ackermann Compliance",
          "x": 0.15,
          "xanchor": "center",
          "xref": "paper",
          "y": 0.7250000000000001,
          "yanchor": "bottom",
          "yref": "paper"
         },
         {
          "font": {
           "size": 16
          },
          "showarrow": false,
          "text": "Steering Ratio Effects",
          "x": 0.49999999999999994,
          "xanchor": "center",
          "xref": "paper",
          "y": 0.7250000000000001,
          "yanchor": "bottom",
          "yref": "paper"
         },
         {
          "font": {
           "size": 16
          },
          "showarrow": false,
          "text": "Instructions",
          "x": 0.85,
          "xanchor": "center",
          "xref": "paper",
          "y": 0.7250000000000001,
          "yanchor": "bottom",
          "yref": "paper"
         },
         {
          "font": {
           "size": 16
          },
          "showarrow": false,
          "text": "Steering Linkage",
          "x": 0.32499999999999996,
          "xanchor": "center",
          "xref": "paper",
          "y": 0.45,
          "yanchor": "bottom",
          "yref": "paper"
         },
         {
          "font": {
           "size": 16
          },
          "showarrow": false,
          "text": "Linkage Parameters",
          "x": 0.85,
          "xanchor": "center",
          "xref": "paper",
          "y": 0.45,
          "yanchor": "bottom",
          "yref": "paper"
         },
         {
          "font": {
           "size": 16
          },
          "showarrow": false,
          "text": "Vehicle Top-Down View",
          "x": 0.5,
          "xanchor": "center",
          "xref": "paper",
          "y": 0.175,
          "yanchor": "bottom",
          "yref": "paper"
         }
        ],
        "height": 900,
        "legend": {
         "bordercolor": "Black",
         "borderwidth": 1,
         "orientation": "v",
         "x": 1.02,
         "xanchor": "left",
         "y": 0.5,
         "yanchor": "middle"
        },
        "showlegend": true,
        "template": {
         "data": {
          "bar": [
           {
            "error_x": {
             "color": "#2a3f5f"
            },
            "error_y": {
             "color": "#2a3f5f"
            },
            "marker": {
             "line": {
              "color": "#E5ECF6",
              "width": 0.5
             },
             "pattern": {
              "fillmode": "overlay",
              "size": 10,
              "solidity": 0.2
             }
            },
            "type": "bar"
           }
          ],
          "barpolar": [
           {
            "marker": {
             "line": {
              "color": "#E5ECF6",
              "width": 0.5
             },
             "pattern": {
              "fillmode": "overlay",
              "size": 10,
              "solidity": 0.2
             }
            },
            "type": "barpolar"
           }
          ],
          "carpet": [
           {
            "aaxis": {
             "endlinecolor": "#2a3f5f",
             "gridcolor": "white",
             "linecolor": "white",
             "minorgridcolor": "white",
             "startlinecolor": "#2a3f5f"
            },
            "baxis": {
             "endlinecolor": "#2a3f5f",
             "gridcolor": "white",
             "linecolor": "white",
             "minorgridcolor": "white",
             "startlinecolor": "#2a3f5f"
            },
            "type": "carpet"
           }
          ],
          "choropleth": [
           {
            "colorbar": {
             "outlinewidth": 0,
             "ticks": ""
            },
            "type": "choropleth"
           }
          ],
          "contour": [
           {
            "colorbar": {
             "outlinewidth": 0,
             "ticks": ""
            },
            "colorscale": [
             [
              0,
              "#0d0887"
             ],
             [
              0.1111111111111111,
              "#46039f"
             ],
             [
              0.2222222222222222,
              "#7201a8"
             ],
             [
              0.3333333333333333,
              "#9c179e"
             ],
             [
              0.4444444444444444,
              "#bd3786"
             ],
             [
              0.5555555555555556,
              "#d8576b"
             ],
             [
              0.6666666666666666,
              "#ed7953"
             ],
             [
              0.7777777777777778,
              "#fb9f3a"
             ],
             [
              0.8888888888888888,
              "#fdca26"
             ],
             [
              1,
              "#f0f921"
             ]
            ],
            "type": "contour"
           }
          ],
          "contourcarpet": [
           {
            "colorbar": {
             "outlinewidth": 0,
             "ticks": ""
            },
            "type": "contourcarpet"
           }
          ],
          "heatmap": [
           {
            "colorbar": {
             "outlinewidth": 0,
             "ticks": ""
            },
            "colorscale": [
             [
              0,
              "#0d0887"
             ],
             [
              0.1111111111111111,
              "#46039f"
             ],
             [
              0.2222222222222222,
              "#7201a8"
             ],
             [
              0.3333333333333333,
              "#9c179e"
             ],
             [
              0.4444444444444444,
              "#bd3786"
             ],
             [
              0.5555555555555556,
              "#d8576b"
             ],
             [
              0.6666666666666666,
              "#ed7953"
             ],
             [
              0.7777777777777778,
              "#fb9f3a"
             ],
             [
              0.8888888888888888,
              "#fdca26"
             ],
             [
              1,
              "#f0f921"
             ]
            ],
            "type": "heatmap"
           }
          ],
          "histogram": [
           {
            "marker": {
             "pattern": {
              "fillmode": "overlay",
              "size": 10,
              "solidity": 0.2
             }
            },
            "type": "histogram"
           }
          ],
          "histogram2d": [
           {
            "colorbar": {
             "outlinewidth": 0,
             "ticks": ""
            },
            "colorscale": [
             [
              0,
              "#0d0887"
             ],
             [
              0.1111111111111111,
              "#46039f"
             ],
             [
              0.2222222222222222,
              "#7201a8"
             ],
             [
              0.3333333333333333,
              "#9c179e"
             ],
             [
              0.4444444444444444,
              "#bd3786"
             ],
             [
              0.5555555555555556,
              "#d8576b"
             ],
             [
              0.6666666666666666,
              "#ed7953"
             ],
             [
              0.7777777777777778,
              "#fb9f3a"
             ],
             [
              0.8888888888888888,
              "#fdca26"
             ],
             [
              1,
              "#f0f921"
             ]
            ],
            "type": "histogram2d"
           }
          ],
          "histogram2dcontour": [
           {
            "colorbar": {
             "outlinewidth": 0,
             "ticks": ""
            },
            "colorscale": [
             [
              0,
              "#0d0887"
             ],
             [
              0.1111111111111111,
              "#46039f"
             ],
             [
              0.2222222222222222,
              "#7201a8"
             ],
             [
              0.3333333333333333,
              "#9c179e"
             ],
             [
              0.4444444444444444,
              "#bd3786"
             ],
             [
              0.5555555555555556,
              "#d8576b"
             ],
             [
              0.6666666666666666,
              "#ed7953"
             ],
             [
              0.7777777777777778,
              "#fb9f3a"
             ],
             [
              0.8888888888888888,
              "#fdca26"
             ],
             [
              1,
              "#f0f921"
             ]
            ],
            "type": "histogram2dcontour"
           }
          ],
          "mesh3d": [
           {
            "colorbar": {
             "outlinewidth": 0,
             "ticks": ""
            },
            "type": "mesh3d"
           }
          ],
          "parcoords": [
           {
            "line": {
             "colorbar": {
              "outlinewidth": 0,
              "ticks": ""
             }
            },
            "type": "parcoords"
           }
          ],
          "pie": [
           {
            "automargin": true,
            "type": "pie"
           }
          ],
          "scatter": [
           {
            "fillpattern": {
             "fillmode": "overlay",
             "size": 10,
             "solidity": 0.2
            },
            "type": "scatter"
           }
          ],
          "scatter3d": [
           {
            "line": {
             "colorbar": {
              "outlinewidth": 0,
              "ticks": ""
             }
            },
            "marker": {
             "colorbar": {
              "outlinewidth": 0,
              "ticks": ""
             }
            },
            "type": "scatter3d"
           }
          ],
          "scattercarpet": [
           {
            "marker": {
             "colorbar": {
              "outlinewidth": 0,
              "ticks": ""
             }
            },
            "type": "scattercarpet"
           }
          ],
          "scattergeo": [
           {
            "marker": {
             "colorbar": {
              "outlinewidth": 0,
              "ticks": ""
             }
            },
            "type": "scattergeo"
           }
          ],
          "scattergl": [
           {
            "marker": {
             "colorbar": {
              "outlinewidth": 0,
              "ticks": ""
             }
            },
            "type": "scattergl"
           }
          ],
          "scattermap": [
           {
            "marker": {
             "colorbar": {
              "outlinewidth": 0,
              "ticks": ""
             }
            },
            "type": "scattermap"
           }
          ],
          "scattermapbox": [
           {
            "marker": {
             "colorbar": {
              "outlinewidth": 0,
              "ticks": ""
             }
            },
            "type": "scattermapbox"
           }
          ],
          "scatterpolar": [
           {
            "marker": {
             "colorbar": {
              "outlinewidth": 0,
              "ticks": ""
             }
            },
            "type": "scatterpolar"
           }
          ],
          "scatterpolargl": [
           {
            "marker": {
             "colorbar": {
              "outlinewidth": 0,
              "ticks": ""
             }
            },
            "type": "scatterpolargl"
           }
          ],
          "scatterternary": [
           {
            "marker": {
             "colorbar": {
              "outlinewidth": 0,
              "ticks": ""
             }
            },
            "type": "scatterternary"
           }
          ],
          "surface": [
           {
            "colorbar": {
             "outlinewidth": 0,
             "ticks": ""
            },
            "colorscale": [
             [
              0,
              "#0d0887"
             ],
             [
              0.1111111111111111,
              "#46039f"
             ],
             [
              0.2222222222222222,
              "#7201a8"
             ],
             [
              0.3333333333333333,
              "#9c179e"
             ],
             [
              0.4444444444444444,
              "#bd3786"
             ],
             [
              0.5555555555555556,
              "#d8576b"
             ],
             [
              0.6666666666666666,
              "#ed7953"
             ],
             [
              0.7777777777777778,
              "#fb9f3a"
             ],
             [
              0.8888888888888888,
              "#fdca26"
             ],
             [
              1,
              "#f0f921"
             ]
            ],
            "type": "surface"
           }
          ],
          "table": [
           {
            "cells": {
             "fill": {
              "color": "#EBF0F8"
             },
             "line": {
              "color": "white"
             }
            },
            "header": {
             "fill": {
              "color": "#C8D4E3"
             },
             "line": {
              "color": "white"
             }
            },
            "type": "table"
           }
          ]
         },
         "layout": {
          "annotationdefaults": {
           "arrowcolor": "#2a3f5f",
           "arrowhead": 0,
           "arrowwidth": 1
          },
          "autotypenumbers": "strict",
          "coloraxis": {
           "colorbar": {
            "outlinewidth": 0,
            "ticks": ""
           }
          },
          "colorscale": {
           "diverging": [
            [
             0,
             "#8e0152"
            ],
            [
             0.1,
             "#c51b7d"
            ],
            [
             0.2,
             "#de77ae"
            ],
            [
             0.3,
             "#f1b6da"
            ],
            [
             0.4,
             "#fde0ef"
            ],
            [
             0.5,
             "#f7f7f7"
            ],
            [
             0.6,
             "#e6f5d0"
            ],
            [
             0.7,
             "#b8e186"
            ],
            [
             0.8,
             "#7fbc41"
            ],
            [
             0.9,
             "#4d9221"
            ],
            [
             1,
             "#276419"
            ]
           ],
           "sequential": [
            [
             0,
             "#0d0887"
            ],
            [
             0.1111111111111111,
             "#46039f"
            ],
            [
             0.2222222222222222,
             "#7201a8"
            ],
            [
             0.3333333333333333,
             "#9c179e"
            ],
            [
             0.4444444444444444,
             "#bd3786"
            ],
            [
             0.5555555555555556,
             "#d8576b"
            ],
            [
             0.6666666666666666,
             "#ed7953"
            ],
            [
             0.7777777777777778,
             "#fb9f3a"
            ],
            [
             0.8888888888888888,
             "#fdca26"
            ],
            [
             1,
             "#f0f921"
            ]
           ],
           "sequentialminus": [
            [
             0,
             "#0d0887"
            ],
            [
             0.1111111111111111,
             "#46039f"
            ],
            [
             0.2222222222222222,
             "#7201a8"
            ],
            [
             0.3333333333333333,
             "#9c179e"
            ],
            [
             0.4444444444444444,
             "#bd3786"
            ],
            [
             0.5555555555555556,
             "#d8576b"
            ],
            [
             0.6666666666666666,
             "#ed7953"
            ],
            [
             0.7777777777777778,
             "#fb9f3a"
            ],
            [
             0.8888888888888888,
             "#fdca26"
            ],
            [
             1,
             "#f0f921"
            ]
           ]
          },
          "colorway": [
           "#636efa",
           "#EF553B",
           "#00cc96",
           "#ab63fa",
           "#FFA15A",
           "#19d3f3",
           "#FF6692",
           "#B6E880",
           "#FF97FF",
           "#FECB52"
          ],
          "font": {
           "color": "#2a3f5f"
          },
          "geo": {
           "bgcolor": "white",
           "lakecolor": "white",
           "landcolor": "#E5ECF6",
           "showlakes": true,
           "showland": true,
           "subunitcolor": "white"
          },
          "hoverlabel": {
           "align": "left"
          },
          "hovermode": "closest",
          "mapbox": {
           "style": "light"
          },
          "paper_bgcolor": "white",
          "plot_bgcolor": "#E5ECF6",
          "polar": {
           "angularaxis": {
            "gridcolor": "white",
            "linecolor": "white",
            "ticks": ""
           },
           "bgcolor": "#E5ECF6",
           "radialaxis": {
            "gridcolor": "white",
            "linecolor": "white",
            "ticks": ""
           }
          },
          "scene": {
           "xaxis": {
            "backgroundcolor": "#E5ECF6",
            "gridcolor": "white",
            "gridwidth": 2,
            "linecolor": "white",
            "showbackground": true,
            "ticks": "",
            "zerolinecolor": "white"
           },
           "yaxis": {
            "backgroundcolor": "#E5ECF6",
            "gridcolor": "white",
            "gridwidth": 2,
            "linecolor": "white",
            "showbackground": true,
            "ticks": "",
            "zerolinecolor": "white"
           },
           "zaxis": {
            "backgroundcolor": "#E5ECF6",
            "gridcolor": "white",
            "gridwidth": 2,
            "linecolor": "white",
            "showbackground": true,
            "ticks": "",
            "zerolinecolor": "white"
           }
          },
          "shapedefaults": {
           "line": {
            "color": "#2a3f5f"
           }
          },
          "ternary": {
           "aaxis": {
            "gridcolor": "white",
            "linecolor": "white",
            "ticks": ""
           },
           "baxis": {
            "gridcolor": "white",
            "linecolor": "white",
            "ticks": ""
           },
           "bgcolor": "#E5ECF6",
           "caxis": {
            "gridcolor": "white",
            "linecolor": "white",
            "ticks": ""
           }
          },
          "title": {
           "x": 0.05
          },
          "xaxis": {
           "automargin": true,
           "gridcolor": "white",
           "linecolor": "white",
           "ticks": "",
           "title": {
            "standoff": 15
           },
           "zerolinecolor": "white",
           "zerolinewidth": 2
          },
          "yaxis": {
           "automargin": true,
           "gridcolor": "white",
           "linecolor": "white",
           "ticks": "",
           "title": {
            "standoff": 15
           },
           "zerolinecolor": "white",
           "zerolinewidth": 2
          }
         }
        },
        "title": {
         "text": "Ackermann Steering Simulator"
        },
        "width": 1200,
        "xaxis": {
         "anchor": "y",
         "domain": [
          0,
          0.3
         ],
         "range": [
          0,
          45
         ],
         "title": {
          "text": "Inner Steering Angle (degrees)"
         }
        },
        "xaxis2": {
         "anchor": "y2",
         "domain": [
          0.35,
          0.6499999999999999
         ],
         "range": [
          0,
          45
         ],
         "title": {
          "text": "Inner Steering Angle (degrees)"
         }
        },
        "xaxis3": {
         "anchor": "y3",
         "domain": [
          0.7,
          1
         ]
        },
        "xaxis4": {
         "anchor": "y4",
         "domain": [
          0,
          0.3
         ],
         "range": [
          0,
          45
         ],
         "title": {
          "text": "Inner Steering Angle (degrees)"
         }
        },
        "xaxis5": {
         "anchor": "y5",
         "domain": [
          0.35,
          0.6499999999999999
         ],
         "range": [
          0,
          720
         ],
         "title": {
          "text": "Steering Wheel Angle (degrees)"
         }
        },
        "xaxis6": {
         "anchor": "y6",
         "domain": [
          0.7,
          1
         ]
        },
        "xaxis7": {
         "anchor": "y7",
         "domain": [
          0,
          0.6499999999999999
         ],
         "range": [
          -12,
          5
         ],
         "title": {
          "text": "X (m)"
         }
        },
        "xaxis8": {
         "anchor": "y8",
         "domain": [
          0.7,
          1
         ]
        },
        "xaxis9": {
         "anchor": "y9",
         "domain": [
          0,
          1
         ]
        },
        "yaxis": {
         "anchor": "x",
         "domain": [
          0.825,
          1
         ],
         "range": [
          0,
          45
         ],
         "title": {
          "text": "Outer Steering Angle (degrees)"
         }
        },
        "yaxis2": {
         "anchor": "x2",
         "domain": [
          0.825,
          1
         ],
         "range": [
          0,
          20
         ],
         "title": {
          "text": "Turning Radius (m)"
         }
        },
        "yaxis3": {
         "anchor": "x3",
         "domain": [
          0.825,
          1
         ]
        },
        "yaxis4": {
         "anchor": "x4",
         "domain": [
          0.55,
          0.7250000000000001
         ],
         "range": [
          0,
          110
         ],
         "title": {
          "text": "Ackermann Percentage (%)"
         }
        },
        "yaxis5": {
         "anchor": "x5",
         "domain": [
          0.55,
          0.7250000000000001
         ],
         "range": [
          0,
          44
         ],
         "title": {
          "text": "Road Wheel Angle (degrees)"
         }
        },
        "yaxis6": {
         "anchor": "x6",
         "domain": [
          0.55,
          0.7250000000000001
         ]
        },
        "yaxis7": {
         "anchor": "x7",
         "domain": [
          0.275,
          0.45
         ],
         "range": [
          -5,
          5
         ],
         "title": {
          "text": "Y (m)"
         }
        },
        "yaxis8": {
         "anchor": "x8",
         "domain": [
          0.275,
          0.45
         ]
        },
        "yaxis9": {
         "anchor": "x9",
         "domain": [
          0,
          0.175
         ]
        }
       }
      }
     },
     "metadata": {},
     "output_type": "display_data"
    },
    {
     "data": {
      "application/vnd.plotly.v1+json": {
       "config": {
        "plotlyServerURL": "https://plot.ly"
       },
       "data": [
        {
         "line": {
          "color": "black",
          "width": 6
         },
         "mode": "lines",
         "name": "Wheel Rim",
         "type": "scatter3d",
         "x": {
          "bdata": "VaNbm1oK0z+mYeVPigDTP/HvPIsj49I/G7wjnESy0j/qaSTjH27SP0TKpJ77FtI/GDZ9ojGt0T/98F/7LjHRP50GcH5zo9A/NIN7RZEE0D/wuMEwWKrOP+WTdYjxK80/CSoBwniPyz+S/bUMl9bJPzRU/uASA8g/pt/iK84Wxj+ZJUNexBPEP2O+wGEI/ME/0Tzx6oSjvz+QHn3pWy67P8BRSxQunbY/9tFporD0sT9gk+OkYXOqP+Wgy+4d4qA/M54pj8v9jD+K7NNRhlVzv7EojmutJJi/Jf/JCoutpb+byvfIZjKvv7ufdvyMS7S/uYXJ5ProuL9Hx6pFu2y9v9S0uV8T6cC/V6Nbm1oKw792DhFAARjFv0B8pHPpD8e/WrXixQvwyL/5gw1IebbKv+ChC4tdYcy/aexHggDvzb/kHE5JyF3Pv+y2KGUdVtC/JdD0oX/s0L+UUDrWb3HRv1881/hk5NG/gQmbiehE0r85020Ll5LSv71x3mogzdK/B7+tUEj00r//8QFg5gfTv//xAWDmB9O/B7+tUEj00r+9cd5qIM3SvznTbQuXktK/gQmbiehE0r9fPNf4ZOTRv5RQOtZvcdG/JtD0oX/s0L/rtihlHVbQv+UcTknIXc+/aOxHggDvzb/ioQuLXWHMv/eDDUh5tsq/XLXixQvwyL8+fKRz6Q/Hv3gOEUABGMW/UaNbm1oKw7/TtLlfE+nAv0fHqkW7bL2/vYXJ5ProuL+zn3b8jEu0v5PK98hmMq+/Jf/JCoutpb/HKI5rrSSYv/vr01GGVXO/Vp4pj8v9jD/boMvuHeKgP02T46Rhc6o/+tFporD0sT/AUUsULp22P4sefelbLrs/2Tzx6oSjvz9lvsBhCPzBP5klQ17EE8Q/o9/iK84Wxj84VP7gEgPIP5P9tQyX1sk/CCoBwniPyz/jk3WI8SvNP/G4wTBYqs4/NIN7RZEE0D+cBnB+c6PQP/zwX/suMdE/GTZ9ojGt0T9EyqSe+xbSP+ppJOMfbtI/G7wjnESy0j/x7zyLI+PSP6Zh5U+KANM/VaNbm1oK0z8=",
          "dtype": "f8"
         },
         "y": {
          "bdata": "+Sxq+MnCoz9euKSdmrijPwILDA0XmqM/jKf0ul5noz+zXuPvpSCjPwFCqJI1xqI/xps43WpYoj9GY5X8ttehP9U8IZyeRKE/hEjeXLmfoD8PcUFyYtOfP0KcrqqDRp4/ALY8fW+anD+oVMkv39CaP8ZY92yq65g//q36XcXslj9UpgSnPtaUP35nZEg9qpI/RAWLZv5qkD8KjXn2pTWMPz8yoeQ6eIc/3pjnaJ6igj+JzeqJmHN7P7XxWg+ohXE/AdZ8rZ4WXj/YLNnSzRBEv+B77XeKDmm/hNzgnYZ/dr/5dkZ6SzCAv1d1O54jEIW/yIrAbEXaib9Wb235wImOv9DRMOjgjJG/+yxq+MnCk7/snhhTVOSVv1teYZ1N75e/tAmJv5rhmb+9AqkQOrmbv4VILWhFdJ2/bQD5EvQQn7+IixZVzkagvyPY1WRb9KC/My9KUm6Qob+9Fgw7Zhqiv9KnlOa0kaK/N0HYWN/1or/k9gxRfkajv6QPGrQ+g6O/odlC4uGro7/qhrT3PcCjv+qGtPc9wKO/odlC4uGro7+kDxq0PoOjv+T2DFF+RqO/N0HYWN/1or/Sp5TmtJGiv70WDDtmGqK/NC9KUm6Qob8i2NVkW/Sgv4iLFlXORqC/bAD5EvQQn7+HSC1oRXSdv7sCqRA6uZu/tgmJv5rhmb9ZXmGdTe+Xv+6eGFNU5JW/9Cxq+MnCk7/P0TDo4IyRv1ZvbfnAiY6/zIrAbEXaib9PdTueIxCFv/V2RnpLMIC/hNzgnYZ/dr/3e+13ig5pv0Is2dLNEES/JdZ8rZ4WXj+r8VoPqIVxP3bN6omYc3s/4pjnaJ6igj8/MqHkOniHPwSNefalNYw/SAWLZv5qkD+AZ2RIPaqSP1SmBKc+1pQ/+636XcXslj/KWPdsquuYP6lUyS/f0Jo//7U8fW+anD9AnK6qg0aePxBxQXJi058/hEjeXLmfoD/UPCGcnkShP0Vjlfy216E/x5s43WpYoj8BQqiSNcaiP7Ne4++lIKM/jKf0ul5noz8CCwwNF5qjP164pJ2auKM/+Sxq+MnCoz8=",
          "dtype": "f8"
         },
         "z": {
          "bdata": "MzMzMzMz0z9z0MD18GrUP2QtzV5todU/4hkYYGjV1j9hD46ApAXYP8E8iiPoMNk/ZawdzP5V2j+NRg5bunPbP+7jRUb0iNw/BmhwyI6U3T+Q6Y8HdpXeP3dAVzGhit8/mu0Sxok54D/busW97qbgP1yTo7sODeE/rZPheYBr4T+K146d4sHhP0KV7xrcD+I/n3NHkRxV4j+6e7SdXJHiP/89xSRexOI/qU9+kuzt4j8GIo0Q3Q3jPxBVcLIOJOM/jgBol2ow4z/I9woC5DLjP1K4aGV4K+M/enqqZy8a4z+GrTDaGv/iP2cANadW2uI/7uUDtQis4j/fPeu+YHTiP5hoBiSYM+I/Zn0arPHp4T/4mb9CuZfhP8ZAHqlDPeE/lnKRHu7a4D9QkocAHnHgP78oBWJAAOA/xHtqNpMR3z9KXfaiaRbeP9Q+A/EGEN0/SMySmXn/2z/B84OQ2uXaP8o29iJMxNk/U/cJzPib2D98OTIBEm7XP+8DVffOO9Y/F/P+YWsG1T+jrvQtJs/TP8K3cThAl9I/TnNnBPtf0T92YhFvlyrQP9hZaMqo8M0/Jd64NNuUyz86X+CGNETJP0jlxKsXAcc/PjSnmdnNxD8jT8bqvqzCPzsS4Ib5n8A/hqrvv0xTvT+kU3CJlpe5PxYHXZWpELY/5gQOpSjCsj/EJk+h+F6vP7STOQeft6k/yFyLcRiUpD9QU5nlYfOfP4Cq/ohO2pc/oKjpxU/lkD/gsoz/IjeGP4DWQoEsDHo/gLi4iMsDaT8AhuspN+tOPwDg2g5KzAM/ACyVWd5ENj8AR7yFAUlePwCWCFMRq3I/gOI4LahRgT8ATX2bQ7WLPyDv1q/SOpQ/gPJ3PdTCmz8Y3zmEcTWiP5C6RVoJFac/YPgZlSt7rD++/ny8IzGxP8LCa6sjYrQ/zCwCaUvNtz+2lzzUFG+7P1zzWXvBQ78/wfzrO6+jwT/wBEFA5LrDP68/sBZY5cU/BnSRNM8gyD9KU7iF/GrKPwiusMuDwcw/DJmcDPwhzz8DOZkH+cTQP/OVpXB1+9E/MjMzMzMz0z8=",
          "dtype": "f8"
         }
        },
        {
         "line": {
          "color": "red",
          "width": 5
         },
         "mode": "lines",
         "name": "Kingpin Axis",
         "type": "scatter3d",
         "x": [
          0,
          0.0020075164273731065
         ],
         "y": [
          0,
          0.022946017763527206
         ],
         "z": [
          0.6,
          -0.05959794583260325
         ]
        },
        {
         "line": {
          "color": "blue",
          "dash": "dash",
          "width": 5
         },
         "mode": "lines",
         "name": "Steering Axis",
         "type": "scatter3d",
         "x": [
          0,
          0
         ],
         "y": [
          0,
          0
         ],
         "z": [
          0,
          0.6
         ]
        },
        {
         "marker": {
          "color": "green",
          "size": 8
         },
         "mode": "markers",
         "name": "Contact Point",
         "type": "scatter3d",
         "x": [
          0.038595496725145347
         ],
         "y": [
          0.29750695392299537
         ],
         "z": [
          0
         ]
        },
        {
         "marker": {
          "color": "orange",
          "size": 8
         },
         "mode": "markers",
         "name": "Kingpin Ground Point",
         "type": "scatter3d",
         "x": [
          0.0020075164273731065
         ],
         "y": [
          0.022946017763527206
         ],
         "z": [
          0
         ]
        },
        {
         "line": {
          "color": "purple",
          "width": 4
         },
         "mode": "lines",
         "name": "Scrub Radius",
         "type": "scatter3d",
         "x": [
          0.038595496725145347,
          0.0020075164273731065
         ],
         "y": [
          0.29750695392299537,
          0.022946017763527206
         ],
         "z": [
          0,
          0
         ]
        },
        {
         "line": {
          "color": "orange",
          "dash": "dot",
          "width": 4
         },
         "mode": "lines",
         "name": "Caster Offset",
         "type": "scatter3d",
         "x": [
          0,
          0
         ],
         "y": [
          0,
          0.022946017763527206
         ],
         "z": [
          0.6,
          0.6
         ]
        }
       ],
       "layout": {
        "height": 600,
        "margin": {
         "b": 0,
         "l": 0,
         "r": 0,
         "t": 30
        },
        "scene": {
         "aspectmode": "data",
         "camera": {
          "eye": {
           "x": 1.5,
           "y": 1.5,
           "z": 1
          }
         },
         "xaxis": {
          "title": {
           "text": "X"
          }
         },
         "yaxis": {
          "title": {
           "text": "Y"
          }
         },
         "zaxis": {
          "title": {
           "text": "Z"
          }
         }
        },
        "template": {
         "data": {
          "bar": [
           {
            "error_x": {
             "color": "#2a3f5f"
            },
            "error_y": {
             "color": "#2a3f5f"
            },
            "marker": {
             "line": {
              "color": "#E5ECF6",
              "width": 0.5
             },
             "pattern": {
              "fillmode": "overlay",
              "size": 10,
              "solidity": 0.2
             }
            },
            "type": "bar"
           }
          ],
          "barpolar": [
           {
            "marker": {
             "line": {
              "color": "#E5ECF6",
              "width": 0.5
             },
             "pattern": {
              "fillmode": "overlay",
              "size": 10,
              "solidity": 0.2
             }
            },
            "type": "barpolar"
           }
          ],
          "carpet": [
           {
            "aaxis": {
             "endlinecolor": "#2a3f5f",
             "gridcolor": "white",
             "linecolor": "white",
             "minorgridcolor": "white",
             "startlinecolor": "#2a3f5f"
            },
            "baxis": {
             "endlinecolor": "#2a3f5f",
             "gridcolor": "white",
             "linecolor": "white",
             "minorgridcolor": "white",
             "startlinecolor": "#2a3f5f"
            },
            "type": "carpet"
           }
          ],
          "choropleth": [
           {
            "colorbar": {
             "outlinewidth": 0,
             "ticks": ""
            },
            "type": "choropleth"
           }
          ],
          "contour": [
           {
            "colorbar": {
             "outlinewidth": 0,
             "ticks": ""
            },
            "colorscale": [
             [
              0,
              "#0d0887"
             ],
             [
              0.1111111111111111,
              "#46039f"
             ],
             [
              0.2222222222222222,
              "#7201a8"
             ],
             [
              0.3333333333333333,
              "#9c179e"
             ],
             [
              0.4444444444444444,
              "#bd3786"
             ],
             [
              0.5555555555555556,
              "#d8576b"
             ],
             [
              0.6666666666666666,
              "#ed7953"
             ],
             [
              0.7777777777777778,
              "#fb9f3a"
             ],
             [
              0.8888888888888888,
              "#fdca26"
             ],
             [
              1,
              "#f0f921"
             ]
            ],
            "type": "contour"
           }
          ],
          "contourcarpet": [
           {
            "colorbar": {
             "outlinewidth": 0,
             "ticks": ""
            },
            "type": "contourcarpet"
           }
          ],
          "heatmap": [
           {
            "colorbar": {
             "outlinewidth": 0,
             "ticks": ""
            },
            "colorscale": [
             [
              0,
              "#0d0887"
             ],
             [
              0.1111111111111111,
              "#46039f"
             ],
             [
              0.2222222222222222,
              "#7201a8"
             ],
             [
              0.3333333333333333,
              "#9c179e"
             ],
             [
              0.4444444444444444,
              "#bd3786"
             ],
             [
              0.5555555555555556,
              "#d8576b"
             ],
             [
              0.6666666666666666,
              "#ed7953"
             ],
             [
              0.7777777777777778,
              "#fb9f3a"
             ],
             [
              0.8888888888888888,
              "#fdca26"
             ],
             [
              1,
              "#f0f921"
             ]
            ],
            "type": "heatmap"
           }
          ],
          "histogram": [
           {
            "marker": {
             "pattern": {
              "fillmode": "overlay",
              "size": 10,
              "solidity": 0.2
             }
            },
            "type": "histogram"
           }
          ],
          "histogram2d": [
           {
            "colorbar": {
             "outlinewidth": 0,
             "ticks": ""
            },
            "colorscale": [
             [
              0,
              "#0d0887"
             ],
             [
              0.1111111111111111,
              "#46039f"
             ],
             [
              0.2222222222222222,
              "#7201a8"
             ],
             [
              0.3333333333333333,
              "#9c179e"
             ],
             [
              0.4444444444444444,
              "#bd3786"
             ],
             [
              0.5555555555555556,
              "#d8576b"
             ],
             [
              0.6666666666666666,
              "#ed7953"
             ],
             [
              0.7777777777777778,
              "#fb9f3a"
             ],
             [
              0.8888888888888888,
              "#fdca26"
             ],
             [
              1,
              "#f0f921"
             ]
            ],
            "type": "histogram2d"
           }
          ],
          "histogram2dcontour": [
           {
            "colorbar": {
             "outlinewidth": 0,
             "ticks": ""
            },
            "colorscale": [
             [
              0,
              "#0d0887"
             ],
             [
              0.1111111111111111,
              "#46039f"
             ],
             [
              0.2222222222222222,
              "#7201a8"
             ],
             [
              0.3333333333333333,
              "#9c179e"
             ],
             [
              0.4444444444444444,
              "#bd3786"
             ],
             [
              0.5555555555555556,
              "#d8576b"
             ],
             [
              0.6666666666666666,
              "#ed7953"
             ],
             [
              0.7777777777777778,
              "#fb9f3a"
             ],
             [
              0.8888888888888888,
              "#fdca26"
             ],
             [
              1,
              "#f0f921"
             ]
            ],
            "type": "histogram2dcontour"
           }
          ],
          "mesh3d": [
           {
            "colorbar": {
             "outlinewidth": 0,
             "ticks": ""
            },
            "type": "mesh3d"
           }
          ],
          "parcoords": [
           {
            "line": {
             "colorbar": {
              "outlinewidth": 0,
              "ticks": ""
             }
            },
            "type": "parcoords"
           }
          ],
          "pie": [
           {
            "automargin": true,
            "type": "pie"
           }
          ],
          "scatter": [
           {
            "fillpattern": {
             "fillmode": "overlay",
             "size": 10,
             "solidity": 0.2
            },
            "type": "scatter"
           }
          ],
          "scatter3d": [
           {
            "line": {
             "colorbar": {
              "outlinewidth": 0,
              "ticks": ""
             }
            },
            "marker": {
             "colorbar": {
              "outlinewidth": 0,
              "ticks": ""
             }
            },
            "type": "scatter3d"
           }
          ],
          "scattercarpet": [
           {
            "marker": {
             "colorbar": {
              "outlinewidth": 0,
              "ticks": ""
             }
            },
            "type": "scattercarpet"
           }
          ],
          "scattergeo": [
           {
            "marker": {
             "colorbar": {
              "outlinewidth": 0,
              "ticks": ""
             }
            },
            "type": "scattergeo"
           }
          ],
          "scattergl": [
           {
            "marker": {
             "colorbar": {
              "outlinewidth": 0,
              "ticks": ""
             }
            },
            "type": "scattergl"
           }
          ],
          "scattermap": [
           {
            "marker": {
             "colorbar": {
              "outlinewidth": 0,
              "ticks": ""
             }
            },
            "type": "scattermap"
           }
          ],
          "scattermapbox": [
           {
            "marker": {
             "colorbar": {
              "outlinewidth": 0,
              "ticks": ""
             }
            },
            "type": "scattermapbox"
           }
          ],
          "scatterpolar": [
           {
            "marker": {
             "colorbar": {
              "outlinewidth": 0,
              "ticks": ""
             }
            },
            "type": "scatterpolar"
           }
          ],
          "scatterpolargl": [
           {
            "marker": {
             "colorbar": {
              "outlinewidth": 0,
              "ticks": ""
             }
            },
            "type": "scatterpolargl"
           }
          ],
          "scatterternary": [
           {
            "marker": {
             "colorbar": {
              "outlinewidth": 0,
              "ticks": ""
             }
            },
            "type": "scatterternary"
           }
          ],
          "surface": [
           {
            "colorbar": {
             "outlinewidth": 0,
             "ticks": ""
            },
            "colorscale": [
             [
              0,
              "#0d0887"
             ],
             [
              0.1111111111111111,
              "#46039f"
             ],
             [
              0.2222222222222222,
              "#7201a8"
             ],
             [
              0.3333333333333333,
              "#9c179e"
             ],
             [
              0.4444444444444444,
              "#bd3786"
             ],
             [
              0.5555555555555556,
              "#d8576b"
             ],
             [
              0.6666666666666666,
              "#ed7953"
             ],
             [
              0.7777777777777778,
              "#fb9f3a"
             ],
             [
              0.8888888888888888,
              "#fdca26"
             ],
             [
              1,
              "#f0f921"
             ]
            ],
            "type": "surface"
           }
          ],
          "table": [
           {
            "cells": {
             "fill": {
              "color": "#EBF0F8"
             },
             "line": {
              "color": "white"
             }
            },
            "header": {
             "fill": {
              "color": "#C8D4E3"
             },
             "line": {
              "color": "white"
             }
            },
            "type": "table"
           }
          ]
         },
         "layout": {
          "annotationdefaults": {
           "arrowcolor": "#2a3f5f",
           "arrowhead": 0,
           "arrowwidth": 1
          },
          "autotypenumbers": "strict",
          "coloraxis": {
           "colorbar": {
            "outlinewidth": 0,
            "ticks": ""
           }
          },
          "colorscale": {
           "diverging": [
            [
             0,
             "#8e0152"
            ],
            [
             0.1,
             "#c51b7d"
            ],
            [
             0.2,
             "#de77ae"
            ],
            [
             0.3,
             "#f1b6da"
            ],
            [
             0.4,
             "#fde0ef"
            ],
            [
             0.5,
             "#f7f7f7"
            ],
            [
             0.6,
             "#e6f5d0"
            ],
            [
             0.7,
             "#b8e186"
            ],
            [
             0.8,
             "#7fbc41"
            ],
            [
             0.9,
             "#4d9221"
            ],
            [
             1,
             "#276419"
            ]
           ],
           "sequential": [
            [
             0,
             "#0d0887"
            ],
            [
             0.1111111111111111,
             "#46039f"
            ],
            [
             0.2222222222222222,
             "#7201a8"
            ],
            [
             0.3333333333333333,
             "#9c179e"
            ],
            [
             0.4444444444444444,
             "#bd3786"
            ],
            [
             0.5555555555555556,
             "#d8576b"
            ],
            [
             0.6666666666666666,
             "#ed7953"
            ],
            [
             0.7777777777777778,
             "#fb9f3a"
            ],
            [
             0.8888888888888888,
             "#fdca26"
            ],
            [
             1,
             "#f0f921"
            ]
           ],
           "sequentialminus": [
            [
             0,
             "#0d0887"
            ],
            [
             0.1111111111111111,
             "#46039f"
            ],
            [
             0.2222222222222222,
             "#7201a8"
            ],
            [
             0.3333333333333333,
             "#9c179e"
            ],
            [
             0.4444444444444444,
             "#bd3786"
            ],
            [
             0.5555555555555556,
             "#d8576b"
            ],
            [
             0.6666666666666666,
             "#ed7953"
            ],
            [
             0.7777777777777778,
             "#fb9f3a"
            ],
            [
             0.8888888888888888,
             "#fdca26"
            ],
            [
             1,
             "#f0f921"
            ]
           ]
          },
          "colorway": [
           "#636efa",
           "#EF553B",
           "#00cc96",
           "#ab63fa",
           "#FFA15A",
           "#19d3f3",
           "#FF6692",
           "#B6E880",
           "#FF97FF",
           "#FECB52"
          ],
          "font": {
           "color": "#2a3f5f"
          },
          "geo": {
           "bgcolor": "white",
           "lakecolor": "white",
           "landcolor": "#E5ECF6",
           "showlakes": true,
           "showland": true,
           "subunitcolor": "white"
          },
          "hoverlabel": {
           "align": "left"
          },
          "hovermode": "closest",
          "mapbox": {
           "style": "light"
          },
          "paper_bgcolor": "white",
          "plot_bgcolor": "#E5ECF6",
          "polar": {
           "angularaxis": {
            "gridcolor": "white",
            "linecolor": "white",
            "ticks": ""
           },
           "bgcolor": "#E5ECF6",
           "radialaxis": {
            "gridcolor": "white",
            "linecolor": "white",
            "ticks": ""
           }
          },
          "scene": {
           "xaxis": {
            "backgroundcolor": "#E5ECF6",
            "gridcolor": "white",
            "gridwidth": 2,
            "linecolor": "white",
            "showbackground": true,
            "ticks": "",
            "zerolinecolor": "white"
           },
           "yaxis": {
            "backgroundcolor": "#E5ECF6",
            "gridcolor": "white",
            "gridwidth": 2,
            "linecolor": "white",
            "showbackground": true,
            "ticks": "",
            "zerolinecolor": "white"
           },
           "zaxis": {
            "backgroundcolor": "#E5ECF6",
            "gridcolor": "white",
            "gridwidth": 2,
            "linecolor": "white",
            "showbackground": true,
            "ticks": "",
            "zerolinecolor": "white"
           }
          },
          "shapedefaults": {
           "line": {
            "color": "#2a3f5f"
           }
          },
          "ternary": {
           "aaxis": {
            "gridcolor": "white",
            "linecolor": "white",
            "ticks": ""
           },
           "baxis": {
            "gridcolor": "white",
            "linecolor": "white",
            "ticks": ""
           },
           "bgcolor": "#E5ECF6",
           "caxis": {
            "gridcolor": "white",
            "linecolor": "white",
            "ticks": ""
           }
          },
          "title": {
           "x": 0.05
          },
          "xaxis": {
           "automargin": true,
           "gridcolor": "white",
           "linecolor": "white",
           "ticks": "",
           "title": {
            "standoff": 15
           },
           "zerolinecolor": "white",
           "zerolinewidth": 2
          },
          "yaxis": {
           "automargin": true,
           "gridcolor": "white",
           "linecolor": "white",
           "ticks": "",
           "title": {
            "standoff": 15
           },
           "zerolinecolor": "white",
           "zerolinewidth": 2
          }
         }
        },
        "title": {
         "text": "3D Wheel Geometry"
        },
        "width": 800
       }
      }
     },
     "metadata": {},
     "output_type": "display_data"
    }
   ],
   "source": [
    "import numpy as np\n",
    "import plotly.graph_objects as go\n",
    "from plotly.subplots import make_subplots\n",
    "import ipywidgets as widgets\n",
    "from IPython.display import display\n",
    "from scipy.optimize import fsolve\n",
    "from math import sin, cos, radians, degrees, sqrt, tan, atan\n",
    "\n",
    "\n",
    "# Function to calculate the corresponding angle using the Ackermann relationship\n",
    "def calculate_inner_outer_angles(turning_radius, wheelbase, track_width):\n",
    "    \"\"\"Calculate both inner and outer angles based on turning radius\"\"\"\n",
    "    R = turning_radius\n",
    "    L = wheelbase\n",
    "    B = track_width\n",
    "    \n",
    "    inner_angle_rad = np.arctan(L / (R - B/2))\n",
    "    outer_angle_rad = np.arctan(L / (R + B/2))\n",
    "    \n",
    "    return np.rad2deg(inner_angle_rad), np.rad2deg(outer_angle_rad)\n",
    "\n",
    "def calculate_outer_angle(inner_angle, B, L):\n",
    "    \"\"\"Calculate outer angle from inner angle using Ackermann relationship\"\"\"\n",
    "    inner_rad = np.deg2rad(inner_angle)\n",
    "    cot_inner = 1 / np.tan(inner_rad)\n",
    "    cot_outer = cot_inner + B/L\n",
    "    if np.abs(cot_outer) < 1e-10:\n",
    "        outer_rad = np.pi/2 if cot_outer >= 0 else -np.pi/2\n",
    "    else:\n",
    "        outer_rad = np.arctan(1 / cot_outer)\n",
    "    return np.rad2deg(outer_rad)\n",
    "\n",
    "def calculate_turning_radius(inner_angle, B, L):\n",
    "    \"\"\"Calculate turning radius to center of rear axle from inner angle\"\"\"\n",
    "    inner_rad = np.deg2rad(inner_angle)\n",
    "    Ri = L / np.tan(inner_rad)\n",
    "    R = Ri + B/2\n",
    "    return R\n",
    "\n",
    "def calculate_ackermann_percentage(inner_angle, outer_angle, B, L):\n",
    "    \"\"\"Calculate how close the steering is to perfect Ackermann geometry\"\"\"\n",
    "    ideal_outer = calculate_outer_angle(inner_angle, B, L)\n",
    "    deviation = np.abs(ideal_outer - outer_angle)\n",
    "    max_deviation = np.abs(ideal_outer - inner_angle)\n",
    "    \n",
    "    if max_deviation == 0:\n",
    "        return 100.0\n",
    "    \n",
    "    return (1 - deviation / max_deviation) * 100.0\n",
    "\n",
    "def calculate_steering_linkage(inner_angle, outer_angle, track_width, wheelbase, \n",
    "                               steering_arm_length, rack_width, beta_angle):\n",
    "    \"\"\"\n",
    "    Calculate the steering linkage geometry based on Ackermann steering parameters\n",
    "    \n",
    "    Parameters:\n",
    "    -----------\n",
    "    inner_angle: float\n",
    "        Inner wheel steering angle in degrees\n",
    "    outer_angle: float\n",
    "        Outer wheel steering angle in degrees\n",
    "    track_width: float\n",
    "        Track width in meters (B)\n",
    "    wheelbase: float\n",
    "        Wheelbase in meters (L)\n",
    "    steering_arm_length: float\n",
    "        Length of steering arm in meters\n",
    "    rack_width: float\n",
    "        Width of steering rack in meters (p)\n",
    "    beta_angle: float\n",
    "        Angle of steering arm when wheels are straight, in degrees\n",
    "    \n",
    "    Returns:\n",
    "    --------\n",
    "    Dictionary containing:\n",
    "        - tie_rod_length: Length of tie rods\n",
    "        - rack_travel: Total rack travel from lock to lock\n",
    "        - rack_position: Current rack position\n",
    "        - y: Distance from kingpin to rack\n",
    "        - toe_angle: Toe angle in degrees\n",
    "    \"\"\"\n",
    "    # Convert angles to radians\n",
    "    del_i = radians(inner_angle)\n",
    "    del_o = radians(outer_angle)\n",
    "    beta = radians(beta_angle)\n",
    "    \n",
    "    # Constants for rack and pinion geometry\n",
    "    B = track_width\n",
    "    p = rack_width\n",
    "    steering_arm = steering_arm_length\n",
    "    \n",
    "    # Rack ball joint radius (distance from rack center to ball joint)\n",
    "    r = 0.05  # 5 cm default\n",
    "    \n",
    "    # Define the system of equations\n",
    "    def equations(vars):\n",
    "        y, q, d = vars\n",
    "        eq1 = y**2 - ((B/2 - (p/2 + r - q) - steering_arm * sin(del_i + beta))**2 + \n",
    "                      (d - steering_arm * cos(del_i + beta))**2)\n",
    "        eq2 = y**2 - ((B/2 - (p/2 + r + q) + steering_arm * sin(del_o - beta))**2 + \n",
    "                      (d - steering_arm * cos(del_o - beta))**2)\n",
    "        eq3 = y**2 - ((B/2 - p/2 - r - steering_arm * sin(beta))**2 + \n",
    "                      (d - steering_arm * cos(beta))**2)\n",
    "        return [eq1, eq2, eq3]\n",
    "    \n",
    "    # Initial guess for y, q, d\n",
    "    initial_guess = [steering_arm, 0.05, steering_arm]\n",
    "    \n",
    "    try:\n",
    "        # Solve the system of equations\n",
    "        solution = fsolve(equations, initial_guess)\n",
    "        y, q, d = solution\n",
    "        \n",
    "        # Calculate tie rod lengths\n",
    "        tie_rod_inner = sqrt((B/2 - (p/2 + r - q) - steering_arm * sin(del_i + beta))**2 + \n",
    "                            (d - steering_arm * cos(del_i + beta))**2)\n",
    "        tie_rod_outer = sqrt((B/2 - (p/2 + r + q) + steering_arm * sin(del_o - beta))**2 + \n",
    "                             (d - steering_arm * cos(del_o - beta))**2)\n",
    "        \n",
    "        # Calculate rack travel\n",
    "        rack_travel = 2 * q  # Total travel from full left to full right\n",
    "        \n",
    "        # Calculate toe angle (0 is neutral, - is toe-in, + is toe-out)\n",
    "        toe_angle = degrees(del_i - del_o)\n",
    "        \n",
    "        return {\n",
    "            'y': y,\n",
    "            'q': q,\n",
    "            'd': d,\n",
    "            'tie_rod_inner': tie_rod_inner,\n",
    "            'tie_rod_outer': tie_rod_outer,\n",
    "            'rack_travel': rack_travel,\n",
    "            'rack_position': q,  # Current position relative to center\n",
    "            'toe_angle': toe_angle\n",
    "        }\n",
    "    except:\n",
    "        # Return default values if solution fails\n",
    "        return {\n",
    "            'y': steering_arm,\n",
    "            'q': 0.05,\n",
    "            'd': steering_arm,\n",
    "            'tie_rod_inner': steering_arm,\n",
    "            'tie_rod_outer': steering_arm,\n",
    "            'rack_travel': 0.1,\n",
    "            'rack_position': 0,\n",
    "            'toe_angle': 0\n",
    "        }\n",
    "\n",
    "# Initial parameters\n",
    "wheelbase = 1.77  # L (m)\n",
    "track_width = 1.58585  # B (m)\n",
    "turning_radius = 3.0  # R (m) to outside wheel\n",
    "max_steering_angle = 40.0  # Maximum steering angle in degrees\n",
    "steering_ratio = 1.5  # Steering wheel to road wheel ratio\n",
    "kingpin_inclination = 2  # Degrees\n",
    "caster_angle = 5.0  # Degrees\n",
    "scrub_radius = 0.05  # meters\n",
    "steering_arm_length = 0.15  # meters\n",
    "rack_width = 0.8  # meters (p)\n",
    "beta_angle = 20.0  # degrees - steering arm angle when wheels are straight\n",
    "rack_ball_joint_radius = 0.05  # meters (r)\n",
    "\n",
    "\n",
    "# Calculate initial angles\n",
    "inner_angle_init, outer_angle_init = calculate_inner_outer_angles(turning_radius, wheelbase, track_width)\n",
    "\n",
    "initial_linkage = calculate_steering_linkage(\n",
    "    inner_angle_init, outer_angle_init, track_width, wheelbase, \n",
    "    steering_arm_length, rack_width, beta_angle\n",
    ")\n",
    "\n",
    "\n",
    "# Create figure with subplots\n",
    "fig = make_subplots(\n",
    "    rows=4, cols=3,\n",
    "    specs=[\n",
    "        [{\"type\": \"xy\"}, {\"type\": \"xy\"}, {\"type\": \"xy\"}],\n",
    "        [{\"type\": \"xy\"}, {\"type\": \"xy\"}, {\"type\": \"xy\"}],\n",
    "        [{\"colspan\": 2, \"type\": \"xy\"}, None, {\"type\": \"xy\"}],\n",
    "        [{\"colspan\": 3, \"type\": \"xy\"}, None, None],\n",
    "    ],\n",
    "    subplot_titles=(\n",
    "        \"Ackermann Steering Angle Relationship\", \n",
    "        \"Turning Radius vs Inner Angle\", \n",
    "        \"Wheel Steering Geometry\",\n",
    "        \"Ackermann Compliance\", \n",
    "        \"Steering Ratio Effects\",\n",
    "        \"Instructions\",\n",
    "        \"Steering Linkage\",\n",
    "        \"Linkage Parameters\",\n",
    "        \"Vehicle Top-Down View\"\n",
    "    ),\n",
    "    vertical_spacing=0.1,\n",
    "    horizontal_spacing=0.05\n",
    ")\n",
    "\n",
    "# Function to draw steering linkage\n",
    "def draw_steering_linkage(inner_angle, outer_angle, linkage_params):\n",
    "    \"\"\"Draw the steering linkage based on steering angles and linkage parameters\"\"\"\n",
    "    # Calculate positions based on steering angles and linkage params\n",
    "    del_i_rad = np.deg2rad(inner_angle)\n",
    "    del_o_rad = np.deg2rad(outer_angle)\n",
    "    beta_rad = np.deg2rad(beta_angle)\n",
    "    \n",
    "    # Get parameters\n",
    "    B = track_width\n",
    "    p = rack_width\n",
    "    r = rack_ball_joint_radius\n",
    "    steering_arm = steering_arm_length\n",
    "    y = linkage_params['y']\n",
    "    q = linkage_params['q']\n",
    "    d = linkage_params['d']\n",
    "    \n",
    "    # Kingpin positions (where steering arms are attached)\n",
    "    left_kingpin_x = wheelbase\n",
    "    left_kingpin_y = B/2\n",
    "    right_kingpin_x = wheelbase\n",
    "    right_kingpin_y = -B/2\n",
    "    \n",
    "    # Steering arm end positions (where tie rods connect)\n",
    "    left_arm_x = left_kingpin_x - steering_arm * np.sin(del_i_rad + beta_rad)\n",
    "    left_arm_y = left_kingpin_y - steering_arm * np.cos(del_i_rad + beta_rad)\n",
    "    \n",
    "    right_arm_x = right_kingpin_x - steering_arm * np.sin(del_o_rad - beta_rad)\n",
    "    right_arm_y = right_kingpin_y + steering_arm * np.cos(del_o_rad - beta_rad)\n",
    "    \n",
    "    # Rack position and tie rod connections\n",
    "    rack_center_x = wheelbase - d\n",
    "    rack_center_y = 0\n",
    "    \n",
    "    left_rack_x = rack_center_x\n",
    "    left_rack_y = p/2 + r - q\n",
    "    \n",
    "    right_rack_x = rack_center_x\n",
    "    right_rack_y = -(p/2 + r + q)\n",
    "    \n",
    "    # Return all the coordinates for drawing\n",
    "    return {\n",
    "        'kingpins': {\n",
    "            'left': (left_kingpin_x, left_kingpin_y),\n",
    "            'right': (right_kingpin_x, right_kingpin_y)\n",
    "        },\n",
    "        'steering_arms': {\n",
    "            'left': (left_arm_x, left_arm_y),\n",
    "            'right': (right_arm_x, right_arm_y)\n",
    "        },\n",
    "        'rack': {\n",
    "            'center': (rack_center_x, rack_center_y),\n",
    "            'left': (left_rack_x, left_rack_y),\n",
    "            'right': (right_rack_x, right_rack_y)\n",
    "        }\n",
    "    }\n",
    "\n",
    "\n",
    "# Add steering linkage visualization\n",
    "linkage_coords = draw_steering_linkage(inner_angle_init, outer_angle_init, initial_linkage)\n",
    "\n",
    "# Prepare data for plots\n",
    "inner_angles = np.linspace(1, 45, 100)  # degrees\n",
    "outer_angles = [calculate_outer_angle(inner, track_width, wheelbase) for inner in inner_angles]\n",
    "parallel_steering = inner_angles  # For comparison (parallel steering has equal angles)\n",
    "turning_radii = [calculate_turning_radius(inner, track_width, wheelbase) for inner in inner_angles]\n",
    "ackermann_pcts = [calculate_ackermann_percentage(inner, calculate_outer_angle(inner, track_width, wheelbase), \n",
    "                                          track_width, wheelbase) for inner in inner_angles]\n",
    "steering_wheel_angles = np.linspace(0, 720, 100)  # Steering wheel angle (degrees)\n",
    "road_wheel_angles = [min(angle/steering_ratio, max_steering_angle) for angle in steering_wheel_angles]\n",
    "\n",
    "# Create the plots\n",
    "# 1. Angle relationship plot\n",
    "fig.add_trace(\n",
    "    go.Scatter(x=inner_angles, y=outer_angles, mode='lines', name='Ackermann', line=dict(color='blue', width=2)),\n",
    "    row=1, col=1\n",
    ")\n",
    "fig.add_trace(\n",
    "    go.Scatter(x=inner_angles, y=parallel_steering, mode='lines', name='Parallel', \n",
    "               line=dict(color='black', width=2, dash='dash')),\n",
    "    row=1, col=1\n",
    ")\n",
    "angle_marker = fig.add_trace(\n",
    "    go.Scatter(x=[inner_angle_init], y=[outer_angle_init], mode='markers', \n",
    "               marker=dict(color='red', size=10), showlegend=False),\n",
    "    row=1, col=1\n",
    ")\n",
    "\n",
    "# 2. Turning radius plot\n",
    "fig.add_trace(\n",
    "    go.Scatter(x=inner_angles, y=turning_radii, mode='lines', \n",
    "               line=dict(color='green', width=2), showlegend=False),\n",
    "    row=1, col=2\n",
    ")\n",
    "radius_marker = fig.add_trace(\n",
    "    go.Scatter(x=[inner_angle_init], y=[turning_radius], mode='markers', \n",
    "               marker=dict(color='red', size=10), showlegend=False),\n",
    "    row=1, col=2\n",
    ")\n",
    "\n",
    "# 3. 3D wheel geometry placeholder\n",
    "fig.add_trace(\n",
    "    go.Scatter(x=[0], y=[0], mode='text', \n",
    "               text=[\"Interactive 3D wheel geometry<br>will be implemented with controls\"],\n",
    "               textposition=\"middle center\",\n",
    "               showlegend=False),\n",
    "    row=1, col=3\n",
    ")\n",
    "\n",
    "# 4. Ackermann percentage plot\n",
    "fig.add_trace(\n",
    "    go.Scatter(x=inner_angles, y=ackermann_pcts, mode='lines', \n",
    "               line=dict(color='blue', width=2), showlegend=False),\n",
    "    row=2, col=1\n",
    ")\n",
    "ackermann_marker = fig.add_trace(\n",
    "    go.Scatter(x=[inner_angle_init], \n",
    "               y=[calculate_ackermann_percentage(inner_angle_init, outer_angle_init, track_width, wheelbase)], \n",
    "               mode='markers', marker=dict(color='red', size=10), showlegend=False),\n",
    "    row=2, col=1\n",
    ")\n",
    "\n",
    "# 5. Steering ratio plot\n",
    "fig.add_trace(\n",
    "    go.Scatter(x=steering_wheel_angles, y=road_wheel_angles, mode='lines', \n",
    "               line=dict(color='magenta', width=2), showlegend=False),\n",
    "    row=2, col=2\n",
    ")\n",
    "steer_ratio_marker = fig.add_trace(\n",
    "    go.Scatter(x=[inner_angle_init*steering_ratio], y=[inner_angle_init], mode='markers', \n",
    "               marker=dict(color='red', size=10), showlegend=False),\n",
    "    row=2, col=2\n",
    ")\n",
    "\n",
    "# 6. Instructions panel\n",
    "fig.add_trace(\n",
    "    go.Scatter(x=[0], y=[0], mode='text', \n",
    "               text=[\"<b>Ackermann Steering Simulator</b><br><br>\"\n",
    "                     \"• Use widgets below to adjust vehicle parameters<br>\"\n",
    "                     \"• Observe how changes affect steering geometry<br>\"\n",
    "                     \"• Ackermann steering ensures inner wheel turns<br>\"\n",
    "                     \"  at a sharper angle than the outer wheel<br>\"\n",
    "                     \"• This reduces tire scrub during turns\"],\n",
    "               textposition=\"middle center\",\n",
    "               showlegend=False),\n",
    "    row=2, col=3\n",
    ")\n",
    "\n",
    "\n",
    "# Left steering arm\n",
    "fig.add_trace(\n",
    "    go.Scatter(\n",
    "        x=[linkage_coords['kingpins']['left'][0], linkage_coords['steering_arms']['left'][0]],\n",
    "        y=[linkage_coords['kingpins']['left'][1], linkage_coords['steering_arms']['left'][1]],\n",
    "        mode='lines',\n",
    "        line=dict(color='orange', width=3),\n",
    "        name='Left Steering Arm'\n",
    "    ),\n",
    "    row=3, col=1\n",
    ")\n",
    "\n",
    "# Right steering arm\n",
    "fig.add_trace(\n",
    "    go.Scatter(\n",
    "        x=[linkage_coords['kingpins']['right'][0], linkage_coords['steering_arms']['right'][0]],\n",
    "        y=[linkage_coords['kingpins']['right'][1], linkage_coords['steering_arms']['right'][1]],\n",
    "        mode='lines',\n",
    "        line=dict(color='orange', width=3),\n",
    "        name='Right Steering Arm'\n",
    "    ),\n",
    "    row=3, col=1\n",
    ")\n",
    "\n",
    "# Steering rack\n",
    "fig.add_trace(\n",
    "    go.Scatter(\n",
    "        x=[linkage_coords['rack']['left'][0], linkage_coords['rack']['right'][0]],\n",
    "        y=[linkage_coords['rack']['left'][1], linkage_coords['rack']['right'][1]],\n",
    "        mode='lines',\n",
    "        line=dict(color='purple', width=4),\n",
    "        name='Steering Rack'\n",
    "    ),\n",
    "    row=3, col=1\n",
    ")\n",
    "\n",
    "# Left tie rod\n",
    "fig.add_trace(\n",
    "    go.Scatter(\n",
    "        x=[linkage_coords['steering_arms']['left'][0], linkage_coords['rack']['left'][0]],\n",
    "        y=[linkage_coords['steering_arms']['left'][1], linkage_coords['rack']['left'][1]],\n",
    "        mode='lines',\n",
    "        line=dict(color='green', width=2),\n",
    "        name='Left Tie Rod'\n",
    "    ),\n",
    "    row=3, col=1\n",
    ")\n",
    "\n",
    "# Right tie rod\n",
    "fig.add_trace(\n",
    "    go.Scatter(\n",
    "        x=[linkage_coords['steering_arms']['right'][0], linkage_coords['rack']['right'][0]],\n",
    "        y=[linkage_coords['steering_arms']['right'][1], linkage_coords['rack']['right'][1]],\n",
    "        mode='lines',\n",
    "        line=dict(color='green', width=2),\n",
    "        name='Right Tie Rod'\n",
    "    ),\n",
    "    row=3, col=1\n",
    ")\n",
    "\n",
    "\n",
    "\n",
    "# Add text with linkage parameters to row 3, col 3\n",
    "linkage_text = (\n",
    "    f\"<b>Steering Linkage Parameters</b><br><br>\"\n",
    "    f\"Steering Arm Length: {steering_arm_length:.2f} m<br>\"\n",
    "    f\"Steering Arm Angle (β): {beta_angle:.1f}°<br>\"\n",
    "    f\"Rack Width (p): {rack_width:.2f} m<br>\"\n",
    "    f\"Inner Tie Rod: {initial_linkage['tie_rod_inner']:.3f} m<br>\"\n",
    "    f\"Outer Tie Rod: {initial_linkage['tie_rod_outer']:.3f} m<br>\"\n",
    "    f\"Rack Travel: {initial_linkage['rack_travel']:.3f} m<br>\"\n",
    "    f\"Rack Position: {initial_linkage['rack_position']:.3f} m<br>\"\n",
    "    f\"Distance to Rack (y): {initial_linkage['y']:.3f} m<br>\"\n",
    "    f\"Toe Angle: {initial_linkage['toe_angle']:.2f}°\"\n",
    ")\n",
    "\n",
    "fig.add_trace(\n",
    "    go.Scatter(\n",
    "        x=[0], \n",
    "        y=[0], \n",
    "        mode='text', \n",
    "        text=[linkage_text],\n",
    "        textposition=\"middle center\",\n",
    "        showlegend=False\n",
    "    ),\n",
    "    row=3, col=3\n",
    ")\n",
    "\n",
    "# Add new sliders for steering linkage parameters\n",
    "steering_arm_slider = widgets.FloatSlider(\n",
    "    value=steering_arm_length,\n",
    "    min=0.05,\n",
    "    max=0.3,\n",
    "    step=0.01,\n",
    "    description='Steering Arm (m):',\n",
    "    disabled=False,\n",
    "    continuous_update=True,\n",
    "    orientation='horizontal',\n",
    "    readout=True,\n",
    "    readout_format='.2f',\n",
    ")\n",
    "\n",
    "rack_width_slider = widgets.FloatSlider(\n",
    "    value=rack_width,\n",
    "    min=0.4,\n",
    "    max=1.2,\n",
    "    step=0.05,\n",
    "    description='Rack Width (m):',\n",
    "    disabled=False,\n",
    "    continuous_update=True,\n",
    "    orientation='horizontal',\n",
    "    readout=True,\n",
    "    readout_format='.2f',\n",
    ")\n",
    "\n",
    "beta_angle_slider = widgets.FloatSlider(\n",
    "    value=beta_angle,\n",
    "    min=0.0,\n",
    "    max=45.0,\n",
    "    step=1.0,\n",
    "    description='Arm Angle β (°):',\n",
    "    disabled=False,\n",
    "    continuous_update=True,\n",
    "    orientation='horizontal',\n",
    "    readout=True,\n",
    "    readout_format='.1f',\n",
    ")\n",
    "\n",
    "# 10. Vehicle visualization (will be updated by the callback)\n",
    "car_x = [0, wheelbase, wheelbase, 0, 0]\n",
    "car_y = [-track_width/2, -track_width/2, track_width/2, track_width/2, -track_width/2]\n",
    "\n",
    "# Draw vehicle body\n",
    "fig.add_trace(\n",
    "    go.Scatter(x=car_x, y=car_y, mode='lines', line=dict(color='blue', width=2), \n",
    "               name='Vehicle', fill='toself', fillcolor='rgba(0,0,255,0.1)'),\n",
    "    row=4, col=1\n",
    ")\n",
    "\n",
    "# Add wheels (simplified rectangles for now)\n",
    "wheel_length = wheelbase * 0.1\n",
    "wheel_width = track_width * 0.1\n",
    "\n",
    "# Function to create wheel coordinates\n",
    "def get_wheel_coords(x_center, y_center, angle_deg):\n",
    "    # Define wheel as a rectangle\n",
    "    l, w = wheel_length, wheel_width\n",
    "    points_x = [-l/2, l/2, l/2, -l/2, -l/2]\n",
    "    points_y = [-w/2, -w/2, w/2, w/2, -w/2]\n",
    "    \n",
    "    # Rotate points\n",
    "    angle_rad = np.deg2rad(angle_deg)\n",
    "    rotated_x = []\n",
    "    rotated_y = []\n",
    "    for x, y in zip(points_x, points_y):\n",
    "        rx = x * np.cos(angle_rad) - y * np.sin(angle_rad)\n",
    "        ry = x * np.sin(angle_rad) + y * np.cos(angle_rad)\n",
    "        rotated_x.append(rx + x_center)\n",
    "        rotated_y.append(ry + y_center)\n",
    "    \n",
    "    return rotated_x, rotated_y\n",
    "\n",
    "# Front left wheel (inner wheel)\n",
    "fl_x, fl_y = get_wheel_coords(wheelbase, track_width/2, inner_angle_init)\n",
    "fig.add_trace(\n",
    "    go.Scatter(x=fl_x, y=fl_y, mode='lines', line=dict(color='black', width=2), \n",
    "               fill='toself', fillcolor='black', name='Front Left Wheel'),\n",
    "    row=4, col=1\n",
    ")\n",
    "\n",
    "# Front right wheel (outer wheel)\n",
    "fr_x, fr_y = get_wheel_coords(wheelbase, -track_width/2, outer_angle_init)\n",
    "fig.add_trace(\n",
    "    go.Scatter(x=fr_x, y=fr_y, mode='lines', line=dict(color='black', width=2), \n",
    "               fill='toself', fillcolor='black', name='Front Right Wheel'),\n",
    "    row=4, col=1\n",
    ")\n",
    "\n",
    "# Rear left wheel\n",
    "rl_x, rl_y = get_wheel_coords(0, track_width/2, 0)\n",
    "fig.add_trace(\n",
    "    go.Scatter(x=rl_x, y=rl_y, mode='lines', line=dict(color='black', width=2), \n",
    "               fill='toself', fillcolor='black', name='Rear Left Wheel'),\n",
    "    row=4, col=1\n",
    ")\n",
    "\n",
    "# Rear right wheel\n",
    "rr_x, rr_y = get_wheel_coords(0, -track_width/2, 0)\n",
    "fig.add_trace(\n",
    "    go.Scatter(x=rr_x, y=rr_y, mode='lines', line=dict(color='black', width=2), \n",
    "               fill='toself', fillcolor='black', name='Rear Right Wheel'),\n",
    "    row=4, col=1\n",
    ")\n",
    "\n",
    "# Add turning circle\n",
    "tc_x = -turning_radius\n",
    "tc_y = 0\n",
    "\n",
    "# Add turning center marker\n",
    "fig.add_trace(\n",
    "    go.Scatter(x=[tc_x], y=[tc_y], mode='markers', marker=dict(color='red', size=10),\n",
    "               name='Turning Center'),\n",
    "    row=4, col=1\n",
    ")\n",
    "\n",
    "# Add turning radius lines\n",
    "fig.add_trace(\n",
    "    go.Scatter(x=[tc_x, 0], y=[tc_y, 0], mode='lines', line=dict(color='red', width=1, dash='dash'),\n",
    "               name='Radius to Rear Axle'),\n",
    "    row=4, col=1\n",
    ")\n",
    "fig.add_trace(\n",
    "    go.Scatter(x=[tc_x, wheelbase], y=[tc_y, track_width/2], mode='lines', \n",
    "               line=dict(color='red', width=1, dash='dash'),\n",
    "               name='Radius to Inner Wheel'),\n",
    "    row=4, col=1\n",
    ")\n",
    "fig.add_trace(\n",
    "    go.Scatter(x=[tc_x, wheelbase], y=[tc_y, -track_width/2], mode='lines', \n",
    "               line=dict(color='red', width=1, dash='dash'),\n",
    "               name='Radius to Outer Wheel'),\n",
    "    row=4, col=1\n",
    ")\n",
    "\n",
    "# Add text information\n",
    "info_text = f\"Inner angle: {inner_angle_init:.1f}°<br>Outer angle: {outer_angle_init:.1f}°<br>\"\n",
    "info_text += f\"Turning radius: {turning_radius:.1f}m<br>Track width: {track_width:.1f}m<br>Wheelbase: {wheelbase:.1f}m<br>\"\n",
    "info_text += f\"Ackermann %: {calculate_ackermann_percentage(inner_angle_init, outer_angle_init, track_width, wheelbase):.1f}%\"\n",
    "\n",
    "fig.add_trace(\n",
    "    go.Scatter(x=[wheelbase/2], y=[track_width], mode='text', \n",
    "               text=[info_text],\n",
    "               textposition=\"top right\",\n",
    "               showlegend=False),\n",
    "    row=4, col=1\n",
    ")\n",
    "\n",
    "# Update layout\n",
    "fig.update_layout(\n",
    "    height=900,\n",
    "    width=1200,\n",
    "    title_text=\"Ackermann Steering Simulator\",\n",
    "    showlegend=True,\n",
    "    # Position the legend outside the plot area on the right side\n",
    "    legend=dict(\n",
    "        x=1.02,\n",
    "        y=0.5,\n",
    "        xanchor=\"left\",\n",
    "        yanchor=\"middle\",\n",
    "        bordercolor=\"Black\",\n",
    "        borderwidth=1,\n",
    "        orientation=\"v\"\n",
    "    )\n",
    ")\n",
    "\n",
    "# Update axes\n",
    "fig.update_xaxes(title_text=\"Inner Steering Angle (degrees)\", range=[0, 45], row=1, col=1)\n",
    "fig.update_yaxes(title_text=\"Outer Steering Angle (degrees)\", range=[0, 45], row=1, col=1)\n",
    "\n",
    "fig.update_xaxes(title_text=\"Inner Steering Angle (degrees)\", range=[0, 45], row=1, col=2)\n",
    "fig.update_yaxes(title_text=\"Turning Radius (m)\", range=[0, 20], row=1, col=2)\n",
    "\n",
    "fig.update_xaxes(title_text=\"Inner Steering Angle (degrees)\", range=[0, 45], row=2, col=1)\n",
    "fig.update_yaxes(title_text=\"Ackermann Percentage (%)\", range=[0, 110], row=2, col=1)\n",
    "\n",
    "fig.update_xaxes(title_text=\"Steering Wheel Angle (degrees)\", range=[0, 720], row=2, col=2)\n",
    "fig.update_yaxes(title_text=\"Road Wheel Angle (degrees)\", range=[0, max_steering_angle*1.1], row=2, col=2)\n",
    "\n",
    "fig.update_xaxes(title_text=\"X (m)\", range=[-12, 5], row=3, col=1)\n",
    "fig.update_yaxes(title_text=\"Y (m)\", range=[-5, 5], row=3, col=1)\n",
    "\n",
    "# Create interactive widgets\n",
    "control_mode = widgets.RadioButtons(\n",
    "    options=['Turning Radius', 'Inner Angle'],\n",
    "    value='Turning Radius',\n",
    "    description='Control Mode:',\n",
    "    disabled=False\n",
    ")\n",
    "\n",
    "turning_radius_slider = widgets.FloatSlider(\n",
    "    value=turning_radius,\n",
    "    min=2.0,\n",
    "    max=20.0,\n",
    "    step=0.1,\n",
    "    description='Turning Radius (m):',\n",
    "    disabled=False,\n",
    "    continuous_update=True,\n",
    "    orientation='horizontal',\n",
    "    readout=True,\n",
    "    readout_format='.1f',\n",
    ")\n",
    "\n",
    "inner_angle_slider = widgets.FloatSlider(\n",
    "    value=inner_angle_init,\n",
    "    min=1.0,\n",
    "    max=45.0,\n",
    "    step=0.1,\n",
    "    description='Inner Angle (°):',\n",
    "    disabled=False,\n",
    "    continuous_update=True,\n",
    "    orientation='horizontal',\n",
    "    readout=True,\n",
    "    readout_format='.1f',\n",
    ")\n",
    "\n",
    "track_width_slider = widgets.FloatSlider(\n",
    "    value=track_width,\n",
    "    min=0.5,\n",
    "    max=3.0,\n",
    "    step=0.1,\n",
    "    description='Track Width (m):',\n",
    "    disabled=False,\n",
    "    continuous_update=True,\n",
    "    orientation='horizontal',\n",
    "    readout=True,\n",
    "    readout_format='.1f',\n",
    ")\n",
    "\n",
    "wheelbase_slider = widgets.FloatSlider(\n",
    "    value=wheelbase,\n",
    "    min=1.0,\n",
    "    max=5.0,\n",
    "    step=0.1,\n",
    "    description='Wheelbase (m):',\n",
    "    disabled=False,\n",
    "    continuous_update=True,\n",
    "    orientation='horizontal',\n",
    "    readout=True,\n",
    "    readout_format='.1f',\n",
    ")\n",
    "\n",
    "steering_ratio_slider = widgets.FloatSlider(\n",
    "    value=steering_ratio,\n",
    "    min=5.0,\n",
    "    max=25.0,\n",
    "    step=0.5,\n",
    "    description='Steering Ratio:',\n",
    "    disabled=False,\n",
    "    continuous_update=True,\n",
    "    orientation='horizontal',\n",
    "    readout=True,\n",
    "    readout_format='.1f',\n",
    ")\n",
    "\n",
    "show_turning_circle = widgets.Checkbox(\n",
    "    value=True,\n",
    "    description='Show Turning Circle',\n",
    "    disabled=False\n",
    ")\n",
    "\n",
    "show_steering_arms = widgets.Checkbox(\n",
    "    value=False,\n",
    "    description='Show Steering Arms',\n",
    "    disabled=False\n",
    ")\n",
    "\n",
    "reset_button = widgets.Button(\n",
    "    description='Reset Parameters',\n",
    "    disabled=False,\n",
    "    button_style='', \n",
    "    tooltip='Reset all parameters to default values',\n",
    "    icon='refresh'\n",
    ")\n",
    "\n",
    "# Define update function for widgets\n",
    "def update_plot(change=None):\n",
    "    global wheelbase, track_width, turning_radius, steering_ratio\n",
    "    \n",
    "    # Get values from sliders\n",
    "    wheelbase = wheelbase_slider.value\n",
    "    track_width = track_width_slider.value\n",
    "    steering_ratio = steering_ratio_slider.value\n",
    "    \n",
    "    # Handle control mode\n",
    "    if control_mode.value == 'Turning Radius':\n",
    "        turning_radius = turning_radius_slider.value\n",
    "        inner_angle, outer_angle = calculate_inner_outer_angles(turning_radius, wheelbase, track_width)\n",
    "        # Update inner angle slider without triggering callback\n",
    "        inner_angle_slider.value = inner_angle\n",
    "    else:  # 'Inner Angle'\n",
    "        inner_angle = inner_angle_slider.value\n",
    "        turning_radius = calculate_turning_radius(inner_angle, track_width, wheelbase)\n",
    "        outer_angle = calculate_outer_angle(inner_angle, track_width, wheelbase)\n",
    "        # Update turning radius slider without triggering callback\n",
    "        turning_radius_slider.value = turning_radius\n",
    "    \n",
    "    # Recalculate all dependent values\n",
    "    outer_angles = [calculate_outer_angle(inner, track_width, wheelbase) for inner in inner_angles]\n",
    "    turning_radii = [calculate_turning_radius(inner, track_width, wheelbase) for inner in inner_angles]\n",
    "    ackermann_pcts = [calculate_ackermann_percentage(inner, calculate_outer_angle(inner, track_width, wheelbase), \n",
    "                                              track_width, wheelbase) for inner in inner_angles]\n",
    "    road_wheel_angles = [min(angle/steering_ratio, max_steering_angle) for angle in steering_wheel_angles]\n",
    "    \n",
    "    # Update angle relationship plot\n",
    "    with fig.batch_update():\n",
    "        fig.data[1].y = outer_angles  # Ackermann line\n",
    "        fig.data[2].x = [inner_angle]  # Angle marker X\n",
    "        fig.data[2].y = [outer_angle]  # Angle marker Y\n",
    "        \n",
    "        # Update turning radius plot\n",
    "        fig.data[3].y = turning_radii  # Turning radius line\n",
    "        fig.data[4].x = [inner_angle]  # Radius marker X\n",
    "        fig.data[4].y = [turning_radius]  # Radius marker Y\n",
    "        \n",
    "        # Update Ackermann percentage plot\n",
    "        fig.data[6].y = ackermann_pcts  # Ackermann percentage line\n",
    "        current_ackermann_pct = calculate_ackermann_percentage(inner_angle, outer_angle, track_width, wheelbase)\n",
    "        fig.data[7].x = [inner_angle]  # Ackermann marker X\n",
    "        fig.data[7].y = [current_ackermann_pct]  # Ackermann marker Y\n",
    "        \n",
    "        # Update steering ratio plot\n",
    "        fig.data[8].y = road_wheel_angles  # Steering ratio line\n",
    "        fig.data[9].x = [inner_angle*steering_ratio]  # Steering ratio marker X\n",
    "        fig.data[9].y = [inner_angle]  # Steering ratio marker Y\n",
    "        \n",
    "        # Update vehicle visualization\n",
    "        # Update car body\n",
    "        car_x = [0, wheelbase, wheelbase, 0, 0]\n",
    "        car_y = [-track_width/2, -track_width/2, track_width/2, track_width/2, -track_width/2]\n",
    "        fig.data[11].x = car_x\n",
    "        fig.data[11].y = car_y\n",
    "        \n",
    "        # Update wheels\n",
    "        # Front left wheel (inner wheel)\n",
    "        fl_x, fl_y = get_wheel_coords(wheelbase, track_width/2, inner_angle)\n",
    "        fig.data[12].x = fl_x\n",
    "        fig.data[12].y = fl_y\n",
    "        \n",
    "        # Front right wheel (outer wheel)\n",
    "        fr_x, fr_y = get_wheel_coords(wheelbase, -track_width/2, outer_angle)\n",
    "        fig.data[13].x = fr_x\n",
    "        fig.data[13].y = fr_y\n",
    "        \n",
    "        # Rear left wheel\n",
    "        rl_x, rl_y = get_wheel_coords(0, track_width/2, 0)\n",
    "        fig.data[14].x = rl_x\n",
    "        fig.data[14].y = rl_y\n",
    "        \n",
    "        # Rear right wheel\n",
    "        rr_x, rr_y = get_wheel_coords(0, -track_width/2, 0)\n",
    "        fig.data[15].x = rr_x\n",
    "        fig.data[15].y = rr_y\n",
    "        \n",
    "        # Update turning center and radius\n",
    "        tc_x = -turning_radius\n",
    "        tc_y = 0\n",
    "        \n",
    "        # Update turning center marker\n",
    "        fig.data[16].x = [tc_x]\n",
    "        fig.data[16].y = [tc_y]\n",
    "        \n",
    "        # Update turning radius lines\n",
    "        fig.data[17].x = [tc_x, 0]  # To rear axle center\n",
    "        fig.data[17].y = [tc_y, 0]\n",
    "        \n",
    "        fig.data[18].x = [tc_x, wheelbase]  # To inner wheel\n",
    "        fig.data[18].y = [tc_y, track_width/2]\n",
    "        \n",
    "        fig.data[19].x = [tc_x, wheelbase]  # To outer wheel\n",
    "        fig.data[19].y = [tc_y, -track_width/2]\n",
    "        \n",
    "        # Update text information\n",
    "        info_text = f\"Inner angle: {inner_angle:.1f}°<br>Outer angle: {outer_angle:.1f}°<br>\"\n",
    "        info_text += f\"Turning radius: {turning_radius:.1f}m<br>Track width: {track_width:.1f}m<br>Wheelbase: {wheelbase:.1f}m<br>\"\n",
    "        info_text += f\"Ackermann %: {current_ackermann_pct:.1f}%\"\n",
    "        fig.data[20].text = [info_text]\n",
    "        \n",
    "        # Update axes ranges for vehicle plot\n",
    "        fig.update_xaxes(range=[-turning_radius-1, wheelbase+1], row=3, col=1)\n",
    "        fig.update_yaxes(range=[-max(track_width, turning_radius/2)-1, max(track_width, turning_radius/2)+1], row=3, col=1)\n",
    "\n",
    "         # At the end of the function, add this code to update steering linkage:\n",
    "    global steering_arm_length, rack_width, beta_angle\n",
    "    \n",
    "    # Get values from sliders\n",
    "    steering_arm_length = steering_arm_slider.value\n",
    "    rack_width = rack_width_slider.value\n",
    "    beta_angle = beta_angle_slider.value\n",
    "    \n",
    "    # Calculate steering linkage with current parameters\n",
    "    current_linkage = calculate_steering_linkage(\n",
    "        inner_angle, outer_angle, track_width, wheelbase, \n",
    "        steering_arm_length, rack_width, beta_angle\n",
    "    )\n",
    "    \n",
    "    # Get coordinates for steering linkage visualization\n",
    "    linkage_coords = draw_steering_linkage(inner_angle, outer_angle, current_linkage)\n",
    "    \n",
    "    # Update steering linkage visualization\n",
    "    # Left steering arm\n",
    "    fig.data[21].x = [linkage_coords['kingpins']['left'][0], linkage_coords['steering_arms']['left'][0]]\n",
    "    fig.data[21].y = [linkage_coords['kingpins']['left'][1], linkage_coords['steering_arms']['left'][1]]\n",
    "    \n",
    "    # Right steering arm\n",
    "    fig.data[22].x = [linkage_coords['kingpins']['right'][0], linkage_coords['steering_arms']['right'][0]]\n",
    "    fig.data[22].y = [linkage_coords['kingpins']['right'][1], linkage_coords['steering_arms']['right'][1]]\n",
    "    \n",
    "    # Steering rack\n",
    "    fig.data[23].x = [linkage_coords['rack']['left'][0], linkage_coords['rack']['right'][0]]\n",
    "    fig.data[23].y = [linkage_coords['rack']['left'][1], linkage_coords['rack']['right'][1]]\n",
    "    \n",
    "    # Left tie rod\n",
    "    fig.data[24].x = [linkage_coords['steering_arms']['left'][0], linkage_coords['rack']['left'][0]]\n",
    "    fig.data[24].y = [linkage_coords['steering_arms']['left'][1], linkage_coords['rack']['left'][1]]\n",
    "    \n",
    "    # Right tie rod\n",
    "    fig.data[25].x = [linkage_coords['steering_arms']['right'][0], linkage_coords['rack']['right'][0]]\n",
    "    fig.data[25].y = [linkage_coords['steering_arms']['right'][1], linkage_coords['rack']['right'][1]]\n",
    "    \n",
    "    # Update text with linkage parameters\n",
    "    linkage_text = (\n",
    "        f\"<b>Steering Linkage Parameters</b><br><br>\"\n",
    "        f\"Steering Arm Length: {steering_arm_length:.2f} m<br>\"\n",
    "        f\"Steering Arm Angle (β): {beta_angle:.1f}°<br>\"\n",
    "        f\"Rack Width (p): {rack_width:.2f} m<br>\"\n",
    "        f\"Inner Tie Rod: {current_linkage['tie_rod_inner']:.3f} m<br>\"\n",
    "        f\"Outer Tie Rod: {current_linkage['tie_rod_outer']:.3f} m<br>\"\n",
    "        f\"Rack Travel: {current_linkage['rack_travel']:.3f} m<br>\"\n",
    "        f\"Rack Position: {current_linkage['rack_position']:.3f} m<br>\"\n",
    "        f\"Distance to Rack (y): {current_linkage['y']:.3f} m<br>\"\n",
    "        f\"Toe Angle: {current_linkage['toe_angle']:.2f}°\"\n",
    "    )\n",
    "    \n",
    "    fig.data[26].text = [linkage_text]\n",
    "\n",
    "def reset_parameters(b):\n",
    "    global wheelbase, track_width, turning_radius, steering_ratio\n",
    "    global steering_arm_length, rack_width, beta_angle\n",
    "    \n",
    "    # Reset to initial values\n",
    "    wheelbase_slider.value = 2.5\n",
    "    track_width_slider.value = 1.5\n",
    "    turning_radius_slider.value = 5.0\n",
    "    steering_ratio_slider.value = 15.0\n",
    "    \n",
    "    # Reset steering linkage parameters\n",
    "    steering_arm_slider.value = 0.15\n",
    "    rack_width_slider.value = 0.8\n",
    "    beta_angle_slider.value = 20.0\n",
    "\n",
    "    update_plot()\n",
    "\n",
    "# Connect callbacks\n",
    "control_mode.observe(update_plot, 'value')\n",
    "turning_radius_slider.observe(update_plot, 'value')\n",
    "inner_angle_slider.observe(update_plot, 'value')\n",
    "track_width_slider.observe(update_plot, 'value')\n",
    "wheelbase_slider.observe(update_plot, 'value')\n",
    "steering_ratio_slider.observe(update_plot, 'value')\n",
    "show_turning_circle.observe(update_plot, 'value')\n",
    "show_steering_arms.observe(update_plot, 'value')\n",
    "reset_button.on_click(reset_parameters)\n",
    "\n",
    "steering_arm_slider.observe(update_plot, 'value')\n",
    "rack_width_slider.observe(update_plot, 'value')\n",
    "beta_angle_slider.observe(update_plot, 'value')\n",
    "\n",
    "def create_wheel_geometry_fig(kingpin_angle, caster_angle, scrub_radius, steer_angle):\n",
    "    \"\"\"Create a 3D figure showing wheel geometry with steering parameters\"\"\"\n",
    "    # Create a new 3D figure\n",
    "    wheel_fig = go.Figure()\n",
    "    \n",
    "    # Convert angles to radians\n",
    "    kingpin_rad = np.deg2rad(kingpin_angle)\n",
    "    caster_rad = np.deg2rad(caster_angle)\n",
    "    steer_rad = np.deg2rad(steer_angle)\n",
    "    \n",
    "    # Wheel dimensions\n",
    "    wheel_radius = 0.3\n",
    "    wheel_width = 0.2\n",
    "    \n",
    "    # Wheel center position (at the ground)\n",
    "    wheel_x = 0\n",
    "    wheel_y = 0\n",
    "    wheel_z = wheel_radius\n",
    "    \n",
    "    # Create points for the wheel (circle in XZ plane)\n",
    "    theta = np.linspace(0, 2*np.pi, 100)\n",
    "    rim_x = wheel_x + wheel_radius * np.cos(theta)\n",
    "    rim_y = np.zeros_like(theta) + wheel_y\n",
    "    rim_z = wheel_z + wheel_radius * np.sin(theta)\n",
    "    \n",
    "    # Create points for the wheel width (side profile)\n",
    "    side_y = np.linspace(-wheel_width/2, wheel_width/2, 2)\n",
    "    side_x = np.zeros_like(side_y) + wheel_x\n",
    "    side_z = np.zeros_like(side_y) + wheel_z\n",
    "    \n",
    "    # Rotate the wheel based on steering angle (around Z axis)\n",
    "    rotated_rim_x = rim_x * np.cos(steer_rad) - rim_y * np.sin(steer_rad)\n",
    "    rotated_rim_y = rim_x * np.sin(steer_rad) + rim_y * np.cos(steer_rad)\n",
    "    \n",
    "    rotated_side_x = side_x * np.cos(steer_rad) - side_y * np.sin(steer_rad)\n",
    "    rotated_side_y = side_x * np.sin(steer_rad) + side_y * np.cos(steer_rad)\n",
    "    \n",
    "    # Add the wheel rim and side profile\n",
    "    wheel_fig.add_trace(\n",
    "        go.Scatter3d(\n",
    "            x=rotated_rim_x, y=rotated_rim_y, z=rim_z,\n",
    "            mode='lines',\n",
    "            line=dict(color='black', width=6),\n",
    "            name='Wheel Rim'\n",
    "        )\n",
    "    )\n",
    "    \n",
    "    # Define kingpin axis\n",
    "    # Start at the top of the suspension (above wheel center)\n",
    "    kingpin_top_x = 0\n",
    "    kingpin_top_y = 0\n",
    "    kingpin_top_z = wheel_radius * 2\n",
    "    \n",
    "    # Kingpin axis points down and inward (positive Y is inward in this model)\n",
    "    # Length of the kingpin axis\n",
    "    kingpin_length = wheel_radius * 2.2\n",
    "    \n",
    "    # Calculate bottom point of kingpin axis\n",
    "    kingpin_bottom_x = kingpin_top_x + kingpin_length * np.sin(kingpin_rad) * np.sin(caster_rad)\n",
    "    kingpin_bottom_y = kingpin_top_y + kingpin_length * np.sin(kingpin_rad) * np.cos(caster_rad)\n",
    "    kingpin_bottom_z = kingpin_top_z - kingpin_length * np.cos(kingpin_rad)\n",
    "    \n",
    "    # Create kingpin axis\n",
    "    wheel_fig.add_trace(\n",
    "        go.Scatter3d(\n",
    "            x=[kingpin_top_x, kingpin_bottom_x],\n",
    "            y=[kingpin_top_y, kingpin_bottom_y],\n",
    "            z=[kingpin_top_z, kingpin_bottom_z],\n",
    "            mode='lines',\n",
    "            line=dict(color='red', width=5),\n",
    "            name='Kingpin Axis'\n",
    "        )\n",
    "    )\n",
    "    \n",
    "    # Add steering axis\n",
    "    wheel_fig.add_trace(\n",
    "        go.Scatter3d(\n",
    "            x=[0, 0],\n",
    "            y=[0, 0],\n",
    "            z=[0, wheel_radius * 2],\n",
    "            mode='lines',\n",
    "            line=dict(color='blue', width=5, dash='dash'),\n",
    "            name='Steering Axis'\n",
    "        )\n",
    "    )\n",
    "    \n",
    "    # Add scrub radius visualization\n",
    "    contact_point_x = wheel_radius * np.sin(steer_rad)\n",
    "    contact_point_y = wheel_radius * np.cos(steer_rad)\n",
    "    contact_point_z = 0\n",
    "    \n",
    "    # Where kingpin axis intersects the ground\n",
    "    kingpin_ground_x = kingpin_bottom_x\n",
    "    kingpin_ground_y = kingpin_bottom_y\n",
    "    kingpin_ground_z = 0\n",
    "    \n",
    "    # Add contact point\n",
    "    wheel_fig.add_trace(\n",
    "        go.Scatter3d(\n",
    "            x=[contact_point_x],\n",
    "            y=[contact_point_y],\n",
    "            z=[contact_point_z],\n",
    "            mode='markers',\n",
    "            marker=dict(color='green', size=8),\n",
    "            name='Contact Point'\n",
    "        )\n",
    "    )\n",
    "    \n",
    "    # Add kingpin intersection with ground\n",
    "    wheel_fig.add_trace(\n",
    "        go.Scatter3d(\n",
    "            x=[kingpin_ground_x],\n",
    "            y=[kingpin_ground_y],\n",
    "            z=[kingpin_ground_z],\n",
    "            mode='markers',\n",
    "            marker=dict(color='orange', size=8),\n",
    "            name='Kingpin Ground Point'\n",
    "        )\n",
    "    )\n",
    "    \n",
    "    # Add scrub radius line\n",
    "    wheel_fig.add_trace(\n",
    "        go.Scatter3d(\n",
    "            x=[contact_point_x, kingpin_ground_x],\n",
    "            y=[contact_point_y, kingpin_ground_y],\n",
    "            z=[contact_point_z, kingpin_ground_z],\n",
    "            mode='lines',\n",
    "            line=dict(color='purple', width=4),\n",
    "            name='Scrub Radius'\n",
    "        )\n",
    "    )\n",
    "    \n",
    "    # Add caster offset visualization\n",
    "    wheel_fig.add_trace(\n",
    "        go.Scatter3d(\n",
    "            x=[kingpin_top_x, kingpin_top_x],\n",
    "            y=[kingpin_top_y, kingpin_bottom_y],\n",
    "            z=[kingpin_top_z, kingpin_top_z],\n",
    "            mode='lines',\n",
    "            line=dict(color='orange', width=4, dash='dot'),\n",
    "            name='Caster Offset'\n",
    "        )\n",
    "    )\n",
    "    \n",
    "    # Configure the layout\n",
    "    wheel_fig.update_layout(\n",
    "        scene=dict(\n",
    "            xaxis_title='X',\n",
    "            yaxis_title='Y',\n",
    "            zaxis_title='Z',\n",
    "            aspectmode='data'\n",
    "        ),\n",
    "        margin=dict(l=0, r=0, b=0, t=30),\n",
    "        scene_camera=dict(\n",
    "            eye=dict(x=1.5, y=1.5, z=1.0)\n",
    "        ),\n",
    "        title=\"3D Wheel Geometry\"\n",
    "    )\n",
    "    \n",
    "    return wheel_fig\n",
    "\n",
    "# Create initial 3D wheel geometry\n",
    "wheel_3d_fig = create_wheel_geometry_fig(kingpin_inclination, caster_angle, scrub_radius, inner_angle_init)\n",
    "\n",
    "# Replace the placeholder with the 3D wheel geometry in the subplot\n",
    "fig.add_trace(\n",
    "    go.Scatter(x=[0], y=[0], mode='text', \n",
    "               text=[\"Loading 3D wheel geometry...\"],\n",
    "               textposition=\"middle center\",\n",
    "               showlegend=False),\n",
    "    row=1, col=3\n",
    ")\n",
    "\n",
    "# Update the update_plot function to update the 3D wheel geometry\n",
    "def update_plot(change=None):\n",
    "    global wheelbase, track_width, turning_radius, steering_ratio, wheel_3d_fig\n",
    "    \n",
    "    # Get values from sliders\n",
    "    wheelbase = wheelbase_slider.value\n",
    "    track_width = track_width_slider.value\n",
    "    steering_ratio = steering_ratio_slider.value\n",
    "    \n",
    "    # Keep existing code here...\n",
    "    \n",
    "    # After updating all the other plots, update the 3D wheel geometry\n",
    "    # Create new 3D wheel geometry with updated angles\n",
    "    wheel_3d_fig = create_wheel_geometry_fig(kingpin_inclination, caster_angle, scrub_radius, inner_angle)\n",
    "    \n",
    "    # The rest of your existing update_plot function...\n",
    "\n",
    "# Add new sliders for wheel geometry parameters\n",
    "kingpin_slider = widgets.FloatSlider(\n",
    "    value=kingpin_inclination,\n",
    "    min=0.0,\n",
    "    max=20.0,\n",
    "    step=0.5,\n",
    "    description='Kingpin Incl. (°):',\n",
    "    disabled=False,\n",
    "    continuous_update=True,\n",
    "    orientation='horizontal',\n",
    "    readout=True,\n",
    "    readout_format='.1f',\n",
    ")\n",
    "\n",
    "caster_slider = widgets.FloatSlider(\n",
    "    value=caster_angle,\n",
    "    min=0.0,\n",
    "    max=15.0,\n",
    "    step=0.5,\n",
    "    description='Caster Angle (°):',\n",
    "    disabled=False,\n",
    "    continuous_update=True,\n",
    "    orientation='horizontal',\n",
    "    readout=True,\n",
    "    readout_format='.1f',\n",
    ")\n",
    "\n",
    "scrub_radius_slider = widgets.FloatSlider(\n",
    "    value=scrub_radius,\n",
    "    min=-0.1,\n",
    "    max=0.2,\n",
    "    step=0.01,\n",
    "    description='Scrub Radius (m):',\n",
    "    disabled=False,\n",
    "    continuous_update=True,\n",
    "    orientation='horizontal',\n",
    "    readout=True,\n",
    "    readout_format='.2f',\n",
    ")\n",
    "\n",
    "# Update the wheel geometry when sliders change\n",
    "kingpin_slider.observe(update_plot, 'value')\n",
    "caster_slider.observe(update_plot, 'value')\n",
    "scrub_radius_slider.observe(update_plot, 'value')\n",
    "\n",
    "# Add a button to open the 3D view in a new window\n",
    "view_3d_button = widgets.Button(\n",
    "    description='Open 3D View',\n",
    "    disabled=False,\n",
    "    button_style='info',\n",
    "    tooltip='Open 3D wheel geometry in a separate window',\n",
    "    icon='cube'\n",
    ")\n",
    "\n",
    "def open_3d_view(b):\n",
    "    \"\"\"Open the 3D wheel geometry in a new window\"\"\"\n",
    "    # Create a new figure with current parameters\n",
    "    new_fig = create_wheel_geometry_fig(kingpin_slider.value, caster_slider.value, \n",
    "                                        scrub_radius_slider.value, inner_angle_slider.value)\n",
    "    new_fig.update_layout(height=600, width=800)\n",
    "    new_fig.show()\n",
    "\n",
    "view_3d_button.on_click(open_3d_view)\n",
    "\n",
    "\n",
    "\n",
    "# Add the button to controls1\n",
    "controls1 = widgets.HBox([control_mode, reset_button, view_3d_button])\n",
    "controls2 = widgets.HBox([turning_radius_slider, inner_angle_slider])\n",
    "controls3 = widgets.HBox([track_width_slider, wheelbase_slider])\n",
    "controls4 = widgets.HBox([steering_ratio_slider, widgets.HBox([show_turning_circle, show_steering_arms])])\n",
    "controls5 = widgets.HBox([steering_arm_slider, rack_width_slider, beta_angle_slider])\n",
    "controls = widgets.VBox([controls1, controls2, controls3, controls4, controls5])\n",
    "\n",
    "display(controls)\n",
    "fig.show()"
   ]
  }
 ],
 "metadata": {
  "kernelspec": {
   "display_name": "Python 3",
   "language": "python",
   "name": "python3"
  },
  "language_info": {
   "codemirror_mode": {
    "name": "ipython",
    "version": 3
   },
   "file_extension": ".py",
   "mimetype": "text/x-python",
   "name": "python",
   "nbconvert_exporter": "python",
   "pygments_lexer": "ipython3",
   "version": "3.13.2"
  }
 },
 "nbformat": 4,
 "nbformat_minor": 5
}
